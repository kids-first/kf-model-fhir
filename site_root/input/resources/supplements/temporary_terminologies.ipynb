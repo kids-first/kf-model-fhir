{
 "cells": [
  {
   "cell_type": "code",
   "execution_count": null,
   "metadata": {},
   "outputs": [],
   "source": [
    "from copy import deepcopy\n",
    "import json\n",
    "\n",
    "import pandas as pd\n",
    "\n",
    "DATA_DIR = 'data'"
   ]
  },
  {
   "cell_type": "code",
   "execution_count": null,
   "metadata": {},
   "outputs": [],
   "source": [
    "# Define template payloads\n",
    "CS_TEMPLATE = {\n",
    "    'resourceType': 'CodeSystem',\n",
    "    'status': 'draft',\n",
    "    'experimental': False,\n",
    "    'hierarchyMeaning': 'is-a',\n",
    "    'compositional': False,\n",
    "    'content': 'fragment',\n",
    "    'concept': []\n",
    "}"
   ]
  },
  {
   "cell_type": "markdown",
   "metadata": {},
   "source": [
    "# 1. PCGC"
   ]
  },
  {
   "cell_type": "markdown",
   "metadata": {},
   "source": [
    "## 1.1 Phenotype"
   ]
  },
  {
   "cell_type": "markdown",
   "metadata": {},
   "source": [
    "### 1.1.1 HP"
   ]
  },
  {
   "cell_type": "code",
   "execution_count": null,
   "metadata": {},
   "outputs": [],
   "source": [
    "# Copy template\n",
    "cs_hp = deepcopy(CS_TEMPLATE)\n",
    "\n",
    "# Set metadata\n",
    "cs_hp['id'] = 'hp'\n",
    "cs_hp['url'] = 'http://purl.obolibrary.org/obo/hp.owl'\n",
    "cs_hp['name'] = 'http://purl.obolibrary.org/obo/hp.owl'\n",
    "cs_hp['title'] = 'Human Phenotype Ontology'"
   ]
  },
  {
   "cell_type": "code",
   "execution_count": null,
   "metadata": {},
   "outputs": [],
   "source": [
    "# Read in phenotype codes\n",
    "file_path = f'{DATA_DIR}/pcgc_ph_codes.tsv'\n",
    "ph_codes = pd.read_csv(file_path, sep='\\t')"
   ]
  },
  {
   "cell_type": "code",
   "execution_count": null,
   "metadata": {},
   "outputs": [],
   "source": [
    "# Populate concept\n",
    "for i, row in ph_codes.iterrows():\n",
    "    if row.hpo_id_phenotype == 'No Match':\n",
    "        continue\n",
    "    cs_hp['concept'].append({\n",
    "        'code': row.hpo_id_phenotype,\n",
    "        'display': row.source_text_phenotype\n",
    "    })\n",
    "    \n",
    "cs_hp['count'] = len(cs_hp['concept'])"
   ]
  },
  {
   "cell_type": "code",
   "execution_count": null,
   "metadata": {},
   "outputs": [],
   "source": [
    "# Output to JSON\n",
    "with open('CodeSystem-hp.json', 'w') as f:\n",
    "    json.dump(cs_hp, f, indent=2)"
   ]
  },
  {
   "cell_type": "markdown",
   "metadata": {},
   "source": [
    "## 1.2 Diagnosis"
   ]
  },
  {
   "cell_type": "code",
   "execution_count": null,
   "metadata": {},
   "outputs": [],
   "source": [
    "# Read in phenotype codes\n",
    "file_path = f'{DATA_DIR}/pcgc_dg_codes.tsv'\n",
    "dg_codes = pd.read_csv(file_path, sep='\\t')"
   ]
  },
  {
   "cell_type": "markdown",
   "metadata": {},
   "source": [
    "### 1.2.1 MONDO"
   ]
  },
  {
   "cell_type": "code",
   "execution_count": null,
   "metadata": {},
   "outputs": [],
   "source": [
    "# Copy template\n",
    "cs_mondo = deepcopy(CS_TEMPLATE)\n",
    "\n",
    "# Set metadata\n",
    "cs_mondo['id'] = 'mondo'\n",
    "cs_mondo['url'] = 'http://purl.obolibrary.org/obo/mondo.owl'\n",
    "cs_mondo['name'] = 'http://purl.obolibrary.org/obo/mondo.owl'\n",
    "cs_mondo['title'] = 'Mondo Disease Ontology'"
   ]
  },
  {
   "cell_type": "code",
   "execution_count": null,
   "metadata": {},
   "outputs": [],
   "source": [
    "# Populate concept\n",
    "for i, row in dg_codes[[\n",
    "        'source_text_diagnosis', \n",
    "        'mondo_id_diagnosis'\n",
    "    ]].iterrows():\n",
    "    if row.mondo_id_diagnosis == 'No Match':\n",
    "        continue\n",
    "    cs_mondo['concept'].append({\n",
    "        'code': row.mondo_id_diagnosis,\n",
    "        'display': row.source_text_diagnosis\n",
    "    })\n",
    "    \n",
    "cs_mondo['count'] = len(cs_mondo['concept'])"
   ]
  },
  {
   "cell_type": "code",
   "execution_count": null,
   "metadata": {},
   "outputs": [],
   "source": [
    "# Output to JSON\n",
    "with open('CodeSystem-mondo.json', 'w') as f:\n",
    "    json.dump(cs_mondo, f, indent=2)"
   ]
  },
  {
   "cell_type": "markdown",
   "metadata": {},
   "source": [
    "### 1.2.2 NCIt"
   ]
  },
  {
   "cell_type": "code",
   "execution_count": null,
   "metadata": {},
   "outputs": [],
   "source": [
    "# Copy template\n",
    "cs_ncit = deepcopy(CS_TEMPLATE)\n",
    "\n",
    "# Set metadata\n",
    "cs_ncit['id'] = 'ncit'\n",
    "cs_ncit['url'] = 'http://purl.obolibrary.org/obo/ncit.owl'\n",
    "cs_ncit['name'] = 'http://purl.obolibrary.org/obo/ncit.owl'\n",
    "cs_ncit['title'] = 'NCI Thesaurus'"
   ]
  },
  {
   "cell_type": "code",
   "execution_count": null,
   "metadata": {},
   "outputs": [],
   "source": [
    "# Populate concept\n",
    "for i, row in dg_codes[[\n",
    "        'source_text_diagnosis', \n",
    "        'ncit_id_diagnosis'\n",
    "    ]].iterrows():\n",
    "    if row.ncit_id_diagnosis == 'No Match':\n",
    "        continue\n",
    "    cs_ncit['concept'].append({\n",
    "        'code': row.ncit_id_diagnosis,\n",
    "        'display': row.source_text_diagnosis\n",
    "    })\n",
    "    \n",
    "cs_ncit['count'] = len(cs_ncit['concept'])"
   ]
  },
  {
   "cell_type": "code",
   "execution_count": null,
   "metadata": {},
   "outputs": [],
   "source": [
    "# Output to JSON\n",
    "with open('CodeSystem-ncit.json', 'w') as f:\n",
    "    json.dump(cs_ncit, f, indent=2)"
   ]
  },
  {
   "cell_type": "markdown",
   "metadata": {},
   "source": [
    "## 1.3 Vital Status"
   ]
  },
  {
   "cell_type": "markdown",
   "metadata": {},
   "source": [
    "### 1.3.1 SNOMED CT"
   ]
  },
  {
   "cell_type": "code",
   "execution_count": null,
   "metadata": {},
   "outputs": [],
   "source": [
    "# Copy template\n",
    "cs_sct = deepcopy(CS_TEMPLATE)\n",
    "\n",
    "# Set metadata\n",
    "cs_sct['id'] = 'sct'\n",
    "cs_sct['url'] = 'http://snomed.info/sct'\n",
    "cs_sct['name'] = 'http://snomed.info/sct'\n",
    "cs_sct['title'] = 'SNOMED CT'"
   ]
  },
  {
   "cell_type": "code",
   "execution_count": null,
   "metadata": {},
   "outputs": [],
   "source": [
    "cs_sct['concept'] = cs_sct['concept'] + [\n",
    "    {\n",
    "        'code': '438949009',\n",
    "        'display': 'Alive'\n",
    "    },\n",
    "    {\n",
    "        'code': '419099009',\n",
    "        'display': 'Dead'\n",
    "    }\n",
    "]\n",
    "cs_sct['count'] = len(cs_sct['concept'])"
   ]
  },
  {
   "cell_type": "code",
   "execution_count": null,
   "metadata": {},
   "outputs": [],
   "source": [
    "# Output to JSON\n",
    "with open('CodeSystem-sct.json', 'w') as f:\n",
    "    json.dump(cs_sct, f, indent=2)"
   ]
  },
  {
   "cell_type": "markdown",
   "metadata": {},
   "source": [
    "# 2. Synthea"
   ]
  },
  {
   "cell_type": "markdown",
   "metadata": {},
   "source": [
    "## 2.1 SNOMED CT"
   ]
  },
  {
   "cell_type": "code",
   "execution_count": null,
   "metadata": {},
   "outputs": [],
   "source": [
    "with open(f'{DATA_DIR}/sct.json') as f:\n",
    "    concept_sct = json.load(f)\n",
    "    cs_sct['concept'] += concept_sct\n",
    "cs_sct['count'] = len(cs_sct['concept'])"
   ]
  },
  {
   "cell_type": "code",
   "execution_count": null,
   "metadata": {},
   "outputs": [],
   "source": [
    "# Output to JSON\n",
    "with open('CodeSystem-sct.json', 'w') as f:\n",
    "    json.dump(cs_sct, f, indent=2)"
   ]
  },
  {
   "cell_type": "markdown",
   "metadata": {},
   "source": [
    "## 2.2 LOINC"
   ]
  },
  {
   "cell_type": "code",
   "execution_count": null,
   "metadata": {},
   "outputs": [],
   "source": [
    "# Copy template\n",
    "cs_loinc = deepcopy(CS_TEMPLATE)\n",
    "\n",
    "# Set metadata\n",
    "cs_loinc['id'] = 'loinc'\n",
    "cs_loinc['url'] = 'http://loinc.org'\n",
    "cs_loinc['name'] = 'http://loinc.org'\n",
    "cs_loinc['title'] = 'LOINC'"
   ]
  },
  {
   "cell_type": "code",
   "execution_count": null,
   "metadata": {},
   "outputs": [],
   "source": [
    "with open(f'{DATA_DIR}/loinc.json') as f:\n",
    "    concept_loinc = json.load(f)\n",
    "    cs_loinc['concept'] += concept_loinc\n",
    "cs_loinc['count'] = len(cs_loinc['concept'])"
   ]
  },
  {
   "cell_type": "code",
   "execution_count": null,
   "metadata": {},
   "outputs": [],
   "source": [
    "# Output to JSON\n",
    "with open('CodeSystem-loinc.json', 'w') as f:\n",
    "    json.dump(cs_loinc, f, indent=2)"
   ]
  },
  {
   "cell_type": "code",
   "execution_count": null,
   "metadata": {},
   "outputs": [],
   "source": []
  }
 ],
 "metadata": {
  "kernelspec": {
   "display_name": "Python 3",
   "language": "python",
   "name": "python3"
  },
  "language_info": {
   "codemirror_mode": {
    "name": "ipython",
    "version": 3
   },
   "file_extension": ".py",
   "mimetype": "text/x-python",
   "name": "python",
   "nbconvert_exporter": "python",
   "pygments_lexer": "ipython3",
   "version": "3.7.5"
  }
 },
 "nbformat": 4,
 "nbformat_minor": 4
}
