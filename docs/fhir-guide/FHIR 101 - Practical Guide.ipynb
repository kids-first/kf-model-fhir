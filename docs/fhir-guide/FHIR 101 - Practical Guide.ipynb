{
 "cells": [
  {
   "cell_type": "markdown",
   "metadata": {},
   "source": [
    "# 🔥 FHIR 101 - A Practical Guide"
   ]
  },
  {
   "cell_type": "markdown",
   "metadata": {
    "heading_collapsed": true
   },
   "source": [
    "## Notebook Setup\n",
    "If you haven't already setup your development environment please do so by following the instructions on the `kf-model-fhir` GitHub repository's [README](https://github.com/kids-first/kf-model-fhir#installation)\n",
    "\n",
    "Next, run the cell below and then refresh this page in the browser."
   ]
  },
  {
   "cell_type": "code",
   "execution_count": 1,
   "metadata": {
    "hidden": true
   },
   "outputs": [],
   "source": [
    "%%capture\n",
    "%%bash\n",
    "pip install jupyter jupyterthemes jupyter_contrib_nbextensions\n",
    "jupyter contrib nbextension install\n",
    "jupyter nbextension enable collapsible_headings/main codefolding/main toc2/main\n",
    "jt -t solarizedl -cursw 3 -cellw 1000 -tf sourcesans"
   ]
  },
  {
   "cell_type": "markdown",
   "metadata": {
    "heading_collapsed": true
   },
   "source": [
    "## Hello! What is this Guide?"
   ]
  },
  {
   "cell_type": "markdown",
   "metadata": {
    "hidden": true
   },
   "source": [
    "If any of the following statements applies to you or you've had any of the questions below, then this guide is for you!\n",
    "- 🤷‍♀️I've heard the term FHIR. But is it a server? A database? A data model? Rapid oxidation?\n",
    "- 🙀I understand what FHIR is but have no idea how to implement it!\n",
    "- 😕I tried reading through [HL7 FHIR](https://www.hl7.org/fhir/) but it is confusing and difficult to navigate\n",
    "- 🤔How does FHIR modeling relate to relational databases?   \n",
    "\n",
    "The primary purpose of this notebook is to quickly get you educated on what FHIR is and walk you through practical exercises that will teach you the FHIR basics:\n",
    "1. Create and validate a FHIR data model for an entity\n",
    "2. Add/remove simple and complex attributes to/from an entity in the model\n",
    "3. Make entity attributes searchable in the FHIR server\n",
    "4. Deploy the FHIR data model into a FHIR server\n",
    "5. Load data into the FHIR server which conforms to the model\n",
    "6. Search for data in the FHIR server\n",
    "\n",
    "**If you don't care to know background and want to get right to development, head to the Tutorial section!**"
   ]
  },
  {
   "cell_type": "markdown",
   "metadata": {
    "hidden": true
   },
   "source": [
    "### Icons in this Guide\n",
    "\n",
    "📘A link to a useful external reference related to the section the icon appears in\n",
    "\n",
    "⚡️A key take away for the section the icon appears in "
   ]
  },
  {
   "cell_type": "markdown",
   "metadata": {
    "heading_collapsed": true
   },
   "source": [
    "## What is FHIR"
   ]
  },
  {
   "cell_type": "markdown",
   "metadata": {
    "hidden": true
   },
   "source": [
    "Let's start with understanding exactly what FHIR is. FHIR stands for `Fast Healthcare Interoperability Resources` and was created by the organization `Health Level 7` or `HL7`.  \n",
    "\n",
    "There is a large active international community that helps develop the specification. You can read more about it here: \n",
    "\n",
    "📘Learn more about [FHIR](http://hl7.org/fhir/index.html)\n",
    "\n",
    "📘Learn more about [HL7](http://hl7.org)"
   ]
  },
  {
   "cell_type": "markdown",
   "metadata": {
    "hidden": true
   },
   "source": [
    "### FHIR Is ...\n",
    "A specification that includes all of the following:\n",
    "- A loosely defined [base data model](https://www.hl7.org/fhir/resourcelist.html) describing things in healthcare (e.g. Patient, Specimen) and how they relate to     each other. The base data model also includes definitions and restrictions on server functionality\n",
    "- How to extend or change the base data model to fit different healthcare use cases\n",
    "- A database agnostic domain specific language (DSL) for developing files that make up the FHIR data model\n",
    "- A [RESTful web API specification](https://www.hl7.org/fhir/exchange-module.html) to create, read, update, delete, and search FHIR data in a FHIR server\n",
    "- A RESTful query language that describes how to construct search queries for a FHIR server\n",
    "- Standards for how consumers of FHIR data should be authenticated and authorized access to health data."
   ]
  },
  {
   "cell_type": "markdown",
   "metadata": {
    "hidden": true
   },
   "source": [
    "### FHIR is NOT ...\n",
    "- A database\n",
    "- A database schema\n",
    "- A server\n",
    "\n",
    "It is important to understand that the FHIR specification is completely technology agnostic. Thus, it does not depend on programming languages or include things like relational database schemas. It is up to the implementers to decide how to implement the data model (i.e. relational database, nosql database, etc) and RESTful API. "
   ]
  },
  {
   "cell_type": "markdown",
   "metadata": {
    "heading_collapsed": true
   },
   "source": [
    "## Concepts"
   ]
  },
  {
   "cell_type": "markdown",
   "metadata": {
    "hidden": true
   },
   "source": [
    "The FHIR spec is large and daunting, so we cannot cover all of the major concepts in FHIR. However, this section and the next should give you all you need to understand what you're doing in the tutorial. \n",
    "\n",
    "📘A good resource to learn [FHIR Basics](https://smilecdr.com/docs/tutorial_and_tour/fhir_basics.html#fhir-basics)"
   ]
  },
  {
   "cell_type": "markdown",
   "metadata": {
    "heading_collapsed": true,
    "hidden": true
   },
   "source": [
    "### FHIR Resource "
   ]
  },
  {
   "cell_type": "markdown",
   "metadata": {
    "hidden": true
   },
   "source": [
    "The term \"Resource\" can be confusing as it is sometimes used to describe different concepts in FHIR. \n",
    "\n",
    "This diagram should help illustrate the difference between a Resource, type of Resource, and group/category of Resource types:\n",
    "\n",
    "![FHIR Concepts](static/images/resource-breakdown.png)"
   ]
  },
  {
   "cell_type": "markdown",
   "metadata": {
    "hidden": true
   },
   "source": [
    "#### Resource Groups, Types, and Instances\n",
    "**Resource** - an instance of a type of thing. A Resource has an identifier. Example resources are:\n",
    "- Patient `PT-001`\n",
    "- Specimen `SP-001`\n",
    "- StructureDefinition `KidsFirst-Patient`\n",
    "- SearchParameter `patient-race`\n",
    "- ...\n",
    "\n",
    "**Resource Type** - a type of a thing. Example resource types are:\n",
    "- Patient\n",
    "- Specimen\n",
    "- StructureDefinition\n",
    "- SearchParameter\n",
    "- ...\n",
    "\n",
    "**Resource Type Category/Group** - a logical grouping of Resources. Examples are:\n",
    "- Conformance Resources\n",
    "- Terminology Resources\n",
    "- ...\n",
    "\n",
    "The most important categories of resource types for the purposes of this tutorial are `Conformance Resources` and `Terminology Resources` because these are the ones we will create in order to build a FHIR data model. \n",
    "\n",
    "**A `Patient` resource might look like this:**\n",
    "```json\n",
    "{\n",
    "    \"resourceType\":\"Patient\",\n",
    "    \"id\": \"PT-001\",\n",
    "    \"meta\": {\n",
    "        \"profile\": [\"http://fhir.kids-first.io/StructureDefinition/Patient\"]\n",
    "    },\n",
    "    \"gender\": \"male\",\n",
    "    \"name\": [\n",
    "        {\n",
    "            \"use\": \"usual\",\n",
    "            \"family\":\"Smith\",\n",
    "            \"given\": \"Jack\",\n",
    "            \"period\": {\n",
    "                \"end\": \"2001-01-01\"\n",
    "            }\n",
    "        }\n",
    "    ]\n",
    "}\n",
    "``` \n",
    "\n",
    "📘Learn more about [FHIR Resources](https://www.hl7.org/fhir/resource.html)"
   ]
  },
  {
   "cell_type": "markdown",
   "metadata": {
    "heading_collapsed": true,
    "hidden": true
   },
   "source": [
    "### FHIR Data Types"
   ]
  },
  {
   "cell_type": "markdown",
   "metadata": {
    "hidden": true
   },
   "source": [
    "FHIR resource models use a set of data types for holding their values. Data types can be primitive, meaning that they hold a simple value (typically a string, a number, etc.). Other data types are composite, meaning they are a structure containing several elements. Some examples are:\n",
    "\n",
    "**Primitive Data Types**\n",
    "\n",
    "- String - a string of text - `female`\n",
    "- Decimal - an abitrary precision float - `3.14`\n",
    "\n",
    "**Composite Data Types**\n",
    "\n",
    "- HumanName - A person's complete name, broken into individual parts\n",
    "```json\n",
    "{\n",
    "   \"family\": \"Smith\",\n",
    "   \"given\": [ \"John\", \"Frank\" ],\n",
    "   \"suffix\": [ \"Jr\" ]\n",
    "}\n",
    "```\n",
    "\n",
    "📘Learn about all [FHIR Data Types](https://www.hl7.org/fhir/datatypes.html)"
   ]
  },
  {
   "cell_type": "markdown",
   "metadata": {
    "heading_collapsed": true,
    "hidden": true
   },
   "source": [
    "### FHIR Versions"
   ]
  },
  {
   "cell_type": "markdown",
   "metadata": {
    "hidden": true
   },
   "source": [
    "Changes to the FHIR specification are tracked via different versions. A FHIR version has a name \n",
    "and a semantic version number. The biggest differences among versions are usually structural and content\n",
    "changes in the FHIR base model definitions.\n",
    "\n",
    "The most current and commonly used versions are:\n",
    "\n",
    "- STU3 or version 3.0.2\n",
    "- R4 or version 4.0.1\n",
    "\n",
    "**This tutorial will always use version R4**\n",
    "\n",
    "📘Learn more about [FHIR Versions](https://www.hl7.org/fhir/versions.html#versions)"
   ]
  },
  {
   "cell_type": "markdown",
   "metadata": {
    "heading_collapsed": true
   },
   "source": [
    "## Model Development"
   ]
  },
  {
   "cell_type": "markdown",
   "metadata": {
    "hidden": true
   },
   "source": [
    "What does it mean to develop a FHIR data model? Well, its not entirely different from developing any kind of data model. Developing a data model usually consists of the following steps: \n",
    "\n",
    "1. Define entities in the model and their attributes\n",
    "2. Define relationships between entities\n",
    "3. Define constraints on entity attributes (i.e. types, min/max, one of, etc)\n",
    "4. Define constraints on entity relationships (i.e. Specimen must have one Patient, DiagnosticReport must have one      Patient, etc.)\n",
    "5. Validate the model\n",
    "\n",
    "More concretely, developing a data model in FHIR means:\n",
    "1. Authoring JSON files containing `Conformance Resource` and `Terminology Resource` payloads\n",
    "2. Validating `Conformance Resource` and `Terminology Resource` using one of the standalone HL7 validation tools or POSTing the resource payload to a FHIR server"
   ]
  },
  {
   "cell_type": "markdown",
   "metadata": {
    "hidden": true
   },
   "source": [
    "⚡️**Key Take Away** - when we say \"model\" in FHIR, we are referring to `Conformance Resources` and `Terminology Resources`"
   ]
  },
  {
   "cell_type": "markdown",
   "metadata": {
    "heading_collapsed": true,
    "hidden": true
   },
   "source": [
    "### Conformance Resources"
   ]
  },
  {
   "cell_type": "markdown",
   "metadata": {
    "hidden": true
   },
   "source": [
    "There are several different types of `Conformance Resources` but the ones that are used most in FHIR model development are: \n",
    "\n",
    "- `StructureDefinition` - this resource captures steps 1 through 4 above for healthcare entities like `Patient`, `Specimen`, `DiagnosticReport`, etc.\n",
    "\n",
    "- `SearchParameter` - this resource is used to specify an attribute on an entity (Patient.gender) which can be used to search for instances of that entity on a FHIR server and what keyword/path (Patient.gender.code.value) should be used when searching.\n",
    "\n",
    "We will take a deep dive into both of these in the tutorial.\n",
    "\n",
    "📘Learn more about [Conformance Resources](https://www.hl7.org/fhir/conformance-module.html)"
   ]
  },
  {
   "cell_type": "markdown",
   "metadata": {
    "heading_collapsed": true,
    "hidden": true
   },
   "source": [
    "### Terminology Resources"
   ]
  },
  {
   "cell_type": "markdown",
   "metadata": {
    "hidden": true
   },
   "source": [
    "Some entity attributes might need to be constrained to a particular value set which may come from a particular terminology system (or ontology) which defines attributes, their set of valid values, and an alphanumeric code that uniquely identifies each value.\n",
    "\n",
    "For example, we may want to constrain the `bodySite` attribute on `Specimen` to only have values from the NCIT ontology's `Specimen Source Site` value set. We can do this by defining `Terminology Resource`s and referencing them in the `StructureDefinition` for `Specimen`.\n",
    "\n",
    "Types of `Terminology Resource`s are:\n",
    "\n",
    "- `CodeSystem` - describes an Ontology, Terminology, or Enumeration\n",
    "\n",
    "- `ValueSet` - specifies a set of code and values drawn from one or more code systems\n",
    "\n",
    "You will see a practical example of this later in the tutorial.\n",
    "\n",
    "📘Learn about [Terminology Resources](https://www.hl7.org/fhir/terminologies.html)"
   ]
  },
  {
   "cell_type": "markdown",
   "metadata": {
    "heading_collapsed": true,
    "hidden": true
   },
   "source": [
    "### Model Documentation"
   ]
  },
  {
   "cell_type": "markdown",
   "metadata": {
    "hidden": true
   },
   "source": [
    "#### Implementation Guide\n",
    "FHIR data models are documented in a static website called an Implementation Guide. It has a standard format and looks much like the HL7 FHIR website. Implementation Guides describe and visually illustrate:\n",
    "\n",
    "- The model's `StructureDefinition`s\n",
    "- The differences between the model's `StructureDefinition`s and the ones they extend\n",
    "- Example Resources for each `StructureDefinition`\n",
    "- The searchable attributes on each Resource\n",
    "\n",
    "There is also a FHIR resource, `ImplementationGuide`, which is a type of `Conformance Resource` used to store configuration information for generating the static site. \n",
    "\n",
    "#### Create and Publish\n",
    "Implementation Guides are generated using the [HL7 IG Publisher](https://confluence.hl7.org/display/FHIR/IG+Publisher+Documentation) Java CLI. The IG Publisher also fully validates the data model during its site generation process so it is often used as a model validation tool as well. The Kids First FHIR model uses it in this way.\n",
    "\n",
    "📘Learn more about Kids First [IG generation and model validation](https://github.com/kids-first/kf-model-fhir/blob/master/README.md) using IG Publisher "
   ]
  },
  {
   "cell_type": "markdown",
   "metadata": {
    "heading_collapsed": true,
    "hidden": true
   },
   "source": [
    "### Model Validation"
   ]
  },
  {
   "cell_type": "markdown",
   "metadata": {
    "hidden": true
   },
   "source": [
    "There are 2 primary ways to validate:\n",
    "\n",
    "1. Use the [HL7 IG Publisher](https://confluence.hl7.org/display/FHIR/IG+Publisher+Documentation) Java CLI\n",
    "2. Use a FHIR server\n",
    "    - POST StructureDefinitions to `/StructureDefinition` endpoint\n",
    "    - POST example Resources to `<resourceType>/$validate` endpoint\n",
    "\n",
    "The most thorough and standard way to validate a FHIR data model is to use the IG Publisher. The IG Publisher is under active development and is the most up to date in terms of its validation logic. However, since the IG Publisher tightly couples IG site generation with validation it can be complicated to use. \n",
    "\n",
    "The second method is easier but not standard. All compliant FHIR servers will implement basic validation logic, however, some servers may or may not implement additional validation/checks that the IG Publisher does.\n",
    "\n",
    "To keep things simple, we will use the second method of validation."
   ]
  },
  {
   "cell_type": "markdown",
   "metadata": {
    "hidden": true
   },
   "source": [
    "⚡️**Key Take Away** - the most thorough way to validate a FHIR data model is using the HL7 IG Publisher"
   ]
  },
  {
   "cell_type": "markdown",
   "metadata": {
    "heading_collapsed": true
   },
   "source": [
    "## Server Development"
   ]
  },
  {
   "cell_type": "markdown",
   "metadata": {
    "heading_collapsed": true,
    "hidden": true
   },
   "source": [
    "### Pick an Existing Solution\n",
    "You might have noticed that there are not many open source or free FHIR servers currently in development. This is likely due to a couple of factors:\n",
    "\n",
    "- The FHIR specification is rapidly evolving and the tooling around it is still in early stages of development. \n",
    "- Server development is hard \n",
    "\n",
    "In order to develop a compliant FHIR server you must: \n",
    "\n",
    "- Implement the FHIR model validation logic. This is not easy since a FHIR model is authored  \n",
    "in the FHIR DSL. The server must know how to parse the DSL (a.k.a conformance resources) and\n",
    "execute rules defined in them.\n",
    "- Implement a parser and query constructor for the FHIR RESTful query language - which is also custom/not based on any known standard. Additionally, the kinds of search queries that can be made with a FHIR search API are fairly rich and complex.\n",
    "\n",
    "### FHIR Server Solutions\n",
    "For these reasons it is best to select one of the existing FHIR server solutions rather than develop your own. From personal experience and a fair bit of research, the most promising ones are:\n",
    "\n",
    "<table style=\"bgcolor: none;\">\n",
    "    <tbody>\n",
    "        <tr>\n",
    "            <td style=\"border-right: 1px solid #cccccc; padding: 7px;\">\n",
    "                <a href=\"https://health-samurai.webflow.io/aidbox\">\n",
    "                    <img src=\"static/images/aidbox-logo.png\" alt=\"Health Samurai Aidbox\"/>\n",
    "                </a>\n",
    "            </td>\n",
    "            <td style=\"padding: 7px;\">\n",
    "                <a href=\"https://smilecdr.com\">\n",
    "                    <img src=\"static/images/smilecdr-logo.png\" alt=\"Smile CDR\"/>\n",
    "                </a>\n",
    "            </td>\n",
    "        </tr>\n",
    "    </tbody>\n",
    "</table>\n",
    "\n",
    "\n",
    "\n"
   ]
  },
  {
   "cell_type": "markdown",
   "metadata": {},
   "source": [
    "## Tutorial"
   ]
  },
  {
   "cell_type": "markdown",
   "metadata": {
    "heading_collapsed": true
   },
   "source": [
    "### Real World Use Case\n",
    "In this tutorial we will create a simple data model that is able to capture basic demographic information about Leukemia patients that have had a biosample drawn from them.  No protected health information [(PHI)](https://www.hipaajournal.com/considered-phi-hipaa/) data should be captured. In fact there should be no PHI attributes available anywhere in the model.\n",
    "\n",
    "At a minimum we want to capture:\n",
    "\n",
    "**Patient Attributes**\n",
    "- Gender (required)\n",
    "- Race (required)\n",
    "\n",
    "**Specimen Attributes**\n",
    "- The patient from whom the sample was drawn\n",
    "- Anatomical site or location on the body from which the sample was drawn\n",
    "- Composition - the type of sample - blood, tissue, saliva, etc.\n",
    "\n",
    "### What You'll Learn\n",
    "You will learn the following practical concepts in this tutorial:\n",
    "\n",
    "- How to create a new model for a FHIR resource by extending it's base model\n",
    "- How to add/remove attributes from the base model\n",
    "- How to add make attributes required\n",
    "- How to make an attribute searchable\n",
    "- How to add a coded attribute - or one that is restricted to an enumeration defined by an ontology\n",
    "- How to validate your model\n",
    "- How to document your model"
   ]
  },
  {
   "cell_type": "markdown",
   "metadata": {},
   "source": [
    "### Setup"
   ]
  },
  {
   "cell_type": "markdown",
   "metadata": {
    "heading_collapsed": true
   },
   "source": [
    "#### Requirements\n",
    "**FHIR Server**\n",
    "\n",
    "- We will use [HAPI](http://hapi.fhir.org/), the reference FHIR server, for this tutorial. \n",
    "\n",
    "**Base URL**\n",
    "\n",
    "- All HTTP requests will be sent to HAPI's base URL: http://10.10.1.191:8000\n",
    "\n",
    "**Model Development Editor**\n",
    "\n",
    "You will need something to author JSON formatted model files. Unfortunately there are almost no user friendly tools for this. Most model development is done in a code editor. This can be difficult as it requires the developer to unecessarily remember complex syntax of the FHIR DSL in order to create and edit model files.\n",
    "\n",
    "- **Forge** - is a [visual editor](https://simplifier.net/forge) for FHIR model development.     It does make some things easier, but it can be buggy and was natively developed for windows.   It is possible to [run it on OSX](http://docs.simplifier.net/forge/forgeInstall.html#running-on-macos). You can use it, but       explanation of how to use it is out   of the scope of this tutorial."
   ]
  },
  {
   "cell_type": "markdown",
   "metadata": {},
   "source": [
    "#### Development Environment\n",
    "Here we're going to import the code we need and complete the necessary setup which will be used later in the tutorial.\n",
    "\n",
    "You don't need to do this if you would like to use another HTTP client like `Postman` to interact with the FHIR server."
   ]
  },
  {
   "cell_type": "code",
   "execution_count": 2,
   "metadata": {},
   "outputs": [],
   "source": [
    "# Be sure to execute this cell so that we can use the client later\n",
    "from pprint import pprint\n",
    "from kf_model_fhir.client import FhirApiClient\n",
    "\n",
    "BASE_URL = 'http://10.10.1.191:8000'\n",
    "FHIR_VERSION = '4.0.0'\n",
    "client = FhirApiClient(base_url=BASE_URL, fhir_version=FHIR_VERSION)"
   ]
  },
  {
   "cell_type": "markdown",
   "metadata": {},
   "source": [
    "### Create a Patient Model"
   ]
  },
  {
   "cell_type": "markdown",
   "metadata": {},
   "source": [
    "The FHIR base model was intended to include many common healthcare entities\n",
    "like patients, biospecimens, etc. which cover 80% of healthcare data capture\n",
    "uses cases.\n",
    "\n",
    "It is rare to come across a healthcare entity that isn't represented in\n",
    "one of the existing FHIR resources. The remaining 20% of data capture use cases\n",
    "that are not satisfied by the base model can easily be satisfied by extending\n",
    "the base model.\n",
    "\n",
    "So we can start by looking at the base model's `Patient` `StructureDefinition` to\n",
    "see if anything needs to be modified."
   ]
  },
  {
   "cell_type": "markdown",
   "metadata": {},
   "source": [
    "The HL7 FHIR website has a nice visual representation of the `Patient`\n",
    "`StructureDefinition`:\n",
    "\n",
    "[![Patient StructureDefinition](static/images/patient-sd-visual.png)](https://www.hl7.org/fhir/patient.html#resource)\n",
    "📘Learn about the [symbol definitions in the view ^](http://hl7.org/fhir/StructureDefinition/contactpoint-area)\n",
    "\n",
    "We can already see that the `Patient` `StructureDefinition` has one attribute we want:\n",
    "\n",
    "- `gender`\n",
    "\n",
    "And many attributes that we'll want to **remove** because they represent PHI fields:\n",
    "- `name`\n",
    "- `telecom`\n",
    "- `address`\n",
    "- `birthDate`\n",
    "- `contactPoint`\n",
    "- `photo`"
   ]
  },
  {
   "cell_type": "markdown",
   "metadata": {},
   "source": [
    "### Start with a Template\n",
    "We've seen that StructureDefinitions are complex looking structures. It is difficult to remember what attributes are required and the exact structure. One way to create StructureDefinitions is to use an application like Forge which hides that complexity since you're working with a UI. \n",
    "\n",
    "However, if you don't have or want to use Forge, you can browse existing StructureDefinitions and pick one similar to what you need and use it as a template.  \n",
    "\n",
    "- 📘Implementation Guides, published on [HL7 FHIR IG registry](https://registry.fhir.org/guides) also have links to the pack of StructureDefinitions that are documented in the IG\n",
    "\n",
    "- 📘 StructureDefinitions are also published on [Simplifier.net](https://simplifier.net)"
   ]
  },
  {
   "cell_type": "markdown",
   "metadata": {},
   "source": [
    "#### Create Initial Patient StructureDefinition"
   ]
  },
  {
   "cell_type": "markdown",
   "metadata": {},
   "source": [
    "To create a custom data model for `Patient`, we must create a `StructureDefinition` which \n",
    "will extend the FHIR R4 `StructureDefinition` for `Patient`:"
   ]
  },
  {
   "cell_type": "code",
   "execution_count": 3,
   "metadata": {
    "code_folding": []
   },
   "outputs": [],
   "source": [
    "# Be sure to execute this cell so that we can use `patient_sd` later\n",
    "patient_sd = {\n",
    "    \"resourceType\": \"StructureDefinition\",\n",
    "    \"url\": \"http://fhir.kids-first.io/StructureDefinition/Patient\",\n",
    "    \"version\": \"0.1.0\",\n",
    "    \"name\": \"kids_first_research_participant\",\n",
    "    \"title\": \"Kids First Research Participant\",\n",
    "    \"status\": \"draft\",\n",
    "    \"publisher\": \"Kids First DRC\",\n",
    "    \"description\": \"The individual human or other organism.\",\n",
    "    \"fhirVersion\": \"4.0.0\",\n",
    "    \"kind\": \"resource\",\n",
    "    \"abstract\": False,\n",
    "    \"type\": \"Patient\",\n",
    "    \"baseDefinition\": \"http://hl7.org/fhir/StructureDefinition/Patient\",\n",
    "    \"derivation\": \"constraint\",\n",
    "    \"differential\": {\n",
    "        \"element\": [\n",
    "            {\n",
    "                \"id\": \"Patient\",\n",
    "                \"path\": \"Patient\"\n",
    "            },\n",
    "            {\n",
    "                \"id\": \"Patient.identifier\",\n",
    "                \"path\": \"Patient.identifier\",\n",
    "                \"mustSupport\": True\n",
    "            },\n",
    "            {\n",
    "                \"id\": \"Patient.name\",\n",
    "                \"path\": \"Patient.name\",\n",
    "                \"max\": \"0\"\n",
    "            },\n",
    "            {\n",
    "                \"id\": \"Patient.telecom\",\n",
    "                \"path\": \"Patient.telecom\",\n",
    "                \"max\": \"0\"\n",
    "            },\n",
    "            {\n",
    "                \"id\": \"Patient.address\",\n",
    "                \"path\": \"Patient.address\",\n",
    "                \"max\": \"0\"\n",
    "            },\n",
    "            {\n",
    "                \"id\": \"Patient.photo\",\n",
    "                \"path\": \"Patient.photo\",\n",
    "                \"max\": \"0\"\n",
    "            },\n",
    "            {\n",
    "                \"id\": \"Patient.contact\",\n",
    "                \"path\": \"Patient.contact\",\n",
    "                \"max\": \"0\"\n",
    "            },\n",
    "            {\n",
    "                \"id\": \"Patient.gender\",\n",
    "                \"path\": \"Patient.gender\",\n",
    "                \"min\": 1\n",
    "            }\n",
    "        ]\n",
    "    }\n",
    "}"
   ]
  },
  {
   "cell_type": "markdown",
   "metadata": {},
   "source": [
    "#### Anatomy of StructureDefinition"
   ]
  },
  {
   "cell_type": "markdown",
   "metadata": {},
   "source": [
    "We won't cover this in great detail but here are the important parts of the `StructureDefinition`:\n",
    "\n",
    "- `resourceType` - every FHIR resource has to declare what type it is\n",
    "- `baseDefinition` - this points to the `StructureDefinition` that the current one extends. It doesn't have to be one of the base FHIR definitions. It could be a `StructureDefinition`   from any FHIR data model. This is one of the features of FHIR that helps achieve interoperability.\n",
    "- `url` - this is a required unique identifier for a `Conformance Resource`. It is a stable [canonical identifier](http://hl7.org/fhir/resource.html#canonical) for the resource and is never intended to change regardless of which FHIR server uses it.\n",
    "- `fhirVersion` - the FHIR semantic version number is required. It will instruct  anything validating this resource to use R4 (4.0.0) validation logic.\n",
    "- `differential` or `snapshot` - Every `StructureDefinition` must have either a `differential` - a section of content that specifies differences from the base definition, or a `snapshot` section which specifies the full definition. For model development, you almost always use the `differential` section and not the `snapshot`."
   ]
  },
  {
   "cell_type": "markdown",
   "metadata": {},
   "source": [
    "📘Learn more about [StructureDefinition](http://hl7.org/fhir/structuredefinition.html) anatomy\n",
    "\n",
    "📘Learn more about [Resource identifiers](http://hl7.org/fhir/resource.html#identification)\n",
    "\n",
    "📘Browse [FHIR data models](https://simplifier.net/search?searchtype=Projects) from other projects"
   ]
  },
  {
   "cell_type": "markdown",
   "metadata": {},
   "source": [
    "### Remove Attributes"
   ]
  },
  {
   "cell_type": "markdown",
   "metadata": {},
   "source": [
    "We're going to start with the easiest modification first: removing an attribute from the base model. In fact, in our initial `Patient` `StructureDefinition`, we've already removed a handful of attributes. \n",
    "\n",
    "To remove an attribute you simply set its maximum cardinality to 0 in the `StructureDefinition` `differential` section: \n",
    "\n",
    "```json\n",
    "{\n",
    "    \"id\": \"Patient.name\",\n",
    "    \"path\": \"Patient.name\",\n",
    "    \"max\": \"0\"\n",
    "}\n",
    "```"
   ]
  },
  {
   "cell_type": "markdown",
   "metadata": {
    "heading_collapsed": true
   },
   "source": [
    "### Make an Attribute Required\n",
    "\n",
    "This is just as simple as removing an attribute. To make an attribute required you simply set its minimum cardinality to 1 in the `StructureDefinition` `differential` section::\n",
    "\n",
    "```json\n",
    "{\n",
    "    \"id\": \"Patient.gender\",\n",
    "    \"path\": \"Patient.gender\",\n",
    "    \"min\": 1\n",
    "}\n",
    "```"
   ]
  },
  {
   "cell_type": "markdown",
   "metadata": {},
   "source": [
    "### Validate the Patient Model"
   ]
  },
  {
   "cell_type": "markdown",
   "metadata": {},
   "source": [
    "Validating the Kids First Patient model means 2 things:\n",
    "\n",
    "1. Validate the Kids First `Patient` `StructureDefinition` - structure, syntax, cardinality, etc.\n",
    "2. Test both valid and invalid `Patient` Resources against the Kids First Patient `StructureDefinition`\n",
    "\n",
    "📘Learn more about [Resource Validation](https://www.hl7.org/fhir/validation.html)"
   ]
  },
  {
   "cell_type": "markdown",
   "metadata": {},
   "source": [
    "#### Validate StructureDefinition"
   ]
  },
  {
   "cell_type": "code",
   "execution_count": 4,
   "metadata": {},
   "outputs": [
    {
     "name": "stdout",
     "output_type": "stream",
     "text": [
      "DELETE http://fhir.kids-first.io/StructureDefinition/Patient\n",
      "{'request_url': 'http://10.10.1.191:8000/StructureDefinition',\n",
      " 'response': {'abstract': False,\n",
      "              'baseDefinition': 'http://hl7.org/fhir/StructureDefinition/Patient',\n",
      "              'derivation': 'constraint',\n",
      "              'description': 'The individual human or other organism.',\n",
      "              'differential': {'element': [{'id': 'Patient', 'path': 'Patient'},\n",
      "                                           {'id': 'Patient.identifier',\n",
      "                                            'mustSupport': True,\n",
      "                                            'path': 'Patient.identifier'},\n",
      "                                           {'id': 'Patient.name',\n",
      "                                            'max': '0',\n",
      "                                            'path': 'Patient.name'},\n",
      "                                           {'id': 'Patient.telecom',\n",
      "                                            'max': '0',\n",
      "                                            'path': 'Patient.telecom'},\n",
      "                                           {'id': 'Patient.address',\n",
      "                                            'max': '0',\n",
      "                                            'path': 'Patient.address'},\n",
      "                                           {'id': 'Patient.photo',\n",
      "                                            'max': '0',\n",
      "                                            'path': 'Patient.photo'},\n",
      "                                           {'id': 'Patient.contact',\n",
      "                                            'max': '0',\n",
      "                                            'path': 'Patient.contact'},\n",
      "                                           {'id': 'Patient.gender',\n",
      "                                            'min': 1,\n",
      "                                            'path': 'Patient.gender'}]},\n",
      "              'fhirVersion': '4.0.0',\n",
      "              'id': '4838',\n",
      "              'kind': 'resource',\n",
      "              'meta': {'lastUpdated': '2020-01-16T15:57:21.899+00:00',\n",
      "                       'versionId': '1'},\n",
      "              'name': 'kids_first_research_participant',\n",
      "              'publisher': 'Kids First DRC',\n",
      "              'resourceType': 'StructureDefinition',\n",
      "              'status': 'draft',\n",
      "              'title': 'Kids First Research Participant',\n",
      "              'type': 'Patient',\n",
      "              'url': 'http://fhir.kids-first.io/StructureDefinition/Patient',\n",
      "              'version': '0.1.0'},\n",
      " 'status_code': 201}\n",
      "POST http://10.10.1.191:8000/StructureDefinition, kids_first_research_participant\n"
     ]
    }
   ],
   "source": [
    "def validate(payload, expected_success=True, print_result=False):\n",
    "    rt = payload.get('resourceType')\n",
    "    endpoint = f'{client.base_url}/{rt}'\n",
    "\n",
    "    # Let's get into the habit of deleting existing instances before we create one\n",
    "    # The easiest way to do this is to search for StructureDefinitions by canonical URL and\n",
    "    # then delete what is returned (should only be 1 since canonical URL is a unique ID)\n",
    "    success = client.delete_all(endpoint, params={'url': payload['url']})\n",
    "    print(f'DELETE {payload[\"url\"]}')\n",
    "    assert success\n",
    "\n",
    "    # POST the Patient StructureDefinition /StructureDefinition endpoint\n",
    "    success, result = client.send_request('POST', endpoint, json=payload)\n",
    "    if print_result:\n",
    "        pprint(result)\n",
    "    print(f'POST {endpoint}, {payload.get(\"name\")}')\n",
    "    assert success == expected_success      \n",
    "\n",
    "validate(patient_sd, print_result=True)"
   ]
  },
  {
   "cell_type": "markdown",
   "metadata": {},
   "source": [
    "#### Create a Patient Resource"
   ]
  },
  {
   "cell_type": "code",
   "execution_count": 5,
   "metadata": {},
   "outputs": [],
   "source": [
    "# Let's start by creating a valid (has all required attributes) Patient resource\n",
    "patient_rs = {\n",
    "    \"resourceType\":\"Patient\",\n",
    "    \"id\": \"kidsfirst-test-patient\",\n",
    "    \"meta\": {\n",
    "        \"profile\": [\"http://fhir.kids-first.io/StructureDefinition/Patient\"]\n",
    "    },\n",
    "    \"gender\": \"male\"\n",
    "}"
   ]
  },
  {
   "cell_type": "markdown",
   "metadata": {},
   "source": [
    "#### Validate the Patient Resource"
   ]
  },
  {
   "cell_type": "markdown",
   "metadata": {},
   "source": [
    "To test the `Patient` resource against the Kids First Patient model you must declare that this resource conforms to the `Patient` `StructureDefinition` like this:\n",
    "\n",
    "```json\n",
    "\"meta\": {\n",
    "    \"profile\": [\"http://fhir.kids-first.io/StructureDefinition/Patient\"]\n",
    "}\n",
    "```"
   ]
  },
  {
   "cell_type": "code",
   "execution_count": 6,
   "metadata": {},
   "outputs": [
    {
     "name": "stdout",
     "output_type": "stream",
     "text": [
      "{'request_url': 'http://10.10.1.191:8000/Patient/$validate',\n",
      " 'response': {'issue': [{'code': 'processing',\n",
      "                         'diagnostics': 'dom-6: A resource should have '\n",
      "                                        'narrative for robust management '\n",
      "                                        '[text.div.exists()]',\n",
      "                         'location': ['Patient', 'Line 1, Col 2'],\n",
      "                         'severity': 'warning'},\n",
      "                        {'code': 'processing',\n",
      "                         'diagnostics': 'dom-6: A resource should have '\n",
      "                                        'narrative for robust management '\n",
      "                                        '[text.div.exists()]',\n",
      "                         'location': ['Patient', 'Line 1, Col 2'],\n",
      "                         'severity': 'warning'}],\n",
      "              'resourceType': 'OperationOutcome'},\n",
      " 'status_code': 200}\n",
      "Validate http://10.10.1.191:8000/Patient/$validate, kidsfirst-test-patient\n",
      "PUT http://10.10.1.191:8000/Patient/kidsfirst-test-patient\n"
     ]
    }
   ],
   "source": [
    "def validate_rs(resource_type, payload, expected_success=True, \n",
    "                create_on_success=True, print_result=False):\n",
    "    # Validate by POSTing to the /Patient/$validate endpoint\n",
    "    endpoint = f\"{client.base_url}/{resource_type}/$validate\"\n",
    "\n",
    "    # Since we know this is a valid Patient resource, it should succeed\n",
    "    success, result = client.send_request('POST', endpoint, json=payload)\n",
    "    if print_result:\n",
    "        pprint(result)\n",
    "    print(f'Validate {endpoint}, {payload.get(\"id\")}')\n",
    "    assert success == expected_success\n",
    "          \n",
    "    # Now actually create the Patient resource\n",
    "    if create_on_success and success:\n",
    "        endpoint = f\"{client.base_url}/{resource_type}/{payload['id']}\"\n",
    "        success, result = client.send_request('PUT', endpoint, json=payload)\n",
    "        print(f'PUT {endpoint}')\n",
    "        assert success == expected_success  \n",
    "\n",
    "validate_rs('Patient', patient_rs, print_result=True)"
   ]
  },
  {
   "cell_type": "markdown",
   "metadata": {},
   "source": [
    "#### Validate an Invalid Patient Resource"
   ]
  },
  {
   "cell_type": "code",
   "execution_count": 7,
   "metadata": {},
   "outputs": [
    {
     "name": "stdout",
     "output_type": "stream",
     "text": [
      "{'request_url': 'http://10.10.1.191:8000/Patient/$validate',\n",
      " 'response': {'issue': [{'code': 'processing',\n",
      "                         'diagnostics': 'dom-6: A resource should have '\n",
      "                                        'narrative for robust management '\n",
      "                                        '[text.div.exists()]',\n",
      "                         'location': ['Patient', 'Line 1, Col 2'],\n",
      "                         'severity': 'warning'},\n",
      "                        {'code': 'processing',\n",
      "                         'diagnostics': 'Profile '\n",
      "                                        'http://fhir.kids-first.io/StructureDefinition/Patient, '\n",
      "                                        \"Element 'Patient.gender': minimum \"\n",
      "                                        'required = 1, but only found 0',\n",
      "                         'location': ['Patient', 'Line 1, Col 2'],\n",
      "                         'severity': 'error'}],\n",
      "              'resourceType': 'OperationOutcome'},\n",
      " 'status_code': 422}\n",
      "Validate http://10.10.1.191:8000/Patient/$validate, kidsfirst-test-patient\n"
     ]
    }
   ],
   "source": [
    "# Let's create an invalid resource and make sure it fails \n",
    "# Invalid since its missing the REQUIRED gender attribute\n",
    "patient_rs_invalid = {\n",
    "    \"resourceType\":\"Patient\",\n",
    "    \"id\": \"kidsfirst-test-patient\",\n",
    "    \"meta\": {\n",
    "        \"profile\": [\"http://fhir.kids-first.io/StructureDefinition/Patient\"]\n",
    "    }\n",
    "}\n",
    "validate_rs('Patient', patient_rs_invalid, expected_success=False, print_result=True)"
   ]
  },
  {
   "cell_type": "markdown",
   "metadata": {},
   "source": [
    "### Add an Attribute"
   ]
  },
  {
   "cell_type": "markdown",
   "metadata": {},
   "source": [
    "#### Extensions\n",
    "In FHIR, when you want to add a new attribute to a `StructureDefinition`, its known as adding an \"extension\" since you are extending the definition of the base model.\n",
    "\n",
    "To add an attribute to the `Patient` `StructureDefinition`, you must do 2 things: \n",
    "1. Define an extension for the attribute by creating a `StructureDefinition` resource for it\n",
    "2. Declare/reference the extension in the `Patient` `StructureDefinition` \n",
    "\n",
    "📘Learn more about defining [extensions](https://www.hl7.org/fhir/extensibility-examples.html)"
   ]
  },
  {
   "cell_type": "markdown",
   "metadata": {},
   "source": [
    "#### Why so complicated? ----> Reusability\n",
    "You might be wondering why adding a new attribute isn't as simple as removing an attribute. There are a couple of reasons for this. The primary reason is because the FHIR spec pushes for interoperability through sharing of model components like extensions.\n",
    "\n",
    "Since extensions are defined in their own files, they can be reused in a plug and play fashion by other models. We will see this later in the tutorial when we reuse the `karyotypic-sex`extension defined by the [Phenopackets FHIR model](https://aehrc.github.io/fhir-phenopackets-ig/).\n",
    "\n",
    "Unfortunately, if you don't care about making your attributes shareable and/or you only care about simple key-value type attributes, FHIR does not have a simpler way to define these right now.\n",
    "\n",
    "\n",
    "#### Simple and Complex Extensions\n",
    "Another reason why extensions may be complex is because they can represent both simple attributes or complex attributes. A simple attribute might be a key, value pair with a primitive data type and a complex attribute might be an entirely new structure that might have several other extensions in a nested hierarchy.\n",
    "\n",
    "⚡️**Key Take Away - Reuse existing extensions as much as possible! This is a major benefit of FHIR**"
   ]
  },
  {
   "cell_type": "markdown",
   "metadata": {},
   "source": [
    "### Anatomy of an Extension\n",
    "Similar to StructureDefinitions, the best way to create an extension is to start with an existing extension that is similar to the one you want to create. The best place to choose from is 📘the official [HL7 FHIR extension registry](https://registry.fhir.org/)\n",
    "\n",
    "Let's take a look at the extension we'll be adding to the Patient model to represent the patient's biological race. "
   ]
  },
  {
   "cell_type": "code",
   "execution_count": 8,
   "metadata": {},
   "outputs": [],
   "source": [
    "# Here's what a simple key-value extension with a string data type looks like:\n",
    "patient_race_ext = {\n",
    "  \"resourceType\" : \"StructureDefinition\",\n",
    "  \"extension\" : [{\n",
    "    \"url\" : \"http://hl7.org/fhir/StructureDefinition/structuredefinition-wg\",\n",
    "    \"valueCode\" : \"oo\"\n",
    "  },\n",
    "  {\n",
    "    \"url\" : \"http://hl7.org/fhir/StructureDefinition/structuredefinition-fmm\",\n",
    "    \"valueInteger\" : 1\n",
    "  }],\n",
    "  \"url\" : \"http://fhir.kids-first.io/StructureDefinition/patient-race\",\n",
    "  \"version\" : \"4.0.0\",\n",
    "  \"name\" : \"patient_race\",\n",
    "  \"status\" : \"draft\",\n",
    "  \"date\" : \"2020-01-13\",\n",
    "  \"publisher\" : \"Kids First DRC\",\n",
    "  \"description\" : \"Race of patient\",\n",
    "  \"fhirVersion\" : \"4.0.0\",\n",
    "  \"kind\" : \"complex-type\",\n",
    "  \"abstract\" : False,\n",
    "  \"context\" : [{\n",
    "    \"type\" : \"element\",\n",
    "    \"expression\" : \"Patient\"\n",
    "  }],\n",
    "  \"type\" : \"Extension\",\n",
    "  \"baseDefinition\" : \"http://hl7.org/fhir/StructureDefinition/Extension\",\n",
    "  \"derivation\" : \"constraint\",\n",
    "  \"differential\" : {\n",
    "    \"element\" : [{\n",
    "      \"id\" : \"Extension\",\n",
    "      \"path\" : \"Extension\",\n",
    "      \"short\" : \"Race\",\n",
    "      \"definition\" : \"Race of patient\",\n",
    "      \"min\" : 0,\n",
    "      \"max\" : \"1\",\n",
    "    },\n",
    "    {\n",
    "      \"id\" : \"Extension.extension\",\n",
    "      \"path\" : \"Extension.extension\",\n",
    "      \"max\" : \"0\"\n",
    "    },\n",
    "    {\n",
    "      \"id\" : \"Extension.url\",\n",
    "      \"path\" : \"Extension.url\",\n",
    "      \"fixedUri\" : \"http://fhir.kids-first.io/StructureDefinition/patient-race\"\n",
    "    },\n",
    "    {\n",
    "      \"id\" : \"Extension.value[x]\",\n",
    "      \"path\" : \"Extension.value[x]\",\n",
    "      \"min\" : 1,\n",
    "      \"type\" : [{\n",
    "        \"code\" : \"string\"\n",
    "      }]\n",
    "    }]\n",
    "  }\n",
    "}"
   ]
  },
  {
   "cell_type": "markdown",
   "metadata": {},
   "source": [
    "Similar to our Patient model, an extension is just another `StructureDefinition` except with `type=Extension` instead of `type=Patient`. \n",
    "\n",
    "For all `Extension` type `StructureDefinition`:\n",
    "\n",
    "- `type` must be set to \"Extension\"\n",
    "- `kind` must be set to \"complex-type\" and not \"resource\" since this is an extension\n",
    "- `baseDefinition` must be set to the URL of an existing valid Extension type StructureDefinition. \n",
    "\n",
    "Additionally, you must specify in the `differential`:\n",
    "\n",
    "- the `url` or identifier of the extension\n",
    "\n",
    "And for simple extensions representing a key and value with a primitive data type, you must specify in the `differential`: \n",
    "\n",
    "- the `value[x]` or data type of the extension's value\n",
    "\n",
    "Later on in the tutorial you will learn how to change this from a string type extension to a more complex extension with a `CodeableConcept` data type."
   ]
  },
  {
   "cell_type": "markdown",
   "metadata": {},
   "source": [
    "### Add Race to Patient Model\n",
    "So far we've just defined the new attribute we want to add to the Patient model. Now we must actually bind it or declare it in the Patient model. Here's how we do this:"
   ]
  },
  {
   "cell_type": "code",
   "execution_count": 9,
   "metadata": {
    "code_folding": []
   },
   "outputs": [],
   "source": [
    "patient_sd = {\n",
    "    \"resourceType\": \"StructureDefinition\",\n",
    "    \"url\": \"http://fhir.kids-first.io/StructureDefinition/Patient\",\n",
    "    \"version\": \"0.1.0\",\n",
    "    \"name\": \"kids_first_research_participant\",\n",
    "    \"title\": \"Kids First Research Participant\",\n",
    "    \"status\": \"draft\",\n",
    "    \"publisher\": \"Kids First DRC\",\n",
    "    \"description\": \"The individual human or other organism.\",\n",
    "    \"fhirVersion\": \"4.0.0\",\n",
    "    \"kind\": \"resource\",\n",
    "    \"abstract\": False,\n",
    "    \"type\": \"Patient\",\n",
    "    \"baseDefinition\": \"http://hl7.org/fhir/StructureDefinition/Patient\",\n",
    "    \"derivation\": \"constraint\",\n",
    "    \"differential\": {\n",
    "        \"element\": [\n",
    "            {\n",
    "                \"id\": \"Patient\",\n",
    "                \"path\": \"Patient\"\n",
    "            },\n",
    "            {\n",
    "                \"id\": \"Patient.identifier\",\n",
    "                \"path\": \"Patient.identifier\",\n",
    "                \"mustSupport\": True\n",
    "            },\n",
    "            {\n",
    "                \"id\": \"Patient.name\",\n",
    "                \"path\": \"Patient.name\",\n",
    "                \"max\": \"0\"\n",
    "            },\n",
    "            {\n",
    "                \"id\": \"Patient.telecom\",\n",
    "                \"path\": \"Patient.telecom\",\n",
    "                \"max\": \"0\"\n",
    "            },\n",
    "            {\n",
    "                \"id\": \"Patient.address\",\n",
    "                \"path\": \"Patient.address\",\n",
    "                \"max\": \"0\"\n",
    "            },\n",
    "            {\n",
    "                \"id\": \"Patient.photo\",\n",
    "                \"path\": \"Patient.photo\",\n",
    "                \"max\": \"0\"\n",
    "            },\n",
    "            {\n",
    "                \"id\": \"Patient.contact\",\n",
    "                \"path\": \"Patient.contact\",\n",
    "                \"max\": \"0\"\n",
    "            },\n",
    "            {\n",
    "                \"id\": \"Patient.gender\",\n",
    "                \"path\": \"Patient.gender\",\n",
    "                \"mustSupport\": True,\n",
    "                \"min\": 1\n",
    "            },\n",
    "            {\n",
    "                \"id\": \"Patient.extension\",\n",
    "                \"path\": \"Patient.extension\",\n",
    "                \"slicing\": {\n",
    "                    \"discriminator\": [\n",
    "                        {\n",
    "                            \"type\": \"value\",\n",
    "                            \"path\": \"url\"\n",
    "                        }\n",
    "                    ],\n",
    "                    \"ordered\": False,\n",
    "                    \"rules\": \"open\"\n",
    "                }\n",
    "            },\n",
    "            {\n",
    "                \"id\": \"Patient.extension:patient-race\",\n",
    "                \"path\": \"Patient.extension\",\n",
    "                \"sliceName\": \"patient-race\",\n",
    "                \"short\": \"Race\",\n",
    "                \"definition\": \"Race of patient\",\n",
    "                \"min\": 0,\n",
    "                \"max\": \"1\",\n",
    "                \"type\": [\n",
    "                    {\n",
    "                        \"code\": \"Extension\",\n",
    "                        \"profile\": [\n",
    "                            \"http://fhir.kids-first.io/StructureDefinition/patient-race\"\n",
    "                        ]\n",
    "                    }\n",
    "                ],\n",
    "                \"isModifier\": False\n",
    "            }\n",
    "        ]\n",
    "    }\n",
    "}"
   ]
  },
  {
   "cell_type": "markdown",
   "metadata": {},
   "source": [
    "#### Explanation of Parts\n",
    "Let's break down each piece. First we'll start with the piece that says we want to use extensions in the `Patient` `StructureDefinition`:\n",
    "```json\n",
    "{\n",
    "    \"id\": \"Patient.extension\",\n",
    "    \"path\": \"Patient.extension\",\n",
    "    \"slicing\": {\n",
    "        \"discriminator\": [\n",
    "            {\n",
    "                \"type\": \"value\",\n",
    "                \"path\": \"url\"\n",
    "            }\n",
    "        ],\n",
    "        \"ordered\": False,\n",
    "        \"rules\": \"open\"\n",
    "    }\n",
    "}\n",
    "```\n",
    "- `id`: TODO\n",
    "- `path`: All extensions go inside an `extension` element in the Patient resource\n",
    "- `slicing`: The `Patient.extension` is a list of extensions and each one must be able to be uniquely identified in that list. The extension's URL is used to \"slice\" or identify the extension in the list.\n",
    "- `ordered=False`: order of extensions does not matter in a Patient resource\n",
    "- `rules=open`: additional extensions can be added in a Patient resource\n",
    "\n",
    "The next part is the actual binding of the race extension to the `Patient` `StructureDefinition`: \n",
    "\n",
    "```json\n",
    "{\n",
    "    \"id\": \"Patient.extension\",\n",
    "    \"path\": \"Patient.extension\",\n",
    "    \"sliceName\": \"patient_race\",\n",
    "    \"short\": \"Race\",\n",
    "    \"definition\": \"Race of patient\",\n",
    "    \"min\": 0,\n",
    "    \"max\": \"1\",\n",
    "    \"type\": [\n",
    "        {\n",
    "            \"code\": \"Extension\",\n",
    "            \"profile\": [\n",
    "                \"http://fhir.kids-first.io/StructureDefinition/patient-race\"\n",
    "            ]\n",
    "        }\n",
    "    ],\n",
    "    \"isModifier\": False\n",
    "}\n",
    "```\n",
    "\n",
    "The important parts to note here are: \n",
    "\n",
    "- `min/max`: this says Patient instances can only have one occurrence of the `race` extension and it is not required\n",
    "- `type`: this binds the Patient's race attribute to it's `StructureDefinition`\n"
   ]
  },
  {
   "cell_type": "markdown",
   "metadata": {},
   "source": [
    "### Validate Patient Model with Race"
   ]
  },
  {
   "cell_type": "markdown",
   "metadata": {},
   "source": [
    "Now let's validate our updated Patient model and then test it against some example Patient resources which make use of the new race extension"
   ]
  },
  {
   "cell_type": "code",
   "execution_count": 10,
   "metadata": {},
   "outputs": [
    {
     "name": "stdout",
     "output_type": "stream",
     "text": [
      "DELETE http://fhir.kids-first.io/StructureDefinition/patient-race\n",
      "{'request_url': 'http://10.10.1.191:8000/StructureDefinition',\n",
      " 'response': {'abstract': False,\n",
      "              'baseDefinition': 'http://hl7.org/fhir/StructureDefinition/Extension',\n",
      "              'context': [{'expression': 'Patient', 'type': 'element'}],\n",
      "              'date': '2020-01-13',\n",
      "              'derivation': 'constraint',\n",
      "              'description': 'Race of patient',\n",
      "              'differential': {'element': [{'definition': 'Race of patient',\n",
      "                                            'id': 'Extension',\n",
      "                                            'max': '1',\n",
      "                                            'min': 0,\n",
      "                                            'path': 'Extension',\n",
      "                                            'short': 'Race'},\n",
      "                                           {'id': 'Extension.extension',\n",
      "                                            'max': '0',\n",
      "                                            'path': 'Extension.extension'},\n",
      "                                           {'fixedUri': 'http://fhir.kids-first.io/StructureDefinition/patient-race',\n",
      "                                            'id': 'Extension.url',\n",
      "                                            'path': 'Extension.url'},\n",
      "                                           {'id': 'Extension.value[x]',\n",
      "                                            'min': 1,\n",
      "                                            'path': 'Extension.value[x]',\n",
      "                                            'type': [{'code': 'string'}]}]},\n",
      "              'extension': [{'url': 'http://hl7.org/fhir/StructureDefinition/structuredefinition-wg',\n",
      "                             'valueCode': 'oo'},\n",
      "                            {'url': 'http://hl7.org/fhir/StructureDefinition/structuredefinition-fmm',\n",
      "                             'valueInteger': 1}],\n",
      "              'fhirVersion': '4.0.0',\n",
      "              'id': '4839',\n",
      "              'kind': 'complex-type',\n",
      "              'meta': {'lastUpdated': '2020-01-16T15:57:23.058+00:00',\n",
      "                       'versionId': '1'},\n",
      "              'name': 'patient_race',\n",
      "              'publisher': 'Kids First DRC',\n",
      "              'resourceType': 'StructureDefinition',\n",
      "              'status': 'draft',\n",
      "              'type': 'Extension',\n",
      "              'url': 'http://fhir.kids-first.io/StructureDefinition/patient-race',\n",
      "              'version': '4.0.0'},\n",
      " 'status_code': 201}\n",
      "POST http://10.10.1.191:8000/StructureDefinition, patient_race\n",
      "DELETE http://fhir.kids-first.io/StructureDefinition/Patient\n",
      "{'request_url': 'http://10.10.1.191:8000/StructureDefinition',\n",
      " 'response': {'abstract': False,\n",
      "              'baseDefinition': 'http://hl7.org/fhir/StructureDefinition/Patient',\n",
      "              'derivation': 'constraint',\n",
      "              'description': 'The individual human or other organism.',\n",
      "              'differential': {'element': [{'id': 'Patient', 'path': 'Patient'},\n",
      "                                           {'id': 'Patient.identifier',\n",
      "                                            'mustSupport': True,\n",
      "                                            'path': 'Patient.identifier'},\n",
      "                                           {'id': 'Patient.name',\n",
      "                                            'max': '0',\n",
      "                                            'path': 'Patient.name'},\n",
      "                                           {'id': 'Patient.telecom',\n",
      "                                            'max': '0',\n",
      "                                            'path': 'Patient.telecom'},\n",
      "                                           {'id': 'Patient.address',\n",
      "                                            'max': '0',\n",
      "                                            'path': 'Patient.address'},\n",
      "                                           {'id': 'Patient.photo',\n",
      "                                            'max': '0',\n",
      "                                            'path': 'Patient.photo'},\n",
      "                                           {'id': 'Patient.contact',\n",
      "                                            'max': '0',\n",
      "                                            'path': 'Patient.contact'},\n",
      "                                           {'id': 'Patient.gender',\n",
      "                                            'min': 1,\n",
      "                                            'mustSupport': True,\n",
      "                                            'path': 'Patient.gender'},\n",
      "                                           {'id': 'Patient.extension',\n",
      "                                            'path': 'Patient.extension',\n",
      "                                            'slicing': {'discriminator': [{'path': 'url',\n",
      "                                                                           'type': 'value'}],\n",
      "                                                        'ordered': False,\n",
      "                                                        'rules': 'open'}},\n",
      "                                           {'definition': 'Race of patient',\n",
      "                                            'id': 'Patient.extension:patient-race',\n",
      "                                            'isModifier': False,\n",
      "                                            'max': '1',\n",
      "                                            'min': 0,\n",
      "                                            'path': 'Patient.extension',\n",
      "                                            'short': 'Race',\n",
      "                                            'sliceName': 'patient-race',\n",
      "                                            'type': [{'code': 'Extension',\n",
      "                                                      'profile': ['http://fhir.kids-first.io/StructureDefinition/patient-race']}]}]},\n",
      "              'fhirVersion': '4.0.0',\n",
      "              'id': '4840',\n",
      "              'kind': 'resource',\n",
      "              'meta': {'lastUpdated': '2020-01-16T15:57:23.304+00:00',\n",
      "                       'versionId': '1'},\n",
      "              'name': 'kids_first_research_participant',\n",
      "              'publisher': 'Kids First DRC',\n",
      "              'resourceType': 'StructureDefinition',\n",
      "              'status': 'draft',\n",
      "              'title': 'Kids First Research Participant',\n",
      "              'type': 'Patient',\n",
      "              'url': 'http://fhir.kids-first.io/StructureDefinition/Patient',\n",
      "              'version': '0.1.0'},\n",
      " 'status_code': 201}\n",
      "POST http://10.10.1.191:8000/StructureDefinition, kids_first_research_participant\n"
     ]
    }
   ],
   "source": [
    "# Validate/Create the Patient race extension\n",
    "validate(patient_race_ext, expected_success=True, print_result=True)\n",
    "\n",
    "# Validate/Create the updated Patient StructureDefinition which uses Race extension\n",
    "validate(patient_sd, expected_success=True, print_result=True)"
   ]
  },
  {
   "cell_type": "markdown",
   "metadata": {},
   "source": [
    "### Create and Validate a Patient With Race"
   ]
  },
  {
   "cell_type": "code",
   "execution_count": 11,
   "metadata": {},
   "outputs": [
    {
     "name": "stdout",
     "output_type": "stream",
     "text": [
      "Validate http://10.10.1.191:8000/Patient/$validate, kidsfirst-test-patient\n",
      "PUT http://10.10.1.191:8000/Patient/kidsfirst-test-patient\n"
     ]
    }
   ],
   "source": [
    "patient_rs['extension'] = [\n",
    "    {\n",
    "        'url': 'http://fhir.kids-first.io/StructureDefinition/patient-race',\n",
    "        'valueString': \"Asian\"\n",
    "    }\n",
    "]\n",
    "validate_rs('Patient', patient_rs, expected_success=True)"
   ]
  },
  {
   "cell_type": "markdown",
   "metadata": {},
   "source": [
    "### Search for Resources"
   ]
  },
  {
   "cell_type": "markdown",
   "metadata": {},
   "source": [
    "At this point we're going to take a look at how search works in FHIR so that we can start searching for our resources using the attributes we're adding to our models. Also, this will come in handy for debugging - to find and verify that we've created resources we intended to. \n",
    "\n",
    "#### FHIR Search DSL\n",
    "To search for FHIR resources on a FHIR server you need to be able to construct search queries in some sort of language the server understands and then send those queries to the server. \n",
    "\n",
    "The FHIR Search specification defines its own RESTful query language to accomplish this. This means that search queries are constructed using the URL and its query parameters of the HTTP request. \n",
    "\n",
    "Why does FHIR define another DSL for this? Because there isn't really a widely accepted standard for a RESTful query language. Operators like `and`, `or`, `>`, `>=`, etc can all be represented in different ways. \n",
    "\n",
    "#### FHIR Search Queries\n",
    "FHIR search queries look like this:\n",
    "\n",
    "```\n",
    "# Format\n",
    "GET [base]/[type]?name=value&...\n",
    "\n",
    "# Example\n",
    "GET http://10.10.1.191:8000/Patient?gender=female&name=Natasha\n",
    "``` \n",
    "\n",
    "📘Learn more about the [FHIR Search Spec](https://www.hl7.org/fhir/search.html)\n",
    "\n",
    "📘Check out this [Jupyter Notebook]() for a demo of FHIR search features ()"
   ]
  },
  {
   "cell_type": "markdown",
   "metadata": {},
   "source": [
    "#### SearchParameter Resource\n",
    "So you know what search queries look like, but how do you know what attributes of a Resource or keywords you can use in search queries? All attributes? Some of them? Are keywords the same as attributes?\n",
    "\n",
    "The `SearchParameter` is a type of `Conformance Resource` which answers this question. \n",
    "\n",
    "In order to search for a Resource by a particular keyword or Resource attribute, the FHIR server must have a `SearchParameter` defined for it. \n",
    "\n",
    "Each of the FHIR Resources in the FHIR base model, have a set of predefined SearchParameters that make a subset of the Resources' attributes searchable - by either the name of the attribute or some other keyword used to alias it.\n",
    "\n",
    "#### Patient Built-In Search Parameters\n",
    "You can always check the Resource type page on the HL7 FHIR site to see which search parameters are already supported for Resources of that type. For example here is the page for `Patient`\n",
    "\n",
    "![Patient Search Params](static/images/patient-search-params.png)\n"
   ]
  },
  {
   "cell_type": "markdown",
   "metadata": {},
   "source": [
    "#### Name vs Expression\n",
    "\n",
    "Something very important to note about `SearchParameter` is the differentiation between it's name and expression. \n",
    "\n",
    "Take a look at the `family` `SearchParameter`. A `Patient` resource doesn't have a first-level attribute called `family`. In fact, `family` is nested inside the `name` list: \n",
    "\n",
    "```\n",
    "{\n",
    "    \"resourceType\":\"Patient\",\n",
    "    \"id\": \"test-patient\",\n",
    "    \"gender\": \"male\",\n",
    "    \"name\": [\n",
    "        {\n",
    "            \"use\": \"usual\",\n",
    "            \"family\":\"Smith\",\n",
    "            \"given\": \"Jack\",\n",
    "            \"period\": {\n",
    "                \"end\": \"2001-01-01\"\n",
    "            }\n",
    "        }\n",
    "    ]\n",
    "}\n",
    "```\n",
    "\n",
    "However, the expression says that when you search for Patients by `family=Smith` it will actually search for all Patients with a name element in the `name` list where `family` equals `Smith`.\n",
    "\n",
    "The search query for this would look like this:\n",
    "```\n",
    "GET http://10.10.1.191:8000/Patient?family=Smith\n",
    "```\n",
    "\n",
    "This is very powerful because you can:\n",
    "\n",
    "- Search for Resources using a keyword which finds instances by some abitrary attribute in the Resource payload\n",
    "- Turn on/off search functionality by including/excluding SearchParameters in the server\n",
    "- Reuse a SearchParameter by making it apply to multiple Resource Types\n",
    "- Share search functionality across servers by sharing the SearchParameter definition file\n",
    "\n",
    "**⚡️Key Take Away:** SearchParameter allows you to specify a keyword that can be used to search for Resources by some arbitrary attribute on that Resource even if its nested"
   ]
  },
  {
   "cell_type": "markdown",
   "metadata": {},
   "source": [
    "#### SearchParameter Types\n",
    "\n",
    "There is a lot of information on this topic so we cannot cover all of it. However, it is important to understand that SearchParameters have different [types](https://www.hl7.org/fhir/search.html#ptypes) which govern which modifiers can be used as a prefix/suffix to either the name or value of the search parameter in a search query. \n",
    "\n",
    "For example, for `number`, `date`, and `quantity` type SearchParameters, we can use one of the available modifiers like `gt` in a query:\n",
    "\n",
    "```\n",
    "GET http://10.10.1.191:8000/DiagnosticReport?date=gt2013-01-14\n",
    "```\n",
    "\n",
    "This query will return us all `DiagnosticReport` resources that occurred after January 14, 2013.\n"
   ]
  },
  {
   "cell_type": "markdown",
   "metadata": {},
   "source": [
    "### Search for Patients by Race\n",
    "\n",
    "Ok, now let's create a SearchParameter for the `race` attribute in our Patient model. This is going to consist of 2 steps:\n",
    "\n",
    "1. Create a SearchParameter for Patient.race\n",
    "2. Load the SearchParameter into the server"
   ]
  },
  {
   "cell_type": "markdown",
   "metadata": {},
   "source": [
    "#### Create Search Parameter for Patient.race"
   ]
  },
  {
   "cell_type": "code",
   "execution_count": 15,
   "metadata": {},
   "outputs": [],
   "source": [
    "patient_race_sp = {\n",
    "  \"resourceType\": \"SearchParameter\",\n",
    "  \"url\": \"http://fhir.kids-first.io/SearchParameter/patient-race\",\n",
    "  \"name\": \"patient-race\",\n",
    "  \"status\": \"active\",\n",
    "  \"experimental\": True,\n",
    "  \"publisher\": \"Kids First DRC\",\n",
    "  \"description\": \"Search for Patients by their race\",\n",
    "  \"code\": \"race\",\n",
    "  \"base\": [\n",
    "    \"Patient\"\n",
    "  ],\n",
    "  \"type\": \"string\",\n",
    "  \"expression\": \"Patient.extension.where(url = 'http://fhir.kids-first.io/StructureDefinition/patient-race').value\",\n",
    "  \"target\": [\n",
    "    \"Patient\"\n",
    "  ]\n",
    "}"
   ]
  },
  {
   "cell_type": "markdown",
   "metadata": {},
   "source": [
    "### Anatomy of SearchParameter"
   ]
  },
  {
   "cell_type": "markdown",
   "metadata": {},
   "source": [
    "Again, we won't go over everything, but let's take a look at some of the important parts of a `SearchParameter`:\n",
    "\n",
    "- `code`: this is the keyword that will be used in search queries\n",
    "- `name`: a computer friendly name for the search parameter\n",
    "- `base`: list of Resource types for which this SearchParameter applies\n",
    "- `target`: this seems completely redundant with `base`. Not sure why it exists, but if you don't include your searches won't work\n",
    "- `type`: must be one of the valid search parameter types\n",
    "- `expression`: the path to the attribute value in the resource payload which is being used in the search query. This is specified as a `FHIRpath` expression which is based on [xpath](https://www.w3schools.com/xml/xpath_intro.asp)\n",
    "\n",
    "📘Learn more about [FHIRpath expressions](https://www.hl7.org/fhir/fhirpath.html)"
   ]
  },
  {
   "cell_type": "markdown",
   "metadata": {},
   "source": [
    "### Validate Patient Race Search Parameter"
   ]
  },
  {
   "cell_type": "code",
   "execution_count": 16,
   "metadata": {},
   "outputs": [
    {
     "name": "stdout",
     "output_type": "stream",
     "text": [
      "DELETE http://fhir.kids-first.io/SearchParameter/patient-race\n",
      "{'request_url': 'http://10.10.1.191:8000/SearchParameter',\n",
      " 'response': {'base': ['Patient'],\n",
      "              'code': 'race',\n",
      "              'description': 'Search for Patients by their race',\n",
      "              'experimental': True,\n",
      "              'expression': 'Patient.extension.where(url = '\n",
      "                            \"'http://fhir.kids-first.io/StructureDefinition/patient-race').value\",\n",
      "              'id': '4842',\n",
      "              'meta': {'lastUpdated': '2020-01-16T15:58:18.282+00:00',\n",
      "                       'versionId': '1'},\n",
      "              'name': 'patient-race',\n",
      "              'publisher': 'Kids First DRC',\n",
      "              'resourceType': 'SearchParameter',\n",
      "              'status': 'active',\n",
      "              'target': ['Patient'],\n",
      "              'type': 'string',\n",
      "              'url': 'http://fhir.kids-first.io/SearchParameter/patient-race'},\n",
      " 'status_code': 201}\n",
      "POST http://10.10.1.191:8000/SearchParameter, patient-race\n"
     ]
    }
   ],
   "source": [
    "validate(patient_race_sp, print_result=True)"
   ]
  },
  {
   "cell_type": "markdown",
   "metadata": {},
   "source": [
    "### Search for Patient by Race"
   ]
  },
  {
   "cell_type": "code",
   "execution_count": 17,
   "metadata": {},
   "outputs": [
    {
     "name": "stdout",
     "output_type": "stream",
     "text": [
      "Searching for http://10.10.1.191:8000/Patient?race=Asian, total found: 0\n",
      "{'request_url': 'http://10.10.1.191:8000/Patient?race=Asian',\n",
      " 'response': {'id': '12b7ec1f-b8cc-400e-8c3f-973bfc5b4740',\n",
      "              'link': [{'relation': 'self',\n",
      "                        'url': 'http://localhost:8000/Patient?race=Asian'}],\n",
      "              'meta': {'lastUpdated': '2020-01-16T15:57:23.852+00:00'},\n",
      "              'resourceType': 'Bundle',\n",
      "              'total': 0,\n",
      "              'type': 'searchset'},\n",
      " 'status_code': 200}\n"
     ]
    }
   ],
   "source": [
    "def search(resource_type, params, print_result=False):\n",
    "    endpoint = f'{client.base_url}/{resource_type}'\n",
    "    success, result = client.send_request('GET', endpoint, params=params)\n",
    "    print(f'Searching for {result[\"request_url\"]}, '\n",
    "          f'total found: {result[\"response\"].get(\"total\")}')\n",
    "    if print_result:\n",
    "          pprint(result)      \n",
    "    assert success      \n",
    "search('Patient', {'race': 'Asian'}, print_result=True)"
   ]
  },
  {
   "cell_type": "code",
   "execution_count": null,
   "metadata": {},
   "outputs": [],
   "source": []
  }
 ],
 "metadata": {
  "kernelspec": {
   "display_name": "Python 3",
   "language": "python",
   "name": "python3"
  },
  "language_info": {
   "codemirror_mode": {
    "name": "ipython",
    "version": 3
   },
   "file_extension": ".py",
   "mimetype": "text/x-python",
   "name": "python",
   "nbconvert_exporter": "python",
   "pygments_lexer": "ipython3",
   "version": "3.7.5"
  },
  "toc": {
   "base_numbering": 1,
   "nav_menu": {},
   "number_sections": true,
   "sideBar": true,
   "skip_h1_title": false,
   "title_cell": "Table of Contents",
   "title_sidebar": "Contents",
   "toc_cell": false,
   "toc_position": {},
   "toc_section_display": true,
   "toc_window_display": false
  }
 },
 "nbformat": 4,
 "nbformat_minor": 2
}
