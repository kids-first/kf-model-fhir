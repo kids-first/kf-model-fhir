{
 "cells": [
  {
   "cell_type": "markdown",
   "metadata": {},
   "source": [
    "# 🔥 FHIR 101 - A Practical Guide"
   ]
  },
  {
   "cell_type": "markdown",
   "metadata": {},
   "source": [
    "## Notebook Setup\n",
    "If you haven't already setup your development environment please do so by following the instructions on the `kf-model-fhir` GitHub repository's [README](https://github.com/kids-first/kf-model-fhir#installation)\n",
    "\n",
    "Next, run the cell below and then refresh this page in the browser."
   ]
  },
  {
   "cell_type": "code",
   "execution_count": 1,
   "metadata": {},
   "outputs": [],
   "source": [
    "%%capture\n",
    "%%bash\n",
    "pip install jupyter jupyterthemes jupyter_contrib_nbextensions\n",
    "jupyter contrib nbextension install\n",
    "jupyter nbextension enable collapsible_headings/main\n",
    "jt -t solarizedl -cursw 3 -cellw 1200 -lineh 200 -tf sourcesans"
   ]
  },
  {
   "cell_type": "markdown",
   "metadata": {},
   "source": [
    "## Hello! What is this Guide?"
   ]
  },
  {
   "cell_type": "markdown",
   "metadata": {},
   "source": [
    "If any of the following statements applies to you or you've had any of the questions below, then this guide is for you!\n",
    "- 🤷‍♀️I've heard the term FHIR. But is it a server? A database? A data model? Rapid oxidation?\n",
    "- 🙀I understand what FHIR is but have no idea how to implement it!\n",
    "- 😕I tried reading through [HL7 FHIR](https://www.hl7.org/fhir/) but it is confusing and difficult to navigate\n",
    "- 🤔How does FHIR modeling relate to relational databases?   \n",
    "\n",
    "The primary purpose of this notebook is to quickly get you educated on what FHIR is and walk you through practical exercises that will teach you the FHIR basics:\n",
    "1. Create and validate a FHIR data model for an entity\n",
    "2. Add/remove simple and complex attributes to/from an entity in the model\n",
    "3. Make entity attributes searchable in the FHIR server\n",
    "4. Deploy the FHIR data model into a FHIR server\n",
    "5. Load data into the FHIR server which conforms to the model\n",
    "6. Search for data in the FHIR server\n",
    "\n",
    "**If you don't care to know background and want to get right to development, head to the Tutorial section!**"
   ]
  },
  {
   "cell_type": "markdown",
   "metadata": {},
   "source": [
    "## What is FHIR"
   ]
  },
  {
   "cell_type": "markdown",
   "metadata": {},
   "source": [
    "Let's start with understanding exactly what FHIR is. FHIR stands for `Fast Healthcare Interoperability Resources` and was created by the organization `Health Level 7` or `HL7`.  \n",
    "\n",
    "There is a large active international community that helps develop the specification. You can read more about it here: \n",
    "\n",
    "📘Learn more about [FHIR](http://hl7.org/fhir/index.html)\n",
    "\n",
    "📘Learn more about [HL7](http://hl7.org)"
   ]
  },
  {
   "cell_type": "markdown",
   "metadata": {},
   "source": [
    "### FHIR Is ...\n",
    "A specification that includes all of the following:\n",
    "- A loosely defined [base data model](https://www.hl7.org/fhir/resourcelist.html) describing things in healthcare (e.g. Patient, Specimen) and how they relate to     each other. The base data model also includes definitions and restrictions on server functionality\n",
    "- How to extend or change the base data model to fit different healthcare use cases\n",
    "- A database agnostic domain specific language (DSL) for developing files that make up the FHIR data model\n",
    "- A [RESTful web API specification](https://www.hl7.org/fhir/exchange-module.html) to create, read, update, delete, and search FHIR data in a FHIR server\n",
    "- A RESTful query language that describes how to construct search queries for a FHIR server\n",
    "- Standards for how consumers of FHIR data should be authenticated and authorized access to health data."
   ]
  },
  {
   "cell_type": "markdown",
   "metadata": {},
   "source": [
    "### FHIR is NOT ...\n",
    "- A database\n",
    "- A database schema\n",
    "- A server\n",
    "\n",
    "It is important to understand that the FHIR specification is completely technology agnostic. Thus, it does not depend on programming languages or include things like relational database schemas. It is up to the implementers to decide how to implement the data model (i.e. relational database, nosql database, etc) and RESTful API. "
   ]
  },
  {
   "cell_type": "markdown",
   "metadata": {},
   "source": [
    "## Concepts"
   ]
  },
  {
   "cell_type": "markdown",
   "metadata": {},
   "source": [
    "The FHIR spec is large and daunting, so we cannot cover all of the major concepts in FHIR. However, this section and the next should give you all you need to understand what you're doing in the tutorial. \n",
    "\n",
    "📘A good resource to learn [FHIR Basics](https://smilecdr.com/docs/tutorial_and_tour/fhir_basics.html#fhir-basics)"
   ]
  },
  {
   "cell_type": "markdown",
   "metadata": {},
   "source": [
    "### FHIR Resource "
   ]
  },
  {
   "cell_type": "markdown",
   "metadata": {},
   "source": [
    "A term that describes a basic entity in the FHIR specification. A resource definition can be in JSON or XML format, but for the purposes of this guide, we will always use JSON.\n",
    "\n",
    "📘Learn more about [FHIR Resources](https://www.hl7.org/fhir/resource.html)"
   ]
  },
  {
   "cell_type": "markdown",
   "metadata": {},
   "source": [
    "**Examples of resources are:**\n",
    "\n",
    "`Patient` - which represents a person in a healthcare system\n",
    "\n",
    "`Specimen` - which represents a biosample drawn from a patient\n",
    "\n",
    "`StructureDefinition` - this is different from the first two. It describes the model or definition for various\n",
    "healthcare entities such as `Patient`, `Specimen`, etc.\n",
    "\n",
    "**A `Patient` resource might look like this:**\n",
    "```json\n",
    "{\n",
    "    \"resourceType\":\"Patient\",\n",
    "    \"id\": \"PT-001\",\n",
    "    \"meta\": {\n",
    "        \"profile\": [\"http://fhir.kids-first.io/StructureDefinition/Patient\"]\n",
    "    },\n",
    "    \"gender\": \"male\",\n",
    "    \"name\": [\n",
    "        {\n",
    "            \"use\": \"usual\",\n",
    "            \"family\":\"Smith\",\n",
    "            \"given\": \"Jack\",\n",
    "            \"period\": {\n",
    "                \"end\": \"2001-01-01\"\n",
    "            }\n",
    "        }\n",
    "    ]\n",
    "}\n",
    "``` "
   ]
  },
  {
   "cell_type": "markdown",
   "metadata": {},
   "source": [
    "### Resource Categories"
   ]
  },
  {
   "cell_type": "markdown",
   "metadata": {},
   "source": [
    "There are different categories of FHIR resources such as `Conformance Resources`, `Terminology Resources`, `Individual Resources`, `Diagnosic Resources`, etc. \n",
    "\n",
    "However, the most important categories of resources for the purposes of this tutorial are `Conformance Resources` and `Terminology Resources` because these are the ones we will create in order to build a FHIR data model. "
   ]
  },
  {
   "cell_type": "markdown",
   "metadata": {},
   "source": [
    "### FHIR Data Types"
   ]
  },
  {
   "cell_type": "markdown",
   "metadata": {},
   "source": [
    "FHIR resource models use a set of data types for holding their values. Data types can be primitive, meaning that they hold a simple value (typically a string, a number, etc.). Other data types are composite, meaning they are a structure containing several elements. Some examples are:\n",
    "\n",
    "**Primitive Data Types**\n",
    "\n",
    "- String - a string of text - `female`\n",
    "- Decimal - an abitrary precision float - `3.14`\n",
    "\n",
    "**Composite Data Types**\n",
    "\n",
    "- HumanName - A person's complete name, broken into individual parts\n",
    "```json\n",
    "{\n",
    "   \"family\": \"Smith\",\n",
    "   \"given\": [ \"John\", \"Frank\" ],\n",
    "   \"suffix\": [ \"Jr\" ]\n",
    "}\n",
    "```\n",
    "\n",
    "📘Learn about all [FHIR Data Types](https://www.hl7.org/fhir/datatypes.html)"
   ]
  },
  {
   "cell_type": "markdown",
   "metadata": {},
   "source": [
    "## Model Development"
   ]
  },
  {
   "cell_type": "markdown",
   "metadata": {},
   "source": [
    "What does it mean to develop a FHIR data model? Well, its not entirely different from developing any kind of data model. Developing a data model usually consists of the following steps: \n",
    "\n",
    "1. Define entities in the model and their attributes\n",
    "2. Define relationships between entities\n",
    "3. Define constraints on entity attributes (i.e. types, min/max, one of, etc)\n",
    "4. Define constraints on entity relationships (i.e. Specimen must have one Patient, DiagnosticReport must have one      Patient, etc.)\n",
    "5. Validate the model\n",
    "\n",
    "More concretely, developing a data model in FHIR means:\n",
    "1. Authoring JSON files containing `Conformance Resource` and `Terminology Resource` payloads\n",
    "2. Validating these resources using one of the standalone HL7 validation tools or POSTing the resource payload to a      FHIR server's `/<resource type>/$validate` endpoint"
   ]
  },
  {
   "cell_type": "markdown",
   "metadata": {},
   "source": [
    "### Conformance Resources"
   ]
  },
  {
   "cell_type": "markdown",
   "metadata": {},
   "source": [
    "There are several different types of `Conformance Resources` but the ones that are used most in FHIR model development are: \n",
    "\n",
    "- `StructureDefinition` - this resource captures steps 1 through 4 above for healthcare entities like `Patient`, `Specimen`, `DiagnosticReport`, etc.\n",
    "\n",
    "- `SearchParameter` - this resource is used to specify an attribute on an entity (Patient.gender) which can be used to search for instances of that entity on a FHIR server and what keyword/path (Patient.gender.code.value) should be used when searching.\n",
    "\n",
    "We will take a deep dive into both of these in the tutorial.\n",
    "\n",
    "📘Learn more about [Conformance Resources](https://www.hl7.org/fhir/conformance-module.html)"
   ]
  },
  {
   "cell_type": "markdown",
   "metadata": {},
   "source": [
    "### Terminology Resources"
   ]
  },
  {
   "cell_type": "markdown",
   "metadata": {},
   "source": [
    "Some entity attributes might need to be constrained to a particular value set which may come from a particular terminology system (or ontology) which defines attributes, their set of valid values, and an alphanumeric code that uniquely identifies each value.\n",
    "\n",
    "For example, we may want to constrain the `bodySite` attribute on `Specimen` to only have values from the NCIT ontology's `Specimen Source Site` value set. We can do this by defining `Terminology Resource`s and referencing them in the `StructureDefinition` for `Specimen`.\n",
    "\n",
    "Types of `Terminology Resource`s are:\n",
    "\n",
    "- `CodeSystem` - describes an Ontology, Terminology, or Enumeration\n",
    "\n",
    "- `ValueSet` - specifies a set of code and values drawn from one or more code systems\n",
    "\n",
    "You will see a practical example of this later in the tutorial.\n",
    "\n",
    "📘Learn about [Terminology Resources](https://www.hl7.org/fhir/terminologies.html)"
   ]
  },
  {
   "cell_type": "markdown",
   "metadata": {},
   "source": [
    "## Server Development"
   ]
  },
  {
   "cell_type": "markdown",
   "metadata": {},
   "source": [
    "### Pick an Existing Solution\n",
    "You might have noticed that there are not many open source or free FHIR servers currently in development. This is likely due to a couple of factors:\n",
    "\n",
    "- The FHIR specification is rapidly evolving and the tooling around it is still in early stages of development. \n",
    "- Server development is hard \n",
    "\n",
    "In order to develop a compliant FHIR server you must: \n",
    "- Implement the FHIR model validation logic. This is not easy since a FHIR model is authored in a custom DSL.           Server must know how to parse conformance resources and execute rules defined in them.\n",
    "- Implement a parser and query constructor for the custom FHIR RESTful query language\n",
    "\n",
    "### FHIR Server Solutions\n",
    "For these reasons it is best to select one of the existing FHIR server solutions rather than develop your own. The most promising ones are:\n",
    "\n",
    "<table style=\"bgcolor: none;\">\n",
    "    <tbody>\n",
    "        <tr>\n",
    "            <td style=\"border-right: 1px solid #cccccc; padding: 7px;\">\n",
    "                <a href=\"https://health-samurai.webflow.io/aidbox\">\n",
    "                    <img src=\"static/images/aidbox-logo.png\" alt=\"Health Samurai Aidbox\"/>\n",
    "                </a>\n",
    "            </td>\n",
    "            <td style=\"padding: 7px;\">\n",
    "                <a href=\"https://smilecdr.com\">\n",
    "                    <img src=\"static/images/smilecdr-logo.png\" alt=\"Smile CDR\"/>\n",
    "                </a>\n",
    "            </td>\n",
    "        </tr>\n",
    "    </tbody>\n",
    "</table>\n",
    "\n",
    "\n",
    "\n"
   ]
  },
  {
   "cell_type": "markdown",
   "metadata": {},
   "source": [
    "## Tutorial - TODO\n",
    "\n",
    "- Create a Patient Model\n",
    "- Remove an Attribute\n",
    "- Validate the Patient Model\n",
    "- Create a Patient Resource\n",
    "- Load the Patient Resource\n",
    "- Add an Attribute\n",
    "- Make an Attribute Searchable\n",
    "- Add a Coded Attribute\n",
    "- Documenting the Model\n",
    "- Publish Model Documentation"
   ]
  },
  {
   "cell_type": "code",
   "execution_count": null,
   "metadata": {},
   "outputs": [],
   "source": []
  }
 ],
 "metadata": {
  "kernelspec": {
   "display_name": "Python 3",
   "language": "python",
   "name": "python3"
  },
  "language_info": {
   "codemirror_mode": {
    "name": "ipython",
    "version": 3
   },
   "file_extension": ".py",
   "mimetype": "text/x-python",
   "name": "python",
   "nbconvert_exporter": "python",
   "pygments_lexer": "ipython3",
   "version": "3.7.5"
  },
  "toc": {
   "base_numbering": 1,
   "nav_menu": {},
   "number_sections": true,
   "sideBar": true,
   "skip_h1_title": false,
   "title_cell": "Table of Contents",
   "title_sidebar": "Contents",
   "toc_cell": false,
   "toc_position": {},
   "toc_section_display": true,
   "toc_window_display": false
  }
 },
 "nbformat": 4,
 "nbformat_minor": 2
}
