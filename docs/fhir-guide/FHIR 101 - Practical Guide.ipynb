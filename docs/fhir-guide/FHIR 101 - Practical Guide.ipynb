{
 "cells": [
  {
   "cell_type": "markdown",
   "metadata": {},
   "source": [
    "# 🔥 FHIR 101 - A Practical Guide"
   ]
  },
  {
   "cell_type": "markdown",
   "metadata": {
    "heading_collapsed": true
   },
   "source": [
    "## Notebook Setup\n",
    "If you haven't already setup your development environment please do so by following the instructions on the `kf-model-fhir` GitHub repository's [README](https://github.com/kids-first/kf-model-fhir#installation)\n",
    "\n",
    "Next, run the cell below and then refresh this page in the browser."
   ]
  },
  {
   "cell_type": "code",
   "execution_count": 7,
   "metadata": {
    "hidden": true
   },
   "outputs": [],
   "source": [
    "%%capture\n",
    "%%bash\n",
    "pip install jupyter jupyterthemes jupyter_contrib_nbextensions\n",
    "jupyter contrib nbextension install\n",
    "jupyter nbextension enable collapsible_headings/main codefolding/main\n",
    "jt -t solarizedl -cursw 3 -cellw 1000 -tf sourcesans"
   ]
  },
  {
   "cell_type": "markdown",
   "metadata": {
    "heading_collapsed": true
   },
   "source": [
    "## Hello! What is this Guide?"
   ]
  },
  {
   "cell_type": "markdown",
   "metadata": {
    "hidden": true
   },
   "source": [
    "If any of the following statements applies to you or you've had any of the questions below, then this guide is for you!\n",
    "- 🤷‍♀️I've heard the term FHIR. But is it a server? A database? A data model? Rapid oxidation?\n",
    "- 🙀I understand what FHIR is but have no idea how to implement it!\n",
    "- 😕I tried reading through [HL7 FHIR](https://www.hl7.org/fhir/) but it is confusing and difficult to navigate\n",
    "- 🤔How does FHIR modeling relate to relational databases?   \n",
    "\n",
    "The primary purpose of this notebook is to quickly get you educated on what FHIR is and walk you through practical exercises that will teach you the FHIR basics:\n",
    "1. Create and validate a FHIR data model for an entity\n",
    "2. Add/remove simple and complex attributes to/from an entity in the model\n",
    "3. Make entity attributes searchable in the FHIR server\n",
    "4. Deploy the FHIR data model into a FHIR server\n",
    "5. Load data into the FHIR server which conforms to the model\n",
    "6. Search for data in the FHIR server\n",
    "\n",
    "**If you don't care to know background and want to get right to development, head to the Tutorial section!**"
   ]
  },
  {
   "cell_type": "markdown",
   "metadata": {
    "heading_collapsed": true
   },
   "source": [
    "## What is FHIR"
   ]
  },
  {
   "cell_type": "markdown",
   "metadata": {
    "hidden": true
   },
   "source": [
    "Let's start with understanding exactly what FHIR is. FHIR stands for `Fast Healthcare Interoperability Resources` and was created by the organization `Health Level 7` or `HL7`.  \n",
    "\n",
    "There is a large active international community that helps develop the specification. You can read more about it here: \n",
    "\n",
    "📘Learn more about [FHIR](http://hl7.org/fhir/index.html)\n",
    "\n",
    "📘Learn more about [HL7](http://hl7.org)"
   ]
  },
  {
   "cell_type": "markdown",
   "metadata": {
    "hidden": true
   },
   "source": [
    "### FHIR Is ...\n",
    "A specification that includes all of the following:\n",
    "- A loosely defined [base data model](https://www.hl7.org/fhir/resourcelist.html) describing things in healthcare (e.g. Patient, Specimen) and how they relate to     each other. The base data model also includes definitions and restrictions on server functionality\n",
    "- How to extend or change the base data model to fit different healthcare use cases\n",
    "- A database agnostic domain specific language (DSL) for developing files that make up the FHIR data model\n",
    "- A [RESTful web API specification](https://www.hl7.org/fhir/exchange-module.html) to create, read, update, delete, and search FHIR data in a FHIR server\n",
    "- A RESTful query language that describes how to construct search queries for a FHIR server\n",
    "- Standards for how consumers of FHIR data should be authenticated and authorized access to health data."
   ]
  },
  {
   "cell_type": "markdown",
   "metadata": {
    "hidden": true
   },
   "source": [
    "### FHIR is NOT ...\n",
    "- A database\n",
    "- A database schema\n",
    "- A server\n",
    "\n",
    "It is important to understand that the FHIR specification is completely technology agnostic. Thus, it does not depend on programming languages or include things like relational database schemas. It is up to the implementers to decide how to implement the data model (i.e. relational database, nosql database, etc) and RESTful API. "
   ]
  },
  {
   "cell_type": "markdown",
   "metadata": {
    "heading_collapsed": true
   },
   "source": [
    "## Concepts"
   ]
  },
  {
   "cell_type": "markdown",
   "metadata": {
    "hidden": true
   },
   "source": [
    "The FHIR spec is large and daunting, so we cannot cover all of the major concepts in FHIR. However, this section and the next should give you all you need to understand what you're doing in the tutorial. \n",
    "\n",
    "📘A good resource to learn [FHIR Basics](https://smilecdr.com/docs/tutorial_and_tour/fhir_basics.html#fhir-basics)"
   ]
  },
  {
   "cell_type": "markdown",
   "metadata": {
    "hidden": true
   },
   "source": [
    "### FHIR Resource "
   ]
  },
  {
   "cell_type": "markdown",
   "metadata": {
    "hidden": true
   },
   "source": [
    "A term that describes a basic entity in the FHIR specification. A resource definition can be in JSON or XML format, but for the purposes of this guide, we will always use JSON.\n",
    "\n",
    "📘Learn more about [FHIR Resources](https://www.hl7.org/fhir/resource.html)"
   ]
  },
  {
   "cell_type": "markdown",
   "metadata": {
    "hidden": true
   },
   "source": [
    "**Examples of resources are:**\n",
    "\n",
    "`Patient` - which represents a person in a healthcare system\n",
    "\n",
    "`Specimen` - which represents a biosample drawn from a patient\n",
    "\n",
    "`StructureDefinition` - this is different from the first two. It describes the model or definition for various\n",
    "healthcare entities such as `Patient`, `Specimen`, etc.\n",
    "\n",
    "**A `Patient` resource might look like this:**\n",
    "```json\n",
    "{\n",
    "    \"resourceType\":\"Patient\",\n",
    "    \"id\": \"PT-001\",\n",
    "    \"meta\": {\n",
    "        \"profile\": [\"http://fhir.kids-first.io/StructureDefinition/Patient\"]\n",
    "    },\n",
    "    \"gender\": \"male\",\n",
    "    \"name\": [\n",
    "        {\n",
    "            \"use\": \"usual\",\n",
    "            \"family\":\"Smith\",\n",
    "            \"given\": \"Jack\",\n",
    "            \"period\": {\n",
    "                \"end\": \"2001-01-01\"\n",
    "            }\n",
    "        }\n",
    "    ]\n",
    "}\n",
    "``` "
   ]
  },
  {
   "cell_type": "markdown",
   "metadata": {
    "heading_collapsed": true,
    "hidden": true
   },
   "source": [
    "### Resource Categories"
   ]
  },
  {
   "cell_type": "markdown",
   "metadata": {
    "hidden": true
   },
   "source": [
    "There are different categories of FHIR resources such as \n",
    "\n",
    "- `Conformance Resource` \n",
    "- `Terminology Resource`\n",
    "- `Individual Resource`\n",
    "- `Diagnosic Resource`\n",
    "- ...many more\n",
    "\n",
    "However, the most important categories of resources for the purposes of this tutorial are `Conformance Resources` and `Terminology Resources` because these are the ones we will create in order to build a FHIR data model. "
   ]
  },
  {
   "cell_type": "markdown",
   "metadata": {
    "heading_collapsed": true,
    "hidden": true
   },
   "source": [
    "### FHIR Data Types"
   ]
  },
  {
   "cell_type": "markdown",
   "metadata": {
    "hidden": true
   },
   "source": [
    "FHIR resource models use a set of data types for holding their values. Data types can be primitive, meaning that they hold a simple value (typically a string, a number, etc.). Other data types are composite, meaning they are a structure containing several elements. Some examples are:\n",
    "\n",
    "**Primitive Data Types**\n",
    "\n",
    "- String - a string of text - `female`\n",
    "- Decimal - an abitrary precision float - `3.14`\n",
    "\n",
    "**Composite Data Types**\n",
    "\n",
    "- HumanName - A person's complete name, broken into individual parts\n",
    "```json\n",
    "{\n",
    "   \"family\": \"Smith\",\n",
    "   \"given\": [ \"John\", \"Frank\" ],\n",
    "   \"suffix\": [ \"Jr\" ]\n",
    "}\n",
    "```\n",
    "\n",
    "📘Learn about all [FHIR Data Types](https://www.hl7.org/fhir/datatypes.html)"
   ]
  },
  {
   "cell_type": "markdown",
   "metadata": {
    "heading_collapsed": true,
    "hidden": true
   },
   "source": [
    "### FHIR Versions"
   ]
  },
  {
   "cell_type": "markdown",
   "metadata": {
    "hidden": true
   },
   "source": [
    "Changes to the FHIR specification are tracked via different versions. A FHIR version has a name \n",
    "and a semantic version number. The biggest differences among versions are usually structural and content\n",
    "changes in the FHIR base model definitions.\n",
    "\n",
    "The most current and commonly used versions are:\n",
    "\n",
    "- STU3 or version 3.0.2\n",
    "- R4 or version 4.0.1\n",
    "\n",
    "**This tutorial will always use version R4**\n",
    "\n",
    "📘Learn more about [FHIR Versions](https://www.hl7.org/fhir/versions.html#versions)"
   ]
  },
  {
   "cell_type": "markdown",
   "metadata": {
    "heading_collapsed": true
   },
   "source": [
    "## Model Development"
   ]
  },
  {
   "cell_type": "markdown",
   "metadata": {
    "hidden": true
   },
   "source": [
    "What does it mean to develop a FHIR data model? Well, its not entirely different from developing any kind of data model. Developing a data model usually consists of the following steps: \n",
    "\n",
    "1. Define entities in the model and their attributes\n",
    "2. Define relationships between entities\n",
    "3. Define constraints on entity attributes (i.e. types, min/max, one of, etc)\n",
    "4. Define constraints on entity relationships (i.e. Specimen must have one Patient, DiagnosticReport must have one      Patient, etc.)\n",
    "5. Validate the model\n",
    "\n",
    "More concretely, developing a data model in FHIR means:\n",
    "1. Authoring JSON files containing `Conformance Resource` and `Terminology Resource` payloads\n",
    "2. Validating `Conformance Resource` and `Terminology Resource` using one of the standalone HL7 validation tools or POSTing the resource payload to a FHIR server"
   ]
  },
  {
   "cell_type": "markdown",
   "metadata": {
    "hidden": true
   },
   "source": [
    "⚡️**Key Take Away** - when we say \"model\" in FHIR, we are referring to `Conformance Resources` and `Terminology Resources`"
   ]
  },
  {
   "cell_type": "markdown",
   "metadata": {
    "heading_collapsed": true,
    "hidden": true
   },
   "source": [
    "### Conformance Resources"
   ]
  },
  {
   "cell_type": "markdown",
   "metadata": {
    "hidden": true
   },
   "source": [
    "There are several different types of `Conformance Resources` but the ones that are used most in FHIR model development are: \n",
    "\n",
    "- `StructureDefinition` - this resource captures steps 1 through 4 above for healthcare entities like `Patient`, `Specimen`, `DiagnosticReport`, etc.\n",
    "\n",
    "- `SearchParameter` - this resource is used to specify an attribute on an entity (Patient.gender) which can be used to search for instances of that entity on a FHIR server and what keyword/path (Patient.gender.code.value) should be used when searching.\n",
    "\n",
    "We will take a deep dive into both of these in the tutorial.\n",
    "\n",
    "📘Learn more about [Conformance Resources](https://www.hl7.org/fhir/conformance-module.html)"
   ]
  },
  {
   "cell_type": "markdown",
   "metadata": {
    "heading_collapsed": true,
    "hidden": true
   },
   "source": [
    "### Terminology Resources"
   ]
  },
  {
   "cell_type": "markdown",
   "metadata": {
    "hidden": true
   },
   "source": [
    "Some entity attributes might need to be constrained to a particular value set which may come from a particular terminology system (or ontology) which defines attributes, their set of valid values, and an alphanumeric code that uniquely identifies each value.\n",
    "\n",
    "For example, we may want to constrain the `bodySite` attribute on `Specimen` to only have values from the NCIT ontology's `Specimen Source Site` value set. We can do this by defining `Terminology Resource`s and referencing them in the `StructureDefinition` for `Specimen`.\n",
    "\n",
    "Types of `Terminology Resource`s are:\n",
    "\n",
    "- `CodeSystem` - describes an Ontology, Terminology, or Enumeration\n",
    "\n",
    "- `ValueSet` - specifies a set of code and values drawn from one or more code systems\n",
    "\n",
    "You will see a practical example of this later in the tutorial.\n",
    "\n",
    "📘Learn about [Terminology Resources](https://www.hl7.org/fhir/terminologies.html)"
   ]
  },
  {
   "cell_type": "markdown",
   "metadata": {
    "heading_collapsed": true,
    "hidden": true
   },
   "source": [
    "### Model Documentation"
   ]
  },
  {
   "cell_type": "markdown",
   "metadata": {
    "hidden": true
   },
   "source": [
    "#### Implementation Guide\n",
    "FHIR data models are documented in a static website called an Implementation Guide. It has a standard format and looks much like the HL7 FHIR website. Implementation Guides describe and visually illustrate:\n",
    "\n",
    "- The model's `StructureDefinition`s\n",
    "- The differentials between the model's `StructureDefinition`s and the ones they extend\n",
    "- Example Resources for each `StructureDefinition`\n",
    "- The searchable attributes on each Resource\n",
    "\n",
    "There is also a FHIR resource, `ImplementationGuide`, which is a type of `Conformance Resource` used to store configuration information for generating the static site. \n",
    "\n",
    "#### Create and Publish\n",
    "Implementation Guides are generated using the [HL7 IG Publisher](https://confluence.hl7.org/display/FHIR/IG+Publisher+Documentation) Java CLI. The IG Publisher also fully validates the data model during its site generation process so it is often used as a model validation tool as well. The Kids First FHIR model uses it in this way.\n",
    "\n",
    "📘Learn more about Kids First [IG generation and model validation](https://github.com/kids-first/kf-model-fhir/blob/master/README.md) using IG Publisher "
   ]
  },
  {
   "cell_type": "markdown",
   "metadata": {
    "heading_collapsed": true,
    "hidden": true
   },
   "source": [
    "### Model Validation"
   ]
  },
  {
   "cell_type": "markdown",
   "metadata": {
    "hidden": true
   },
   "source": [
    "There are 2 primary ways to validate:\n",
    "\n",
    "1. Use the [HL7 IG Publisher](https://confluence.hl7.org/display/FHIR/IG+Publisher+Documentation) Java CLI\n",
    "2. Use a FHIR server's `<resourceType>/$validate` endpoint\n",
    "\n",
    "The most thorough and standard way to validate a FHIR data model is to use the IG Publisher. However, since the IG Publisher tightly couples IG site generation with validation it can be complicated to use. \n",
    "\n",
    "The second method is easier but not standard since each FHIR server may have slight differences in how is validated and how.\n",
    "\n",
    "To keep things simple, we will use the second method of validation."
   ]
  },
  {
   "cell_type": "markdown",
   "metadata": {
    "hidden": true
   },
   "source": [
    "⚡️**Key Take Away** - the most thorough way to validate a FHIR data model is using the HL7 IG Publisher"
   ]
  },
  {
   "cell_type": "markdown",
   "metadata": {
    "heading_collapsed": true
   },
   "source": [
    "## Server Development"
   ]
  },
  {
   "cell_type": "markdown",
   "metadata": {
    "heading_collapsed": true,
    "hidden": true
   },
   "source": [
    "### Pick an Existing Solution\n",
    "You might have noticed that there are not many open source or free FHIR servers currently in development. This is likely due to a couple of factors:\n",
    "\n",
    "- The FHIR specification is rapidly evolving and the tooling around it is still in early stages of development. \n",
    "- Server development is hard \n",
    "\n",
    "In order to develop a compliant FHIR server you must: \n",
    "\n",
    "- Implement the FHIR model validation logic. This is not easy since a FHIR model is authored     in the FHIR DSL. The server must know how to parse the DSL (a.k.a conformance resources) and   execute rules defined in them.\n",
    "- Implement a parser and query constructor for the custom FHIR RESTful query language\n",
    "\n",
    "### FHIR Server Solutions\n",
    "For these reasons it is best to select one of the existing FHIR server solutions rather than develop your own. The most promising ones are:\n",
    "\n",
    "<table style=\"bgcolor: none;\">\n",
    "    <tbody>\n",
    "        <tr>\n",
    "            <td style=\"border-right: 1px solid #cccccc; padding: 7px;\">\n",
    "                <a href=\"https://health-samurai.webflow.io/aidbox\">\n",
    "                    <img src=\"static/images/aidbox-logo.png\" alt=\"Health Samurai Aidbox\"/>\n",
    "                </a>\n",
    "            </td>\n",
    "            <td style=\"padding: 7px;\">\n",
    "                <a href=\"https://smilecdr.com\">\n",
    "                    <img src=\"static/images/smilecdr-logo.png\" alt=\"Smile CDR\"/>\n",
    "                </a>\n",
    "            </td>\n",
    "        </tr>\n",
    "    </tbody>\n",
    "</table>\n",
    "\n",
    "\n",
    "\n"
   ]
  },
  {
   "cell_type": "markdown",
   "metadata": {},
   "source": [
    "## Tutorial"
   ]
  },
  {
   "cell_type": "markdown",
   "metadata": {
    "heading_collapsed": true
   },
   "source": [
    "### Use Case\n",
    "In this tutorial we will create a simple data model that is able to capture basic demographic information about Leukemia patients that have had a biosample drawn from them.  No PHI data should be captured. In fact there should be no protected health information [(PHI)](https://www.hipaajournal.com/considered-phi-hipaa/) attributes available in the model.\n",
    "\n",
    "At a minimum we want to capture:\n",
    "\n",
    "**Patient Attributes**\n",
    "- Gender (required)\n",
    "- Biological sex (required)\n",
    "\n",
    "**Specimen Attributes**\n",
    "- The patient from whom the sample was drawn\n",
    "- Anatomical site or location on the body from which the sample was drawn\n",
    "- Composition - the type of sample - blood, tissue, saliva, etc.\n",
    "\n",
    "### Concepts\n",
    "You will learn the following practical concepts in this tutorial:\n",
    "\n",
    "- How to create a new model for a FHIR resource by extending it's base model\n",
    "- How to add/remove attributes from the base model\n",
    "- How to add make attributes required\n",
    "- How to make an attribute searchable\n",
    "- How to add a coded attribute - or one that is restricted to an enumeration defined by an ontology\n",
    "- How to validate your model\n",
    "- How to document your model"
   ]
  },
  {
   "cell_type": "markdown",
   "metadata": {
    "heading_collapsed": true
   },
   "source": [
    "### Setup"
   ]
  },
  {
   "cell_type": "markdown",
   "metadata": {
    "heading_collapsed": true,
    "hidden": true
   },
   "source": [
    "#### Requirements\n",
    "**FHIR Server**\n",
    "\n",
    "- We will use [HAPI](http://hapi.fhir.org/), the reference FHIR server, for this tutorial. \n",
    "\n",
    "**Base URL**\n",
    "\n",
    "- All HTTP requests will be sent to HAPI's base URL: http://hapi.fhir.org/baseR4\n",
    "\n",
    "**Model Development Editor**\n",
    "\n",
    "You will need something to author JSON formatted model files. Unfortunately there are almost no user friendly tools for this. Most model development is done in a code editor. This can be difficult as it requires the developer to unecessarily remember complex syntax of the FHIR DSL in order to create and edit model files.\n",
    "\n",
    "- **Forge** - is a [visual editor](https://simplifier.net/forge) for FHIR model development.     It does make some things easier, but it can be buggy and was natively developed for windows.   It is possible to [run it on OSX](http://docs.simplifier.net/forge/forgeInstall.html#running-on-macos). You can use it, but       explanation of how to use it is out   of the scope of this tutorial."
   ]
  },
  {
   "cell_type": "markdown",
   "metadata": {
    "hidden": true
   },
   "source": [
    "#### Development Environment\n",
    "Here we're going to import the code we need and complete the necessary setup which will be used later in the tutorial.\n",
    "\n",
    "You don't need to do this if you would like to use another HTTP client like `Postman` to interact with the FHIR server."
   ]
  },
  {
   "cell_type": "code",
   "execution_count": 23,
   "metadata": {
    "hidden": true
   },
   "outputs": [],
   "source": [
    "# Be sure to execute this cell so that we can use the client later\n",
    "from pprint import pprint\n",
    "from kf_model_fhir.client import FhirApiClient\n",
    "BASE_URL = 'http://hapi.fhir.org/baseR4'\n",
    "FHIR_VERSION = '4.0.0'\n",
    "client = FhirApiClient(base_url=BASE_URL, fhir_version=FHIR_VERSION)"
   ]
  },
  {
   "cell_type": "markdown",
   "metadata": {},
   "source": [
    "### Create a Patient Model"
   ]
  },
  {
   "cell_type": "markdown",
   "metadata": {},
   "source": [
    "The FHIR base model was intended to include many common healthcare entities\n",
    "like patients, biospecimens, etc. which cover 80% of healthcare data capture\n",
    "uses cases.\n",
    "\n",
    "It is rare to come across a healthcare entity that isn't represented in\n",
    "one of the existing FHIR resources. The remaining 20% of data capture use cases\n",
    "that are not satisfied by the base model can easily be satisfied by extending\n",
    "the base model.\n",
    "\n",
    "So we can start by looking at the base model's `Patient` `StructureDefinition` to\n",
    "see if anything needs to be modified."
   ]
  },
  {
   "cell_type": "markdown",
   "metadata": {},
   "source": [
    "The HL7 FHIR website has a nice visual representation of the `Patient`\n",
    "`StructureDefinition`:\n",
    "\n",
    "[![Patient StructureDefinition](static/images/patient-sd-visual.png)](https://www.hl7.org/fhir/patient.html#resource)\n",
    "\n",
    "We can already see that the `Patient` `StructureDefinition` has one attribute we want:\n",
    "\n",
    "- `gender`\n",
    "\n",
    "And many attributes that we'll want to **remove** because they represent PHI fields:\n",
    "- `name`\n",
    "- `telecom`\n",
    "- `address`\n",
    "- `birthDate`\n",
    "- `contactPoint`\n",
    "- `photo`"
   ]
  },
  {
   "cell_type": "markdown",
   "metadata": {},
   "source": [
    "#### Create Initial Patient StructureDefinition"
   ]
  },
  {
   "cell_type": "markdown",
   "metadata": {},
   "source": [
    "To create a custom data model for `Patient`, we must create a `StructureDefinition` which \n",
    "will extend the FHIR R4 `StructureDefinition` for `Patient`:"
   ]
  },
  {
   "cell_type": "code",
   "execution_count": 7,
   "metadata": {
    "code_folding": []
   },
   "outputs": [],
   "source": [
    "# Be sure to execute this cell so that we can use `patient_sd` later\n",
    "patient_sd = {\n",
    "    \"resourceType\": \"StructureDefinition\",\n",
    "    \"url\": \"http://fhir.kids-first.io/StructureDefinition/Patient\",\n",
    "    \"version\": \"0.1.0\",\n",
    "    \"name\": \"kids_first_research_participant\",\n",
    "    \"title\": \"Kids First Research Participant\",\n",
    "    \"status\": \"draft\",\n",
    "    \"publisher\": \"Kids First DRC\",\n",
    "    \"description\": \"The individual human or other organism.\",\n",
    "    \"fhirVersion\": \"4.0.0\",\n",
    "    \"kind\": \"resource\",\n",
    "    \"abstract\": False,\n",
    "    \"type\": \"Patient\",\n",
    "    \"baseDefinition\": \"http://hl7.org/fhir/StructureDefinition/Patient\",\n",
    "    \"derivation\": \"constraint\",\n",
    "    \"differential\": {\n",
    "        \"element\": [\n",
    "            {\n",
    "                \"id\": \"Patient\",\n",
    "                \"path\": \"Patient\"\n",
    "            },\n",
    "            {\n",
    "                \"id\": \"Patient.identifier\",\n",
    "                \"path\": \"Patient.identifier\",\n",
    "                \"mustSupport\": True\n",
    "            },\n",
    "            {\n",
    "                \"id\": \"Patient.name\",\n",
    "                \"path\": \"Patient.name\",\n",
    "                \"max\": \"0\"\n",
    "            },\n",
    "            {\n",
    "                \"id\": \"Patient.telecom\",\n",
    "                \"path\": \"Patient.telecom\",\n",
    "                \"max\": \"0\"\n",
    "            },\n",
    "            {\n",
    "                \"id\": \"Patient.address\",\n",
    "                \"path\": \"Patient.address\",\n",
    "                \"max\": \"0\"\n",
    "            },\n",
    "            {\n",
    "                \"id\": \"Patient.photo\",\n",
    "                \"path\": \"Patient.photo\",\n",
    "                \"max\": \"0\"\n",
    "            },\n",
    "            {\n",
    "                \"id\": \"Patient.contact\",\n",
    "                \"path\": \"Patient.contact\",\n",
    "                \"max\": \"0\"\n",
    "            },\n",
    "            {\n",
    "                \"id\": \"Patient.gender\",\n",
    "                \"path\": \"Patient.gender\",\n",
    "                \"min\": 1\n",
    "            }\n",
    "        ]\n",
    "    }\n",
    "}"
   ]
  },
  {
   "cell_type": "markdown",
   "metadata": {},
   "source": [
    "#### Anatomy of StructureDefinition"
   ]
  },
  {
   "cell_type": "markdown",
   "metadata": {},
   "source": [
    "We won't cover this in great detail but here are the important parts of the `StructureDefinition`:\n",
    "\n",
    "- `resourceType` - every FHIR resource has to declare what type it is\n",
    "- `baseDefinition` - this points to the `StructureDefinition` that the current one extends. It doesn't have to be one of the base FHIR definitions. It could be a `StructureDefinition`   from any FHIR data model. This is one of the features of FHIR that helps achieve interoperability.\n",
    "- `url` - this is a required unique identifier for a `Conformance Resource`. It is a stable [canonical identifier](http://hl7.org/fhir/resource.html#canonical) for the resource and is never intended to change regardless of which FHIR server uses it.\n",
    "- `fhirVersion` - the FHIR semantic version number is required. It will instruct  anything validating this resource to use R4 (4.0.0) validation logic.\n",
    "- `differential` or `snapshot` - Every `StructureDefinition` must have either a `differential` - a section of content that specifies differences from the base definition, or a `snapshot` section which specifies the full definition. For model development, you almost always use the `differential` section and not the `snapshot`."
   ]
  },
  {
   "cell_type": "markdown",
   "metadata": {},
   "source": [
    "📘Learn more about [StructureDefinition](http://hl7.org/fhir/structuredefinition.html) anatomy\n",
    "\n",
    "📘Learn more about [Resource identifiers](http://hl7.org/fhir/resource.html#identification)\n",
    "\n",
    "📘Browse [FHIR data models](https://simplifier.net/search?searchtype=Projects) from other projects"
   ]
  },
  {
   "cell_type": "markdown",
   "metadata": {},
   "source": [
    "### Remove Attributes"
   ]
  },
  {
   "cell_type": "markdown",
   "metadata": {},
   "source": [
    "We're going to start with the easiest modification first: removing an attribute from the base model. In fact, in our initial `Patient` `StructureDefinition`, we've already removed a handful of attributes. \n",
    "\n",
    "To remove an attribute you simply set its maximum cardinality to 0 in the `StructureDefinition` `differential` section: \n",
    "\n",
    "```json\n",
    "{\n",
    "    \"id\": \"Patient.name\",\n",
    "    \"path\": \"Patient.name\",\n",
    "    \"max\": \"0\"\n",
    "}\n",
    "```"
   ]
  },
  {
   "cell_type": "markdown",
   "metadata": {},
   "source": [
    "### Make an Attribute Required\n",
    "\n",
    "This is just as simple as removing an attribute. To make an attribute required you simply set its minimum cardinality to 1 in the `StructureDefinition` `differential` section::\n",
    "\n",
    "```json\n",
    "{\n",
    "    \"id\": \"Patient.gender\",\n",
    "    \"path\": \"Patient.gender\",\n",
    "    \"min\": 1\n",
    "}\n",
    "```"
   ]
  },
  {
   "cell_type": "markdown",
   "metadata": {},
   "source": [
    "### Validate the Patient Model"
   ]
  },
  {
   "cell_type": "markdown",
   "metadata": {},
   "source": [
    "Validating the Kids First Patient model means 2 things:\n",
    "\n",
    "1. Validate the Kids First `Patient` `StructureDefinition` - structure, syntax, cardinality, etc.\n",
    "2. Test both valid and invalid `Patient` Resources against the Kids First Patient `StructureDefinition`\n",
    "\n",
    "📘Learn more about [Resource Validation](https://www.hl7.org/fhir/validation.html)"
   ]
  },
  {
   "cell_type": "markdown",
   "metadata": {},
   "source": [
    "#### Validate StructureDefinition"
   ]
  },
  {
   "cell_type": "code",
   "execution_count": 28,
   "metadata": {},
   "outputs": [],
   "source": [
    "endpoint = f'{BASE_URL}/StructureDefinition'\n",
    "\n",
    "# Let's get into the habit of deleting existing instances before we create one\n",
    "# The easiest way to do this is to search for StructureDefinitions by canonical URL and\n",
    "# then delete what is returned (should only be 1 since canonical URL is a unique ID)\n",
    "success = client.delete_all(endpoint, params={'url': patient_sd['url']})\n",
    "assert success\n",
    "\n",
    "# POST the Patient StructureDefinition /StructureDefinition endpoint\n",
    "success, result = client.send_request('POST', endpoint, json=patient_sd)\n",
    "assert success"
   ]
  },
  {
   "cell_type": "markdown",
   "metadata": {},
   "source": [
    "#### Create a Patient Resource"
   ]
  },
  {
   "cell_type": "code",
   "execution_count": 58,
   "metadata": {},
   "outputs": [],
   "source": [
    "# Let's start by creating a valid (has all required attributes) Patient resource\n",
    "patient_rs = {\n",
    "    \"resourceType\":\"Patient\",\n",
    "    \"id\": \"kidsfirst-test-patient\",\n",
    "    \"meta\": {\n",
    "        \"profile\": [\"http://fhir.kids-first.io/StructureDefinition/Patient\"]\n",
    "    },\n",
    "    \"gender\": \"male\"\n",
    "}"
   ]
  },
  {
   "cell_type": "markdown",
   "metadata": {},
   "source": [
    "#### Validate the Patient Resource"
   ]
  },
  {
   "cell_type": "markdown",
   "metadata": {},
   "source": [
    "To test the `Patient` resource against the Kids First Patient model you must declare that this resource conforms to the `Patient` `StructureDefinition` like this:\n",
    "\n",
    "```json\n",
    "\"meta\": {\n",
    "    \"profile\": [\"http://fhir.kids-first.io/StructureDefinition/Patient\"]\n",
    "}\n",
    "```"
   ]
  },
  {
   "cell_type": "code",
   "execution_count": 64,
   "metadata": {},
   "outputs": [],
   "source": [
    "# Validate by POSTing to the /Patient/$validate endpoint\n",
    "endpoint = f\"{BASE_URL}/Patient/$validate\"\n",
    "\n",
    "# Since we know this is a valid Patient resource, it should succeed\n",
    "success, result = client.send_request('POST', endpoint, json=patient_rs)\n",
    "assert success"
   ]
  },
  {
   "cell_type": "markdown",
   "metadata": {},
   "source": [
    "#### Validate an Invalid Patient Resource"
   ]
  },
  {
   "cell_type": "code",
   "execution_count": 66,
   "metadata": {},
   "outputs": [],
   "source": [
    "# Let's create an invalid resource and make sure it fails \n",
    "# Invalid since its missing the REQUIRED gender attribute\n",
    "patient_rs_invalid = {\n",
    "    \"resourceType\":\"Patient\",\n",
    "    \"id\": \"kidsfirst-test-patient\",\n",
    "    \"meta\": {\n",
    "        \"profile\": [\"http://fhir.kids-first.io/StructureDefinition/Patient\"]\n",
    "    }\n",
    "}\n",
    "success, result = client.send_request('POST', endpoint, json=patient_rs_invalid)\n",
    "assert not success"
   ]
  },
  {
   "cell_type": "code",
   "execution_count": null,
   "metadata": {},
   "outputs": [],
   "source": []
  }
 ],
 "metadata": {
  "kernelspec": {
   "display_name": "Python 3",
   "language": "python",
   "name": "python3"
  },
  "language_info": {
   "codemirror_mode": {
    "name": "ipython",
    "version": 3
   },
   "file_extension": ".py",
   "mimetype": "text/x-python",
   "name": "python",
   "nbconvert_exporter": "python",
   "pygments_lexer": "ipython3",
   "version": "3.7.5"
  },
  "toc": {
   "base_numbering": 1,
   "nav_menu": {},
   "number_sections": true,
   "sideBar": true,
   "skip_h1_title": false,
   "title_cell": "Table of Contents",
   "title_sidebar": "Contents",
   "toc_cell": false,
   "toc_position": {},
   "toc_section_display": true,
   "toc_window_display": false
  }
 },
 "nbformat": 4,
 "nbformat_minor": 2
}
