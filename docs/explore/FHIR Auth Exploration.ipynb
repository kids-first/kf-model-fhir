{
 "cells": [
  {
   "cell_type": "markdown",
   "metadata": {},
   "source": [
    "# FHIR Auth Exploration\n",
    "------------------------------------\n",
    "\n",
    "Evaluate the authentication and authorization features on a handful of FHIR servers. "
   ]
  },
  {
   "cell_type": "markdown",
   "metadata": {},
   "source": [
    "## Background\n",
    "\n",
    "- See general OAuth 2.0 + OIDC refresher in `docs/explore/auth.md`\n",
    "- See summary of FHIR auth spec in `docs/explore/fhir_auth.md`"
   ]
  },
  {
   "cell_type": "markdown",
   "metadata": {},
   "source": [
    "## Summary\n",
    "\n",
    "Evaluations are listed from least promising to most promising"
   ]
  },
  {
   "cell_type": "markdown",
   "metadata": {},
   "source": [
    "### Microsoft FHIR Server on Azure\n",
    "\n",
    "Pros\n",
    "\n",
    "Cons\n",
    "\n",
    "\n",
    "### Vonk\n",
    "\n",
    "Pros\n",
    "\n",
    "Cons\n",
    "\n",
    "\n",
    "### Smile CDR (commercial HAPI)\n",
    "\n",
    "Pros\n",
    "\n",
    "Cons\n",
    "\n",
    "### Aidbox\n",
    "\n",
    "Pros\n",
    "\n",
    "Cons\n",
    "- Writing policies with sql is sort of confusing, need more documentation\n",
    "- Writing policies with json-schema is very confusing and overly verbose\n",
    "- Writing policies is easiest with matcho engine, but it doesn't work yet\n",
    "- RBAC implementation is very confusing. A role is not a collection of permissions\n",
    "  A role is just a tag on a user. The policy looks at that tag among other things\n",
    "  about the request (method, resource) to determine authorization. \n",
    "\n",
    "Questions\n",
    "- How do you restrict access to nested resources that result from search queries utilizing _include parameter\n",
    "- How do you restrict access to related resources that can be access via chained searches?\n",
    "- What is the best way to restrict access to an arbitrary group of resources? Is this what compartments are for?\n",
    "\n",
    "Comments\n",
    "- I believe there is a bug with tokens. Aidbox returns opaque token even when client is set to use\n",
    "  JWT\n",
    "- I believe there is a bug with how the access policies are evaluated\n",
    "- Currently Aidbox authorizes access if any([policy eval = True for policy in access_policies])\n",
    "  I'm not sure if this is good? Maybe we want deny access if any([policy eval = False for policy in   \n",
    "  access_policies])\n"
   ]
  },
  {
   "cell_type": "code",
   "execution_count": 1,
   "metadata": {},
   "outputs": [],
   "source": [
    "import requests\n",
    "from click.testing import CliRunner\n",
    "from pprint import pprint, pformat\n",
    "import pandas\n",
    "\n",
    "from requests.auth import HTTPBasicAuth\n",
    "\n",
    "from kf_model_fhir.config import FHIR_VERSION, SERVER_CONFIG, PROJECT_DIR\n",
    "from kf_model_fhir.loader import load_resources\n",
    "from kf_model_fhir.utils import read_json\n",
    "\n",
    "from helpers import *"
   ]
  },
  {
   "cell_type": "markdown",
   "metadata": {},
   "source": [
    "# Setup Required\n",
    "--------------------------\n",
    "\n",
    "Every server being evaluated is publically hosted so you don't need to spin up any docker containers. You just need to clone the `kf-model-fhir` repo and switch to the `search-api-testing` branch\n",
    "\n",
    "### 1. Get the Code\n",
    "\n",
    "```shell\n",
    "# Get code\n",
    "git clone git@github.com:kids-first/kf-model-fhir.git\n",
    "cd kf-model-fhir\n",
    "\n",
    "# Switch to right branch\n",
    "git checkout auth-feat-testing\n",
    "```\n",
    "\n",
    "### 2. Setup Virtual Environment\n",
    "\n",
    "```shell\n",
    "# Setup virtual env\n",
    "python3 -m venv venv\n",
    "source venv/bin/activate\n",
    "\n",
    "# Install requirements\n",
    "pip install -e .\n",
    "```\n",
    "\n",
    "Now you're ready to run this notebook\n",
    "\n",
    "### Important Notes\n",
    "\n",
    "\\* _Your Network Might Block Some FHIR Servers_\n",
    "```\n",
    "For us at chop, this means you have to be on `chopguest` to run \n",
    "this since `chopnet` blocks the Smile CDR server\n",
    "```\n",
    "\n",
    "\\* _Disclaimer - Throw Away Code_\n",
    "```\n",
    "Code in this branch is throw away code and only meant for search API exploration - don't judge :)\n",
    "There are probably bugs and things might break if you change certain things\n",
    "```"
   ]
  },
  {
   "cell_type": "markdown",
   "metadata": {},
   "source": [
    "### 3. Generate and Load Data\n",
    "\n",
    "- Data for this notebook is in the `kf-model-fhir/project` folder. \n",
    "- Conformance resources like StructureDefinitions and SearchParameters are in `kf-model-fhir/project/profiles` \n",
    "- Dummy resources that were generated from the step earlier are located `kf-model-fhir/project/resources`"
   ]
  },
  {
   "cell_type": "markdown",
   "metadata": {},
   "source": [
    "\\* _Only do this if you haven't already loaded data_"
   ]
  },
  {
   "cell_type": "code",
   "execution_count": 2,
   "metadata": {},
   "outputs": [],
   "source": [
    "# Generate resources\n",
    "# run_cli_cmd('generate', ['./resources'])\n",
    "# Load the servers with profiles and resources\n",
    "# load_all_servers()"
   ]
  },
  {
   "cell_type": "markdown",
   "metadata": {},
   "source": [
    "# Aidbox - as a Resource + Auth Server\n",
    "----------------------------------------------------------\n",
    "- Aidbox is a fully compliant OAuth 2.0 and OpenID connect authentication and authorization server\n",
    "- Aidbox can also be used as purely an OAuth 2.0 Resource Server, capable of validating OAuth 2 access tokens\n",
    "  from a 3rd party auth service (e.g. Auth0)\n",
    "- When used as a SMART on FHIR backend service, Aidbox also supports access control based on SMART on FHIR scopes\n",
    "\n",
    "In this section:\n",
    "- Aidbox will serve as the OAuth 2.0 Resource Server\n",
    "- Aidbox will also serve as the OAuth 2.0 authentication and authorization server"
   ]
  },
  {
   "cell_type": "markdown",
   "metadata": {},
   "source": [
    "## Auth Discovery API\n",
    "Before we do anything, we need to know about the various authorization endpoints the Aidbox auth server exposes.\n",
    "For this we will check the well known URI endpoints. Aidbox as several: https://docs.aidbox.app/auth-betta/well-known-endpoint. The one we care about right now is the OAuth server endpoint: `/.well-known/oauth-authorization-server`"
   ]
  },
  {
   "cell_type": "code",
   "execution_count": 4,
   "metadata": {},
   "outputs": [
    {
     "name": "stderr",
     "output_type": "stream",
     "text": [
      "2019-12-02 12:32:53,194 - FhirApiClient - DEBUG - GET http://localhost:8081/.well-known/oauth-authorization-server succeeded. Response:\n",
      "{'authorization_endpoint': 'http://localhost:8081/auth/authorize',\n",
      " 'claims_supported': ['sub',\n",
      "                      'aud',\n",
      "                      'email',\n",
      "                      'exp',\n",
      "                      'iat',\n",
      "                      'iss',\n",
      "                      'locale',\n",
      "                      'family_name',\n",
      "                      'given_name',\n",
      "                      'name',\n",
      "                      'picture'],\n",
      " 'grant_types_supported': ['authorization_code',\n",
      "                           'implicit',\n",
      "                           'password',\n",
      "                           'client_credentials'],\n",
      " 'id_token_signing_alg_values_supported': ['RS256'],\n",
      " 'issuer': 'http://localhost:8081',\n",
      " 'jwks_uri': 'http://localhost:8081/.well-known/jwks.json',\n",
      " 'response_types_supported': ['code',\n",
      "                              'token',\n",
      "                              'token id_token',\n",
      "                              'code id_token'],\n",
      " 'scopes_supported': ['openid', 'profile', 'email', 'groups'],\n",
      " 'token_endpoint': 'http://localhost:8081/auth/token',\n",
      " 'token_endpoint_auth_methods_supported': ['client_secret_post',\n",
      "                                           'client_secret_basic'],\n",
      " 'userinfo_endpoint': 'http://localhost:8081/auth/userinfo'}\n"
     ]
    }
   ],
   "source": [
    "server_settings = SERVER_CONFIG['aidbox-local']\n",
    "base_url = server_settings['base_url'].rstrip('/fhir')\n",
    "base_fhir_url = server_settings['base_url']\n",
    "\n",
    "_, resp_content = client.send_request(\n",
    "    'get',\n",
    "    f\"{base_url}/.well-known/oauth-authorization-server\"\n",
    ")\n",
    "token_endpoint = resp_content['response'].get('token_endpoint')"
   ]
  },
  {
   "cell_type": "markdown",
   "metadata": {},
   "source": [
    "## Scenario 1 - Basic Auth Flow\n",
    "- This notebook will serve as the client app requesting access to FHIR resources\n",
    "- The app will authenticate using basic auth\n",
    "- The app will have an access policy which gives it root access to everything"
   ]
  },
  {
   "cell_type": "markdown",
   "metadata": {},
   "source": [
    "Try to create a new client"
   ]
  },
  {
   "cell_type": "code",
   "execution_count": null,
   "metadata": {},
   "outputs": [],
   "source": [
    "notebook_client_id = 'fhir-auth-notebook-client'\n",
    "notebook_client_secret = 'mypassword'\n",
    "endpoint = f\"{base_url}/Client/{notebook_client_id}\"\n",
    "payload= {\n",
    "        'secret': notebook_client_secret,\n",
    "        'grant_types': ['basic']\n",
    "}\n",
    "_, resp_content = client.send_request(\n",
    "    'put', \n",
    "    endpoint,\n",
    "    json=payload\n",
    ")"
   ]
  },
  {
   "cell_type": "markdown",
   "metadata": {},
   "source": [
    "The above step failed because the anonymous user is not authorized to do anything on the auth server\n",
    "Aidbox comes with a default root client which can do anything. We will use this client for administrative\n",
    "operations"
   ]
  },
  {
   "cell_type": "code",
   "execution_count": null,
   "metadata": {},
   "outputs": [],
   "source": [
    "# Get the root client creds\n",
    "root_client_id = server_settings['username']\n",
    "root_client_pw = server_settings['password']\n",
    "root_client_auth = HTTPBasicAuth(root_client_id, root_client_pw)\n",
    "\n",
    "# Resend request with root client creds\n",
    "endpoint = f\"{base_url}/Client/{notebook_client_id}\"\n",
    "_, resp_content = client.send_request(\n",
    "    'put', \n",
    "    endpoint,\n",
    "    json=payload,\n",
    "    auth=root_client_auth\n",
    ")"
   ]
  },
  {
   "cell_type": "markdown",
   "metadata": {},
   "source": [
    "Try to access patient resources"
   ]
  },
  {
   "cell_type": "code",
   "execution_count": null,
   "metadata": {},
   "outputs": [],
   "source": [
    "_, resp_content = client.send_request(\n",
    "    'get', f\"{base_fhir_url}/Patient\"\n",
    ")"
   ]
  },
  {
   "cell_type": "markdown",
   "metadata": {},
   "source": [
    "The above failed because there is no access policy for our notebook client. We must create an access policy for the new client (again as the admin/root client)\n",
    "\n",
    "\\* Read more about access control management here: https://docs.aidbox.app/security/access-control"
   ]
  },
  {
   "cell_type": "code",
   "execution_count": null,
   "metadata": {},
   "outputs": [],
   "source": [
    "# Create the access policy for the notebook client\n",
    "endpoint = f\"{base_url}/AccessPolicy/notebook-root-access-policy\"\n",
    "payload = {\n",
    "    'engine': 'allow',\n",
    "    'description': 'Allows any operations on any resource',\n",
    "    'link': [\n",
    "        {\n",
    "            'resourceType': 'Client',\n",
    "            'id': 'fhir-auth-notebook-client'\n",
    "        }\n",
    "    ]\n",
    "}\n",
    "_, resp_content = client.send_request(\n",
    "    'put', \n",
    "    endpoint,\n",
    "    json=payload,\n",
    "    auth=root_client_auth\n",
    ")\n",
    "\n",
    "# Try to fetch the patients again\n",
    "# This time use your notebook client credentials\n",
    "notebook_client_auth = HTTPBasicAuth(notebook_client_id, notebook_client_secret)\n",
    "_, resp_content = client.send_request(\n",
    "    'get', \n",
    "    f\"{base_fhir_url}/Patient\",\n",
    "    auth=notebook_client_auth \n",
    ")\n",
    "print(f\"Resource count: {resp_content['response']['total']}\")"
   ]
  },
  {
   "cell_type": "markdown",
   "metadata": {},
   "source": [
    "## Scenario 2 - Client Credentials OAuth 2.0 Auth Flow\n",
    "- This notebook will serve as the OAuth 2.0 compliant `confidential client` app requesting access to FHIR resources\n",
    "- This is for demonstration purposes only. In real life a `confidential client`:\n",
    "    - Would likely be an internal app/process known to the FHIR resource server\n",
    "    - Is confidential because it can securely store its secret\n",
    "- This app will have an access policy which grants it root access to everything\n",
    "- This app will authenticate using its client id, secret via basic auth\n",
    "- Upon successful authentication client will receive an access token\n",
    "- Client will use the access token to make requests to access FHIR resources\n",
    "\n",
    "### \\* Note on Access Token\n",
    "The access token issued by Aidbox is just a simple JWT with no custom scopes/permissions. All permissions\n",
    "are defined via the Aidbox AccessPolicy resource"
   ]
  },
  {
   "cell_type": "markdown",
   "metadata": {},
   "source": [
    "1. Update our notebook `Client` resource with client_credentials grant type and new secret"
   ]
  },
  {
   "cell_type": "code",
   "execution_count": null,
   "metadata": {},
   "outputs": [],
   "source": [
    "notebook_client_secret= 'verysecret'\n",
    "_, resp_content = client.send_request(\n",
    "    'put', \n",
    "    f\"{base_url}/Client/{notebook_client_id}\",\n",
    "    json={\n",
    "        'secret': notebook_client_secret,\n",
    "        'grant_types': ['client_credentials'],\n",
    "        'auth': {\n",
    "            'client_credentials':{'token_format': 'jwt'}\n",
    "        }\n",
    "    },\n",
    "    auth=root_client_auth\n",
    ")\n"
   ]
  },
  {
   "cell_type": "markdown",
   "metadata": {},
   "source": [
    "2. Already have an access policy for this client, so we don't need to do anything here"
   ]
  },
  {
   "cell_type": "markdown",
   "metadata": {},
   "source": [
    "3. Authenticate and get access token"
   ]
  },
  {
   "cell_type": "code",
   "execution_count": null,
   "metadata": {},
   "outputs": [],
   "source": [
    "_, resp_content = client.send_request(\n",
    "    'post', \n",
    "    token_endpoint,\n",
    "    json={\n",
    "        'grant_type': 'client_credentials',\n",
    "        'client_id': notebook_client_id,\n",
    "        'client_secret': notebook_client_secret\n",
    "    }\n",
    ")\n",
    "\n",
    "jwt = resp_content['response']['access_token']"
   ]
  },
  {
   "cell_type": "markdown",
   "metadata": {},
   "source": [
    "4. Use the access token to get patients"
   ]
  },
  {
   "cell_type": "code",
   "execution_count": null,
   "metadata": {},
   "outputs": [],
   "source": [
    "_, resp_content = client.send_request(\n",
    "    'get', f\"{base_url}/Patient\",\n",
    "    headers={\n",
    "        'Authorization': f'Bearer {jwt}'\n",
    "    } \n",
    ")\n",
    "print(f\"Resource count: {resp_content['response']['total']}\")"
   ]
  },
  {
   "cell_type": "markdown",
   "metadata": {},
   "source": [
    "## Aidbox Access Control\n",
    "\n",
    "- Aidbox seems to mostly support Attribute Based Access Control (ABAC) via its access policies\n",
    "- Aidbox has several ways to write access policies/rules\n",
    "    - Use `engine: allow` which means allow everything\n",
    "    - Using `engine: sql`\n",
    "    - Using `engine: json-schema`\n",
    "    - Using `engine: complex` (allows composition of multiple policies)\n",
    "    - Using the new Aidbox policy engine called `matcho` which is based on custom DSL\n",
    "- An access policy can be appied to one or more `User`, `Client`, or `Operation` Aidbox resources\n",
    "- An incoming HTTP request is parsed into an Aidbox request object\n",
    "  See https://docs.aidbox.app/security/access-control for details\n",
    "- Whichever policy \"engine\" you choose you have access to all of the attributes\n",
    "  in the _synthesized_ request object\n",
    "- The request object aggregates things like: user and/or client credentials, user roles, request body, request   \n",
    "  query string params, etc into one object \n",
    "- Aidbox will find all of the access policies for the user and/or client associated with the request object\n",
    "- Aidbox will evaluate each access policy against the request object - as soon as a policy evaluates to `TRUE`, \n",
    "  the request is authorized"
   ]
  },
  {
   "cell_type": "markdown",
   "metadata": {},
   "source": [
    "### Scenario 1: Simple Access Control\n",
    "\n",
    "#### Read Only Policy for Clients"
   ]
  },
  {
   "cell_type": "markdown",
   "metadata": {},
   "source": [
    "- Delete the root policy for clients. \n",
    "- Create an access policy that allows read access to any resource by any client"
   ]
  },
  {
   "cell_type": "code",
   "execution_count": null,
   "metadata": {},
   "outputs": [],
   "source": [
    "# Create new read all resources policy for notebook client\n",
    "endpoint = f\"{base_url}/AccessPolicy/read-all-resources-policy\"\n",
    "payload = {\n",
    "    'engine': 'json-schema',\n",
    "    'schema': {\n",
    "        'required': ['uri', 'client', 'request-method'],\n",
    "        'properties': {\n",
    "            'uri': {\n",
    "                'type': 'string',\n",
    "                'pattern': '^/fhir/.*'\n",
    "            },\n",
    "            'request-method': {\n",
    "                'const': 'get'\n",
    "            }\n",
    "        }\n",
    "    },\n",
    "    'description': 'Allows GET operations on any resource by any client'\n",
    "}\n",
    "_, resp_content = client.send_request(\n",
    "    'put', \n",
    "    endpoint,\n",
    "    json=payload,\n",
    "    auth=root_client_auth\n",
    ")"
   ]
  },
  {
   "cell_type": "markdown",
   "metadata": {},
   "source": [
    "Make another client to test this out"
   ]
  },
  {
   "cell_type": "code",
   "execution_count": null,
   "metadata": {},
   "outputs": [],
   "source": [
    "_, resp_content = client.send_request(\n",
    "    'put', \n",
    "    f\"{base_url}/Client/test-client-id\",\n",
    "    json={\n",
    "        'secret': 'secret',\n",
    "        'grant_types': ['client_credentials'],\n",
    "        'auth': {\n",
    "            'client_credentials':{'token_format': 'jwt'}\n",
    "        }\n",
    "    },\n",
    "    auth=root_client_auth\n",
    ")"
   ]
  },
  {
   "cell_type": "markdown",
   "metadata": {},
   "source": [
    "Test each client's ability to GET and POST patients. POSTs should fail for both clients bc there is no policy for it"
   ]
  },
  {
   "cell_type": "code",
   "execution_count": null,
   "metadata": {},
   "outputs": [],
   "source": [
    "for c in [('test-client-id', 'secret'), (notebook_client_id, notebook_client_secret)]:\n",
    "    # Authenticate client and get access token\n",
    "    _, resp_content = client.send_request(\n",
    "        'post', \n",
    "        token_endpoint,\n",
    "        json={\n",
    "            'grant_type': 'client_credentials',\n",
    "            'client_id': c[0],\n",
    "            'client_secret': c[1]\n",
    "        }\n",
    "    )\n",
    "    jwt = resp_content['response']['access_token']\n",
    "    \n",
    "    # Get patients\n",
    "    success, resp_content = client.send_request(\n",
    "        'get', f\"{base_fhir_url}/Patient\",\n",
    "        headers={\n",
    "            'Authorization': f'Bearer {jwt}'\n",
    "        } \n",
    "    )\n",
    "\n",
    "    print(f\"\\n✅ GET {resp_content['request_url']} Resource count: {resp_content['response']['total']}\")\n",
    "          \n",
    "    # POST patient - should fail\n",
    "    success, resp_content = client.send_request(\n",
    "        'put', f\"{base_fhir_url}/Patient/test-patient\",\n",
    "        headers={\n",
    "            'Authorization': f'Bearer {jwt}'\n",
    "        },\n",
    "        json={\n",
    "            'resourceType': 'Patient',\n",
    "            'name': [\n",
    "                {\n",
    "                    'given': ['test-patient']\n",
    "                }\n",
    "            ] \n",
    "        }\n",
    "    )\n",
    "    if not success:\n",
    "          print(f\"\\n❌ POST Failed - {resp_content}\")"
   ]
  },
  {
   "cell_type": "markdown",
   "metadata": {},
   "source": [
    "### Scenario 2: Role Based User Access Control\n",
    "\n",
    "#### Developer Role \n",
    "- Can create, read, update any FHIR resource\n",
    "- Can delete resources they created (not sure how to do this)\n",
    "\n",
    "#### Admin Role\n",
    "- Full CRUD access to all FHIR resources\n",
    "\n",
    "#### Explorer Role\n",
    "- Can read FHIR resources for research studies they have access to"
   ]
  },
  {
   "cell_type": "code",
   "execution_count": null,
   "metadata": {
    "scrolled": true
   },
   "outputs": [],
   "source": [
    "# Get studies\n",
    "_, resp = client.send_request(\n",
    "    'get',\n",
    "    f'{base_fhir_url}/ResearchStudy',\n",
    "    auth=root_client_auth\n",
    ")\n",
    "studies = [s['resource']['id'] for s in resp['response']['entry']]\n",
    "\n",
    "# Create a user for each study \n",
    "for i, study_id in enumerate(studies):\n",
    "    user_id = f'user{i}'\n",
    "    _, resp = client.send_request(\n",
    "        'put',\n",
    "        f\"{base_url.rstrip('/fhir')}/User/{user_id}\",\n",
    "        auth=root_client_auth,\n",
    "        json={\n",
    "            'data': {\n",
    "                'name': user_id,\n",
    "                'study_id': study_id,\n",
    "                'roles': ['Explorer']\n",
    "            },\n",
    "            'email': f\"{user_id}@chop.edu\",\n",
    "            'password': user_id,\n",
    "            'id': user_id,\n",
    "            'resourceType': 'User'\n",
    "        }\n",
    "    )\n",
    "\n",
    "# Delete the previous policy\n",
    "_, resp_content = client.send_request(\n",
    "    'delete', \n",
    "    f\"{base_url}/AccessPolicy/read-all-resources-policy\",\n",
    "    auth=root_client_auth\n",
    ")\n",
    "\n",
    "# Create an access policy and attach to Explorer role\n",
    "_id = 'read-only-research-subject-policy'\n",
    "policy = f\"\"\"\n",
    "    sql:\n",
    "      query: |\n",
    "        SELECT\n",
    "          {{user}} IS NOT NULL\n",
    "          AND {{jwt}} IS NOT NULL\n",
    "          AND {{user.data.roles}} IS 'Explorer'\n",
    "          AND {{user.data.study_id}} IS NOT NULL\n",
    "          AND {{uri}} LIKE '/fhir/ResearchSubject.*'\n",
    "          AND resource->'study' @>\n",
    "        jsonb_build_array(jsonb_build_object('resourceType',\n",
    "            'ResearchSubject', 'id', {{user.data.study_id}}::text))\n",
    "          FROM researchsubject;\n",
    "    engine: sql\n",
    "    id: {_id}\n",
    "    resourceType: AccessPolicy\n",
    "\"\"\"\n",
    "_, resp = client.send_request(\n",
    "    'put',\n",
    "    f'{base_url}/AccessPolicy/{_id}',\n",
    "    auth=root_client_auth,\n",
    "    headers={\n",
    "        'Content-Type': 'text/yaml'\n",
    "    },\n",
    "    data=policy\n",
    ")\n",
    "\n",
    "# Add password grant to notebook client\n",
    "_, resp = client.send_request(\n",
    "    'patch',\n",
    "    f'{base_url}/Client/{notebook_client_id}',\n",
    "    json={\n",
    "        'grant_types': ['client_credentials', 'password']\n",
    "    },\n",
    "    auth=root_client_auth\n",
    ")\n",
    "# Get token first\n",
    "_, resp = client.send_request(\n",
    "    'post',\n",
    "    token_endpoint,\n",
    "    json={\n",
    "        'client_id': notebook_client_id,\n",
    "        'client_secret': notebook_client_secret,\n",
    "        'username': 'user1',\n",
    "        'password': 'user1',\n",
    "        'grant_type': 'password'\n",
    "    }\n",
    ")\n",
    "access_token = resp['response']['access_token'] "
   ]
  },
  {
   "cell_type": "code",
   "execution_count": null,
   "metadata": {},
   "outputs": [],
   "source": [
    "# Get research subjects\n",
    "_, resp = client.send_request(\n",
    "    'get',\n",
    "    f\"{base_url}/ResearchSubject\",\n",
    "    headers={\n",
    "        'Authorization': f\"Bearer {access_token}\"\n",
    "    },\n",
    "    params={'__debug': 'policy'}\n",
    ")"
   ]
  },
  {
   "cell_type": "markdown",
   "metadata": {},
   "source": [
    "# Aidbox - with External Auth Service (Auth0)\n",
    "--------------------------------------------------------------------"
   ]
  },
  {
   "cell_type": "code",
   "execution_count": null,
   "metadata": {},
   "outputs": [],
   "source": []
  }
 ],
 "metadata": {
  "kernelspec": {
   "display_name": "Python 3",
   "language": "python",
   "name": "python3"
  },
  "language_info": {
   "codemirror_mode": {
    "name": "ipython",
    "version": 3
   },
   "file_extension": ".py",
   "mimetype": "text/x-python",
   "name": "python",
   "nbconvert_exporter": "python",
   "pygments_lexer": "ipython3",
   "version": "3.7.5"
  }
 },
 "nbformat": 4,
 "nbformat_minor": 2
}
