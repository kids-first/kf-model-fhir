{
 "cells": [
  {
   "cell_type": "markdown",
   "metadata": {},
   "source": [
    "# FHIR Search API Exploration\n",
    "\n",
    "Evaluate the search features on a handful of FHIR servers. This demonstrates a bunch of search queries on the servers being evaluated. Scroll down past the evaluation section to run the notebook and see it in action. "
   ]
  },
  {
   "cell_type": "markdown",
   "metadata": {},
   "source": [
    "## Summary\n",
    "\n",
    "Evaluations are listed from least promising to most promising"
   ]
  },
  {
   "cell_type": "markdown",
   "metadata": {},
   "source": [
    "### Microsoft FHIR Server on Azure\n",
    "\n",
    "Pros\n",
    "- Open source\n",
    "- Free\n",
    "- A \"straight\" FHIR server that adheres to FHIR spec\n",
    "- Good error handling and reporting\n",
    "    - Reports when a search param or operation is not supported\n",
    "\n",
    "Cons\n",
    "- Only runs on Azure\n",
    "- Very little documentation\n",
    "- Does not support a lot of major search functionality\n",
    "    - Doesn't support full text search\n",
    "    - Doesn't support custom queries\n",
    "    - Chaining/reverse chaining\n",
    "    - Including references\n",
    "\n",
    "\n",
    "### Vonk\n",
    "\n",
    "Pros\n",
    "- A \"straight\" FHIR server that adheres to FHIR spec\n",
    "- Has ~70% of search API spec implemented\n",
    "- Decent documentation\n",
    "- Vonk team is fairly responsive to issue reports (0.5 - 1day) on Zulip\n",
    "\n",
    "Cons\n",
    "- Not open source\n",
    "- Not free\n",
    "- Production releases are very buggy\n",
    "- Not as quick to turn around fixes and releases as Aidbox\n",
    "- Ignores search parameters it doesn't understand and returns everything\n",
    "- Error handling and reporting is confusing or lacking\n",
    "- Has a limited policy engine for access control\n",
    "- Doesn't support full text search\n",
    "- Doesn't support custom queries\n",
    "\n",
    "\n",
    "### Smile CDR (commercial HAPI)\n",
    "\n",
    "Pros\n",
    "- A \"straight\" FHIR server that adheres to FHIR spec\n",
    "- Has 70% of search API spec implemented\n",
    "- Looks like professional/detailed documentation\n",
    "- Looks like there are a lot of features - haven't had time to delve into them all\n",
    "- Built on top of HAPI, open source FHIR server\n",
    "- Good error handling and reporting\n",
    "    - Reports when a search param or operation is not supported\n",
    "- Supports full text search\n",
    "- Supports multitenancy and seems to have a lot of features relating to auth\n",
    "\n",
    "Cons\n",
    "- Not free\n",
    "- Not sure if it supports some of the basic search parameters\n",
    "\n",
    "### Aidbox\n",
    "\n",
    "Pros\n",
    "- Has 70% of search API spec implemented\n",
    "- Supports special search features that make it very flexible\n",
    "    - Full text search\n",
    "    - Query by SQL\n",
    "    - Save SQL queries as endpoints\n",
    "    - Query by exact path\n",
    "- Decent documentation\n",
    "- Team is very responsive to issues and makes releases often\n",
    "- Good error handling and reporting\n",
    "    - Reports when a search param or operation is not supported\n",
    "- Aidbox representation of conformance resources is much easier to digest\n",
    "  and understand than FHIR conformance resources\n",
    "- Uses PostgresSQL as their database and its open source\n",
    "- Has a GraphQL API - haven't tested it yet\n",
    "\n",
    "Cons\n",
    "- Represents conformance resources (e.g. extensions, search parameters in their own way\n",
    "    - Until they've developed the tools to easily go between Aidbox and FHIR, we will \n",
    "      have to do this ourselves\n",
    "- Does not seem to support the :missing: modifier for search"
   ]
  },
  {
   "cell_type": "code",
   "execution_count": 1,
   "metadata": {},
   "outputs": [
    {
     "name": "stdout",
     "output_type": "stream",
     "text": [
      "Servers being evaluated: ['aidbox',\n",
      " 'aidbox-local',\n",
      " 'smile-cdr',\n",
      " 'hapi',\n",
      " 'azure',\n",
      " 'vonk-kidsfirst-public']\n"
     ]
    }
   ],
   "source": [
    "import requests\n",
    "from click.testing import CliRunner\n",
    "from pprint import pprint, pformat\n",
    "import pandas\n",
    "\n",
    "from requests.auth import HTTPBasicAuth\n",
    "\n",
    "from kf_model_fhir.config import FHIR_VERSION, SERVER_CONFIG, PROJECT_DIR\n",
    "from kf_model_fhir.loader import load_resources\n",
    "from kf_model_fhir.utils import read_json\n",
    "\n",
    "from helpers import *\n",
    "\n",
    "print(f'Servers being evaluated: {pformat(list(SERVER_CONFIG.keys()))}')"
   ]
  },
  {
   "cell_type": "markdown",
   "metadata": {},
   "source": [
    "## Setup Required\n",
    "\n",
    "Every server being evaluated is publically hosted so you don't need to spin up any docker containers. You just need to clone the `kf-model-fhir` repo and switch to the `search-api-testing` branch\n",
    "\n",
    "### 1. Get the Code\n",
    "\n",
    "```shell\n",
    "# Get code\n",
    "git clone git@github.com:kids-first/kf-model-fhir.git\n",
    "cd kf-model-fhir\n",
    "\n",
    "# Switch to right branch\n",
    "git checkout search-api-testing\n",
    "```\n",
    "\n",
    "### 2. Setup Virtual Environment\n",
    "\n",
    "```shell\n",
    "# Setup virtual env\n",
    "python3 -m venv venv\n",
    "source venv/bin/activate\n",
    "\n",
    "# Install requirements\n",
    "pip install -e .\n",
    "```\n",
    "\n",
    "Now you're ready to run this notebook\n",
    "\n",
    "## Important Notes\n",
    "\n",
    "### * Your Network Might Block Some FHIR Servers\n",
    "For us at chop, this means you have to be on `chopguest` to run this since `chopnet` blocks the Smile CDR server\n",
    "\n",
    "### * Disclaimer - Throw Away Code\n",
    "Code in this branch is throw away code and only meant for search API exploration - don't judge :)\n",
    "There are probably bugs and things might break if you change certain things"
   ]
  },
  {
   "cell_type": "markdown",
   "metadata": {},
   "source": [
    "## Generate the Test Data"
   ]
  },
  {
   "cell_type": "code",
   "execution_count": 2,
   "metadata": {},
   "outputs": [
    {
     "name": "stderr",
     "output_type": "stream",
     "text": [
      "2019-12-02 12:52:23,994 - kf_model_fhir.app - INFO - Created research study SD-00000\n",
      "2019-12-02 12:52:23,995 - kf_model_fhir.app - INFO - Created research study SD-00001\n",
      "2019-12-02 12:52:23,997 - kf_model_fhir.app - INFO - Created patient PT-00000\n",
      "2019-12-02 12:52:23,999 - kf_model_fhir.app - INFO - Created research subject RS-00000\n",
      "2019-12-02 12:52:24,001 - kf_model_fhir.app - INFO - Created specimen BS-00000-0\n",
      "2019-12-02 12:52:24,003 - kf_model_fhir.app - INFO - Created observation OB-00000-0\n",
      "2019-12-02 12:52:24,005 - kf_model_fhir.app - INFO - Created specimen BS-00000-1\n",
      "2019-12-02 12:52:24,007 - kf_model_fhir.app - INFO - Created observation OB-00000-0\n",
      "2019-12-02 12:52:24,009 - kf_model_fhir.app - INFO - Created condition CD-00000-0\n",
      "2019-12-02 12:52:24,013 - kf_model_fhir.app - INFO - Created patient PT-00001\n",
      "2019-12-02 12:52:24,034 - kf_model_fhir.app - INFO - Created research subject RS-00001\n",
      "2019-12-02 12:52:24,036 - kf_model_fhir.app - INFO - Created specimen BS-00001-0\n",
      "2019-12-02 12:52:24,037 - kf_model_fhir.app - INFO - Created observation OB-00001-0\n",
      "2019-12-02 12:52:24,039 - kf_model_fhir.app - INFO - Created specimen BS-00001-1\n",
      "2019-12-02 12:52:24,041 - kf_model_fhir.app - INFO - Created observation OB-00001-0\n",
      "2019-12-02 12:52:24,045 - kf_model_fhir.app - INFO - Created condition CD-00001-0\n",
      "2019-12-02 12:52:24,048 - kf_model_fhir.app - INFO - Created patient PT-00002\n",
      "2019-12-02 12:52:24,051 - kf_model_fhir.app - INFO - Created research subject RS-00002\n",
      "2019-12-02 12:52:24,052 - kf_model_fhir.app - INFO - Created specimen BS-00002-0\n",
      "2019-12-02 12:52:24,055 - kf_model_fhir.app - INFO - Created observation OB-00002-0\n",
      "2019-12-02 12:52:24,057 - kf_model_fhir.app - INFO - Created specimen BS-00002-1\n",
      "2019-12-02 12:52:24,058 - kf_model_fhir.app - INFO - Created observation OB-00002-0\n",
      "2019-12-02 12:52:24,061 - kf_model_fhir.app - INFO - Created condition CD-00002-0\n",
      "2019-12-02 12:52:24,063 - kf_model_fhir.app - INFO - Created patient PT-00003\n",
      "2019-12-02 12:52:24,064 - kf_model_fhir.app - INFO - Created research subject RS-00003\n",
      "2019-12-02 12:52:24,066 - kf_model_fhir.app - INFO - Created specimen BS-00003-0\n",
      "2019-12-02 12:52:24,077 - kf_model_fhir.app - INFO - Created observation OB-00003-0\n",
      "2019-12-02 12:52:24,080 - kf_model_fhir.app - INFO - Created specimen BS-00003-1\n",
      "2019-12-02 12:52:24,082 - kf_model_fhir.app - INFO - Created observation OB-00003-0\n",
      "2019-12-02 12:52:24,083 - kf_model_fhir.app - INFO - Created condition CD-00003-0\n",
      "2019-12-02 12:52:24,085 - kf_model_fhir.app - INFO - Created patient PT-00004\n",
      "2019-12-02 12:52:24,104 - kf_model_fhir.app - INFO - Created research subject RS-00004\n",
      "2019-12-02 12:52:24,106 - kf_model_fhir.app - INFO - Created specimen BS-00004-0\n",
      "2019-12-02 12:52:24,110 - kf_model_fhir.app - INFO - Created observation OB-00004-0\n",
      "2019-12-02 12:52:24,113 - kf_model_fhir.app - INFO - Created specimen BS-00004-1\n",
      "2019-12-02 12:52:24,115 - kf_model_fhir.app - INFO - Created observation OB-00004-0\n",
      "2019-12-02 12:52:24,132 - kf_model_fhir.app - INFO - Created condition CD-00004-0\n",
      "2019-12-02 12:52:24,137 - kf_model_fhir.app - INFO - Created patient PT-00005\n",
      "2019-12-02 12:52:24,152 - kf_model_fhir.app - INFO - Created research subject RS-00005\n",
      "2019-12-02 12:52:24,154 - kf_model_fhir.app - INFO - Created specimen BS-00005-0\n",
      "2019-12-02 12:52:24,156 - kf_model_fhir.app - INFO - Created observation OB-00005-0\n",
      "2019-12-02 12:52:24,158 - kf_model_fhir.app - INFO - Created specimen BS-00005-1\n",
      "2019-12-02 12:52:24,161 - kf_model_fhir.app - INFO - Created observation OB-00005-0\n",
      "2019-12-02 12:52:24,165 - kf_model_fhir.app - INFO - Created condition CD-00005-0\n",
      "2019-12-02 12:52:24,177 - kf_model_fhir.app - INFO - Created patient PT-00006\n",
      "2019-12-02 12:52:24,179 - kf_model_fhir.app - INFO - Created research subject RS-00006\n",
      "2019-12-02 12:52:24,181 - kf_model_fhir.app - INFO - Created specimen BS-00006-0\n",
      "2019-12-02 12:52:24,202 - kf_model_fhir.app - INFO - Created observation OB-00006-0\n",
      "2019-12-02 12:52:24,204 - kf_model_fhir.app - INFO - Created specimen BS-00006-1\n",
      "2019-12-02 12:52:24,206 - kf_model_fhir.app - INFO - Created observation OB-00006-0\n",
      "2019-12-02 12:52:24,209 - kf_model_fhir.app - INFO - Created condition CD-00006-0\n",
      "2019-12-02 12:52:24,212 - kf_model_fhir.app - INFO - Created patient PT-00007\n",
      "2019-12-02 12:52:24,215 - kf_model_fhir.app - INFO - Created research subject RS-00007\n",
      "2019-12-02 12:52:24,220 - kf_model_fhir.app - INFO - Created specimen BS-00007-0\n",
      "2019-12-02 12:52:24,232 - kf_model_fhir.app - INFO - Created observation OB-00007-0\n",
      "2019-12-02 12:52:24,234 - kf_model_fhir.app - INFO - Created specimen BS-00007-1\n",
      "2019-12-02 12:52:24,237 - kf_model_fhir.app - INFO - Created observation OB-00007-0\n",
      "2019-12-02 12:52:24,253 - kf_model_fhir.app - INFO - Created condition CD-00007-0\n",
      "2019-12-02 12:52:24,257 - kf_model_fhir.app - INFO - Created patient PT-00008\n",
      "2019-12-02 12:52:24,259 - kf_model_fhir.app - INFO - Created research subject RS-00008\n",
      "2019-12-02 12:52:24,261 - kf_model_fhir.app - INFO - Created specimen BS-00008-0\n",
      "2019-12-02 12:52:24,263 - kf_model_fhir.app - INFO - Created observation OB-00008-0\n",
      "2019-12-02 12:52:24,264 - kf_model_fhir.app - INFO - Created specimen BS-00008-1\n",
      "2019-12-02 12:52:24,266 - kf_model_fhir.app - INFO - Created observation OB-00008-0\n",
      "2019-12-02 12:52:24,268 - kf_model_fhir.app - INFO - Created condition CD-00008-0\n",
      "2019-12-02 12:52:24,269 - kf_model_fhir.app - INFO - Created patient PT-00009\n",
      "2019-12-02 12:52:24,271 - kf_model_fhir.app - INFO - Created research subject RS-00009\n",
      "2019-12-02 12:52:24,284 - kf_model_fhir.app - INFO - Created specimen BS-00009-0\n",
      "2019-12-02 12:52:24,291 - kf_model_fhir.app - INFO - Created observation OB-00009-0\n",
      "2019-12-02 12:52:24,293 - kf_model_fhir.app - INFO - Created specimen BS-00009-1\n",
      "2019-12-02 12:52:24,295 - kf_model_fhir.app - INFO - Created observation OB-00009-0\n",
      "2019-12-02 12:52:24,296 - kf_model_fhir.app - INFO - Created condition CD-00009-0\n"
     ]
    }
   ],
   "source": [
    "# Generate resources\n",
    "run_cli_cmd('generate', [os.path.join(PROJECT_DIR, 'resources')])"
   ]
  },
  {
   "cell_type": "markdown",
   "metadata": {},
   "source": [
    "## Test Data Description\n",
    "\n",
    "- Data for this notebook is in the `kf-model-fhir/project` folder. \n",
    "- Conformance resources like StructureDefinitions and SearchParameters are in `kf-model-fhir/project/profiles` \n",
    "- Dummy resources that were generated from the step earlier are located `kf-model-fhir/project/resources`"
   ]
  },
  {
   "cell_type": "code",
   "execution_count": 3,
   "metadata": {},
   "outputs": [
    {
     "name": "stderr",
     "output_type": "stream",
     "text": [
      "2019-12-02 12:52:24,313 - kf_model_fhir.loader - DEBUG - Reading resource file: /Users/singhn4/Projects/kids_first/kf-model-fhir/project/resources/Condition-CD-00000-0.json\n",
      "2019-12-02 12:52:24,318 - kf_model_fhir.loader - DEBUG - Reading resource file: /Users/singhn4/Projects/kids_first/kf-model-fhir/project/resources/Condition-CD-00001-0.json\n",
      "2019-12-02 12:52:24,319 - kf_model_fhir.loader - DEBUG - Reading resource file: /Users/singhn4/Projects/kids_first/kf-model-fhir/project/resources/Condition-CD-00002-0.json\n",
      "2019-12-02 12:52:24,321 - kf_model_fhir.loader - DEBUG - Reading resource file: /Users/singhn4/Projects/kids_first/kf-model-fhir/project/resources/Condition-CD-00003-0.json\n",
      "2019-12-02 12:52:24,322 - kf_model_fhir.loader - DEBUG - Reading resource file: /Users/singhn4/Projects/kids_first/kf-model-fhir/project/resources/Condition-CD-00004-0.json\n",
      "2019-12-02 12:52:24,323 - kf_model_fhir.loader - DEBUG - Reading resource file: /Users/singhn4/Projects/kids_first/kf-model-fhir/project/resources/Condition-CD-00005-0.json\n",
      "2019-12-02 12:52:24,324 - kf_model_fhir.loader - DEBUG - Reading resource file: /Users/singhn4/Projects/kids_first/kf-model-fhir/project/resources/Condition-CD-00006-0.json\n",
      "2019-12-02 12:52:24,327 - kf_model_fhir.loader - DEBUG - Reading resource file: /Users/singhn4/Projects/kids_first/kf-model-fhir/project/resources/Condition-CD-00007-0.json\n",
      "2019-12-02 12:52:24,328 - kf_model_fhir.loader - DEBUG - Reading resource file: /Users/singhn4/Projects/kids_first/kf-model-fhir/project/resources/Condition-CD-00008-0.json\n",
      "2019-12-02 12:52:24,329 - kf_model_fhir.loader - DEBUG - Reading resource file: /Users/singhn4/Projects/kids_first/kf-model-fhir/project/resources/Condition-CD-00009-0.json\n",
      "2019-12-02 12:52:24,330 - kf_model_fhir.loader - DEBUG - Reading resource file: /Users/singhn4/Projects/kids_first/kf-model-fhir/project/resources/Observation-OB-00000-0.json\n",
      "2019-12-02 12:52:24,331 - kf_model_fhir.loader - DEBUG - Reading resource file: /Users/singhn4/Projects/kids_first/kf-model-fhir/project/resources/Observation-OB-00001-0.json\n",
      "2019-12-02 12:52:24,333 - kf_model_fhir.loader - DEBUG - Reading resource file: /Users/singhn4/Projects/kids_first/kf-model-fhir/project/resources/Observation-OB-00002-0.json\n",
      "2019-12-02 12:52:24,334 - kf_model_fhir.loader - DEBUG - Reading resource file: /Users/singhn4/Projects/kids_first/kf-model-fhir/project/resources/Observation-OB-00003-0.json\n",
      "2019-12-02 12:52:24,337 - kf_model_fhir.loader - DEBUG - Reading resource file: /Users/singhn4/Projects/kids_first/kf-model-fhir/project/resources/Observation-OB-00004-0.json\n",
      "2019-12-02 12:52:24,343 - kf_model_fhir.loader - DEBUG - Reading resource file: /Users/singhn4/Projects/kids_first/kf-model-fhir/project/resources/Observation-OB-00005-0.json\n",
      "2019-12-02 12:52:24,345 - kf_model_fhir.loader - DEBUG - Reading resource file: /Users/singhn4/Projects/kids_first/kf-model-fhir/project/resources/Observation-OB-00006-0.json\n",
      "2019-12-02 12:52:24,347 - kf_model_fhir.loader - DEBUG - Reading resource file: /Users/singhn4/Projects/kids_first/kf-model-fhir/project/resources/Observation-OB-00007-0.json\n",
      "2019-12-02 12:52:24,352 - kf_model_fhir.loader - DEBUG - Reading resource file: /Users/singhn4/Projects/kids_first/kf-model-fhir/project/resources/Observation-OB-00008-0.json\n",
      "2019-12-02 12:52:24,353 - kf_model_fhir.loader - DEBUG - Reading resource file: /Users/singhn4/Projects/kids_first/kf-model-fhir/project/resources/Observation-OB-00009-0.json\n",
      "2019-12-02 12:52:24,355 - kf_model_fhir.loader - DEBUG - Reading resource file: /Users/singhn4/Projects/kids_first/kf-model-fhir/project/resources/Patient-PT-00000.json\n",
      "2019-12-02 12:52:24,356 - kf_model_fhir.loader - DEBUG - Reading resource file: /Users/singhn4/Projects/kids_first/kf-model-fhir/project/resources/Patient-PT-00001.json\n",
      "2019-12-02 12:52:24,357 - kf_model_fhir.loader - DEBUG - Reading resource file: /Users/singhn4/Projects/kids_first/kf-model-fhir/project/resources/Patient-PT-00002.json\n",
      "2019-12-02 12:52:24,359 - kf_model_fhir.loader - DEBUG - Reading resource file: /Users/singhn4/Projects/kids_first/kf-model-fhir/project/resources/Patient-PT-00003.json\n",
      "2019-12-02 12:52:24,360 - kf_model_fhir.loader - DEBUG - Reading resource file: /Users/singhn4/Projects/kids_first/kf-model-fhir/project/resources/Patient-PT-00004.json\n",
      "2019-12-02 12:52:24,361 - kf_model_fhir.loader - DEBUG - Reading resource file: /Users/singhn4/Projects/kids_first/kf-model-fhir/project/resources/Patient-PT-00005.json\n",
      "2019-12-02 12:52:24,362 - kf_model_fhir.loader - DEBUG - Reading resource file: /Users/singhn4/Projects/kids_first/kf-model-fhir/project/resources/Patient-PT-00006.json\n",
      "2019-12-02 12:52:24,364 - kf_model_fhir.loader - DEBUG - Reading resource file: /Users/singhn4/Projects/kids_first/kf-model-fhir/project/resources/Patient-PT-00007.json\n",
      "2019-12-02 12:52:24,365 - kf_model_fhir.loader - DEBUG - Reading resource file: /Users/singhn4/Projects/kids_first/kf-model-fhir/project/resources/Patient-PT-00008.json\n",
      "2019-12-02 12:52:24,366 - kf_model_fhir.loader - DEBUG - Reading resource file: /Users/singhn4/Projects/kids_first/kf-model-fhir/project/resources/Patient-PT-00009.json\n",
      "2019-12-02 12:52:24,367 - kf_model_fhir.loader - DEBUG - Reading resource file: /Users/singhn4/Projects/kids_first/kf-model-fhir/project/resources/ResearchStudy-SD-00000.json\n",
      "2019-12-02 12:52:24,369 - kf_model_fhir.loader - DEBUG - Reading resource file: /Users/singhn4/Projects/kids_first/kf-model-fhir/project/resources/ResearchStudy-SD-00001.json\n",
      "2019-12-02 12:52:24,370 - kf_model_fhir.loader - DEBUG - Reading resource file: /Users/singhn4/Projects/kids_first/kf-model-fhir/project/resources/ResearchSubject-RS-00000.json\n",
      "2019-12-02 12:52:24,371 - kf_model_fhir.loader - DEBUG - Reading resource file: /Users/singhn4/Projects/kids_first/kf-model-fhir/project/resources/ResearchSubject-RS-00001.json\n",
      "2019-12-02 12:52:24,372 - kf_model_fhir.loader - DEBUG - Reading resource file: /Users/singhn4/Projects/kids_first/kf-model-fhir/project/resources/ResearchSubject-RS-00002.json\n",
      "2019-12-02 12:52:24,374 - kf_model_fhir.loader - DEBUG - Reading resource file: /Users/singhn4/Projects/kids_first/kf-model-fhir/project/resources/ResearchSubject-RS-00003.json\n",
      "2019-12-02 12:52:24,377 - kf_model_fhir.loader - DEBUG - Reading resource file: /Users/singhn4/Projects/kids_first/kf-model-fhir/project/resources/ResearchSubject-RS-00004.json\n",
      "2019-12-02 12:52:24,379 - kf_model_fhir.loader - DEBUG - Reading resource file: /Users/singhn4/Projects/kids_first/kf-model-fhir/project/resources/ResearchSubject-RS-00005.json\n",
      "2019-12-02 12:52:24,381 - kf_model_fhir.loader - DEBUG - Reading resource file: /Users/singhn4/Projects/kids_first/kf-model-fhir/project/resources/ResearchSubject-RS-00006.json\n",
      "2019-12-02 12:52:24,382 - kf_model_fhir.loader - DEBUG - Reading resource file: /Users/singhn4/Projects/kids_first/kf-model-fhir/project/resources/ResearchSubject-RS-00007.json\n",
      "2019-12-02 12:52:24,384 - kf_model_fhir.loader - DEBUG - Reading resource file: /Users/singhn4/Projects/kids_first/kf-model-fhir/project/resources/ResearchSubject-RS-00008.json\n",
      "2019-12-02 12:52:24,386 - kf_model_fhir.loader - DEBUG - Reading resource file: /Users/singhn4/Projects/kids_first/kf-model-fhir/project/resources/ResearchSubject-RS-00009.json\n",
      "2019-12-02 12:52:24,388 - kf_model_fhir.loader - DEBUG - Reading resource file: /Users/singhn4/Projects/kids_first/kf-model-fhir/project/resources/Specimen-BS-00000-0.json\n",
      "2019-12-02 12:52:24,389 - kf_model_fhir.loader - DEBUG - Reading resource file: /Users/singhn4/Projects/kids_first/kf-model-fhir/project/resources/Specimen-BS-00000-1.json\n",
      "2019-12-02 12:52:24,390 - kf_model_fhir.loader - DEBUG - Reading resource file: /Users/singhn4/Projects/kids_first/kf-model-fhir/project/resources/Specimen-BS-00001-0.json\n",
      "2019-12-02 12:52:24,391 - kf_model_fhir.loader - DEBUG - Reading resource file: /Users/singhn4/Projects/kids_first/kf-model-fhir/project/resources/Specimen-BS-00001-1.json\n",
      "2019-12-02 12:52:24,392 - kf_model_fhir.loader - DEBUG - Reading resource file: /Users/singhn4/Projects/kids_first/kf-model-fhir/project/resources/Specimen-BS-00002-0.json\n",
      "2019-12-02 12:52:24,393 - kf_model_fhir.loader - DEBUG - Reading resource file: /Users/singhn4/Projects/kids_first/kf-model-fhir/project/resources/Specimen-BS-00002-1.json\n"
     ]
    },
    {
     "name": "stderr",
     "output_type": "stream",
     "text": [
      "2019-12-02 12:52:24,394 - kf_model_fhir.loader - DEBUG - Reading resource file: /Users/singhn4/Projects/kids_first/kf-model-fhir/project/resources/Specimen-BS-00003-0.json\n",
      "2019-12-02 12:52:24,396 - kf_model_fhir.loader - DEBUG - Reading resource file: /Users/singhn4/Projects/kids_first/kf-model-fhir/project/resources/Specimen-BS-00003-1.json\n",
      "2019-12-02 12:52:24,397 - kf_model_fhir.loader - DEBUG - Reading resource file: /Users/singhn4/Projects/kids_first/kf-model-fhir/project/resources/Specimen-BS-00004-0.json\n",
      "2019-12-02 12:52:24,398 - kf_model_fhir.loader - DEBUG - Reading resource file: /Users/singhn4/Projects/kids_first/kf-model-fhir/project/resources/Specimen-BS-00004-1.json\n",
      "2019-12-02 12:52:24,399 - kf_model_fhir.loader - DEBUG - Reading resource file: /Users/singhn4/Projects/kids_first/kf-model-fhir/project/resources/Specimen-BS-00005-0.json\n",
      "2019-12-02 12:52:24,400 - kf_model_fhir.loader - DEBUG - Reading resource file: /Users/singhn4/Projects/kids_first/kf-model-fhir/project/resources/Specimen-BS-00005-1.json\n",
      "2019-12-02 12:52:24,401 - kf_model_fhir.loader - DEBUG - Reading resource file: /Users/singhn4/Projects/kids_first/kf-model-fhir/project/resources/Specimen-BS-00006-0.json\n",
      "2019-12-02 12:52:24,402 - kf_model_fhir.loader - DEBUG - Reading resource file: /Users/singhn4/Projects/kids_first/kf-model-fhir/project/resources/Specimen-BS-00006-1.json\n",
      "2019-12-02 12:52:24,403 - kf_model_fhir.loader - DEBUG - Reading resource file: /Users/singhn4/Projects/kids_first/kf-model-fhir/project/resources/Specimen-BS-00007-0.json\n",
      "2019-12-02 12:52:24,404 - kf_model_fhir.loader - DEBUG - Reading resource file: /Users/singhn4/Projects/kids_first/kf-model-fhir/project/resources/Specimen-BS-00007-1.json\n",
      "2019-12-02 12:52:24,405 - kf_model_fhir.loader - DEBUG - Reading resource file: /Users/singhn4/Projects/kids_first/kf-model-fhir/project/resources/Specimen-BS-00008-0.json\n",
      "2019-12-02 12:52:24,407 - kf_model_fhir.loader - DEBUG - Reading resource file: /Users/singhn4/Projects/kids_first/kf-model-fhir/project/resources/Specimen-BS-00008-1.json\n",
      "2019-12-02 12:52:24,408 - kf_model_fhir.loader - DEBUG - Reading resource file: /Users/singhn4/Projects/kids_first/kf-model-fhir/project/resources/Specimen-BS-00009-0.json\n",
      "2019-12-02 12:52:24,411 - kf_model_fhir.loader - DEBUG - Reading resource file: /Users/singhn4/Projects/kids_first/kf-model-fhir/project/resources/Specimen-BS-00009-1.json\n"
     ]
    },
    {
     "data": {
      "text/html": [
       "<div>\n",
       "<style scoped>\n",
       "    .dataframe tbody tr th:only-of-type {\n",
       "        vertical-align: middle;\n",
       "    }\n",
       "\n",
       "    .dataframe tbody tr th {\n",
       "        vertical-align: top;\n",
       "    }\n",
       "\n",
       "    .dataframe thead th {\n",
       "        text-align: right;\n",
       "    }\n",
       "</style>\n",
       "<table border=\"1\" class=\"dataframe\">\n",
       "  <thead>\n",
       "    <tr style=\"text-align: right;\">\n",
       "      <th></th>\n",
       "      <th>resource_type</th>\n",
       "      <th>id</th>\n",
       "      <th>references</th>\n",
       "    </tr>\n",
       "  </thead>\n",
       "  <tbody>\n",
       "    <tr>\n",
       "      <th>0</th>\n",
       "      <td>Condition</td>\n",
       "      <td>CD-00000-0</td>\n",
       "      <td>Patient/PT-00000</td>\n",
       "    </tr>\n",
       "    <tr>\n",
       "      <th>1</th>\n",
       "      <td>Condition</td>\n",
       "      <td>CD-00001-0</td>\n",
       "      <td>Patient/PT-00001</td>\n",
       "    </tr>\n",
       "    <tr>\n",
       "      <th>2</th>\n",
       "      <td>Condition</td>\n",
       "      <td>CD-00002-0</td>\n",
       "      <td>Patient/PT-00002</td>\n",
       "    </tr>\n",
       "    <tr>\n",
       "      <th>3</th>\n",
       "      <td>Condition</td>\n",
       "      <td>CD-00003-0</td>\n",
       "      <td>Patient/PT-00003</td>\n",
       "    </tr>\n",
       "    <tr>\n",
       "      <th>4</th>\n",
       "      <td>Condition</td>\n",
       "      <td>CD-00004-0</td>\n",
       "      <td>Patient/PT-00004</td>\n",
       "    </tr>\n",
       "    <tr>\n",
       "      <th>...</th>\n",
       "      <td>...</td>\n",
       "      <td>...</td>\n",
       "      <td>...</td>\n",
       "    </tr>\n",
       "    <tr>\n",
       "      <th>57</th>\n",
       "      <td>Specimen</td>\n",
       "      <td>BS-00007-1</td>\n",
       "      <td>Patient/PT-00007</td>\n",
       "    </tr>\n",
       "    <tr>\n",
       "      <th>58</th>\n",
       "      <td>Specimen</td>\n",
       "      <td>BS-00008-0</td>\n",
       "      <td>Patient/PT-00008</td>\n",
       "    </tr>\n",
       "    <tr>\n",
       "      <th>59</th>\n",
       "      <td>Specimen</td>\n",
       "      <td>BS-00008-1</td>\n",
       "      <td>Patient/PT-00008</td>\n",
       "    </tr>\n",
       "    <tr>\n",
       "      <th>60</th>\n",
       "      <td>Specimen</td>\n",
       "      <td>BS-00009-0</td>\n",
       "      <td>Patient/PT-00009</td>\n",
       "    </tr>\n",
       "    <tr>\n",
       "      <th>61</th>\n",
       "      <td>Specimen</td>\n",
       "      <td>BS-00009-1</td>\n",
       "      <td>Patient/PT-00009</td>\n",
       "    </tr>\n",
       "  </tbody>\n",
       "</table>\n",
       "<p>62 rows × 3 columns</p>\n",
       "</div>"
      ],
      "text/plain": [
       "   resource_type          id        references\n",
       "0      Condition  CD-00000-0  Patient/PT-00000\n",
       "1      Condition  CD-00001-0  Patient/PT-00001\n",
       "2      Condition  CD-00002-0  Patient/PT-00002\n",
       "3      Condition  CD-00003-0  Patient/PT-00003\n",
       "4      Condition  CD-00004-0  Patient/PT-00004\n",
       "..           ...         ...               ...\n",
       "57      Specimen  BS-00007-1  Patient/PT-00007\n",
       "58      Specimen  BS-00008-0  Patient/PT-00008\n",
       "59      Specimen  BS-00008-1  Patient/PT-00008\n",
       "60      Specimen  BS-00009-0  Patient/PT-00009\n",
       "61      Specimen  BS-00009-1  Patient/PT-00009\n",
       "\n",
       "[62 rows x 3 columns]"
      ]
     },
     "metadata": {},
     "output_type": "display_data"
    },
    {
     "data": {
      "text/plain": [
       "resource_type\n",
       "Condition          10\n",
       "Observation        10\n",
       "Patient            10\n",
       "ResearchStudy       2\n",
       "ResearchSubject    10\n",
       "Specimen           20\n",
       "dtype: int64"
      ]
     },
     "metadata": {},
     "output_type": "display_data"
    }
   ],
   "source": [
    "resources = load_resources(os.path.join(PROJECT_DIR, 'resources'))\n",
    "df = pandas.DataFrame(\n",
    "    [\n",
    "        {'resource_type': r['resource_type'],\n",
    "         'id': r['content'].get('id'),\n",
    "         'references': r['content'].get('subject', {}).get('reference'),\n",
    "        }\n",
    "        for r in resources\n",
    "    ]\n",
    ")\n",
    "display(df)\n",
    "counts = df.groupby(['resource_type']).size()\n",
    "display(counts)"
   ]
  },
  {
   "cell_type": "markdown",
   "metadata": {},
   "source": [
    "## Load the Test Data\n",
    "\n",
    "This might take a couple minutes. Our test data is deleted first from every server and than POST/PUT to every server. The servers are slow"
   ]
  },
  {
   "cell_type": "markdown",
   "metadata": {},
   "source": [
    "### You might be able to skip this since the servers probably have data loaded"
   ]
  },
  {
   "cell_type": "code",
   "execution_count": 4,
   "metadata": {},
   "outputs": [],
   "source": [
    "# Publish profiles and resources to server\n",
    "# load_all_servers(server_names=['smile-cdr'])"
   ]
  },
  {
   "cell_type": "markdown",
   "metadata": {},
   "source": [
    "## FHIR Search API Spec\n",
    "\n",
    "https://www.hl7.org/fhir/search.html"
   ]
  },
  {
   "cell_type": "markdown",
   "metadata": {},
   "source": [
    "## What are SearchParameters?\n",
    "\n",
    "https://www.hl7.org/fhir/searchparameter.html"
   ]
  },
  {
   "cell_type": "markdown",
   "metadata": {},
   "source": [
    "You might be wondering how you can do a query like this: `/Patient?family=Holmes` because `family` is a nested attribute in the Patient payload: `name: [ {family: Holmes} ]`. Well, this is where SearchParameters come in!\n",
    "\n",
    "A SearchParameter is a conformance resource that defines what part of the resource payload to get the value of a search attribute. For example, in the SearchParameter definition for `family`, it probably has a path defined in it like this: `Patient.name.family`. Since `family` is part of the base FHIR Patient resource, this SearchParameter is probably already loaded into most FHIR servers that have the base FHIR resources.\n",
    "\n",
    "If you really want to see what the SearchParameter looks like try this:"
   ]
  },
  {
   "cell_type": "code",
   "execution_count": 5,
   "metadata": {},
   "outputs": [
    {
     "ename": "NameError",
     "evalue": "name 'get' is not defined",
     "output_type": "error",
     "traceback": [
      "\u001b[0;31m---------------------------------------------------------------------------\u001b[0m",
      "\u001b[0;31mNameError\u001b[0m                                 Traceback (most recent call last)",
      "\u001b[0;32m<ipython-input-5-ae657f670c29>\u001b[0m in \u001b[0;36m<module>\u001b[0;34m\u001b[0m\n\u001b[1;32m      1\u001b[0m \u001b[0murl\u001b[0m \u001b[0;34m=\u001b[0m \u001b[0;34mf\"{SERVER_CONFIG['smile-cdr']['base_url']}/SearchParameter\"\u001b[0m\u001b[0;34m\u001b[0m\u001b[0;34m\u001b[0m\u001b[0m\n\u001b[1;32m      2\u001b[0m \u001b[0mparams\u001b[0m \u001b[0;34m=\u001b[0m \u001b[0;34m{\u001b[0m\u001b[0;34m'base'\u001b[0m\u001b[0;34m:\u001b[0m \u001b[0;34m'Patient'\u001b[0m\u001b[0;34m,\u001b[0m \u001b[0;34m'code'\u001b[0m\u001b[0;34m:\u001b[0m \u001b[0;34m'family'\u001b[0m\u001b[0;34m}\u001b[0m\u001b[0;34m\u001b[0m\u001b[0;34m\u001b[0m\u001b[0m\n\u001b[0;32m----> 3\u001b[0;31m \u001b[0mresp\u001b[0m\u001b[0;34m,\u001b[0m \u001b[0mstatus_code\u001b[0m \u001b[0;34m=\u001b[0m \u001b[0mget\u001b[0m\u001b[0;34m(\u001b[0m\u001b[0murl\u001b[0m\u001b[0;34m,\u001b[0m \u001b[0mparams\u001b[0m\u001b[0;34m=\u001b[0m\u001b[0mparams\u001b[0m\u001b[0;34m)\u001b[0m\u001b[0;34m\u001b[0m\u001b[0;34m\u001b[0m\u001b[0m\n\u001b[0m\u001b[1;32m      4\u001b[0m \u001b[0mprint\u001b[0m\u001b[0;34m(\u001b[0m\u001b[0;34m'\\nSearchParameter definition for `family` attribute on Patient resource\\n'\u001b[0m\u001b[0;34m)\u001b[0m\u001b[0;34m\u001b[0m\u001b[0;34m\u001b[0m\u001b[0m\n\u001b[1;32m      5\u001b[0m \u001b[0mpprint\u001b[0m\u001b[0;34m(\u001b[0m\u001b[0mresp\u001b[0m\u001b[0;34m[\u001b[0m\u001b[0;34m'entry'\u001b[0m\u001b[0;34m]\u001b[0m\u001b[0;34m[\u001b[0m\u001b[0;36m0\u001b[0m\u001b[0;34m]\u001b[0m\u001b[0;34m[\u001b[0m\u001b[0;34m'resource'\u001b[0m\u001b[0;34m]\u001b[0m\u001b[0;34m)\u001b[0m\u001b[0;34m\u001b[0m\u001b[0;34m\u001b[0m\u001b[0m\n",
      "\u001b[0;31mNameError\u001b[0m: name 'get' is not defined"
     ]
    }
   ],
   "source": [
    "url = f\"{SERVER_CONFIG['smile-cdr']['base_url']}/SearchParameter\"\n",
    "params = {'base': 'Patient', 'code': 'family'}\n",
    "resp, status_code = get(url, params=params)\n",
    "print('\\nSearchParameter definition for `family` attribute on Patient resource\\n')\n",
    "pprint(resp['entry'][0]['resource'])"
   ]
  },
  {
   "cell_type": "markdown",
   "metadata": {},
   "source": [
    "## Basic Queries"
   ]
  },
  {
   "cell_type": "code",
   "execution_count": null,
   "metadata": {},
   "outputs": [],
   "source": [
    "queries = [\n",
    "    {\n",
    "        'desc': 'Get all patients',\n",
    "        'endpoint': 'Patient',\n",
    "        'params': {}\n",
    "    },\n",
    "    {\n",
    "        'desc': 'Get all female patients',            \n",
    "        'endpoint': 'Patient',\n",
    "        'params': {'gender': 'female'}\n",
    "    },\n",
    "    {\n",
    "        'desc': 'Get all female patients with last name = Holmes',        \n",
    "        'endpoint': 'Patient',\n",
    "        'params': {'gender': 'female', 'family': 'Holmes'}\n",
    "    }\n",
    "]\n",
    "execute_queries(queries)"
   ]
  },
  {
   "cell_type": "markdown",
   "metadata": {},
   "source": [
    "## Using Modifiers\n",
    "\n",
    "These are strings that start and/or end with `:` and get appended onto the name of the search parameter\n",
    "you're using in a query.\n",
    "\n",
    "https://www.hl7.org/fhir/search.html#modifiers"
   ]
  },
  {
   "cell_type": "code",
   "execution_count": null,
   "metadata": {},
   "outputs": [],
   "source": [
    "queries = [\n",
    "    {\n",
    "        'desc': 'Get all patients missing the gender attribute',\n",
    "        'endpoint': 'Patient',\n",
    "        'params': {'gender:missing': True}\n",
    "    },\n",
    "    {\n",
    "        'desc': 'Get all patients that are NOT female',            \n",
    "        'endpoint': 'Patient',\n",
    "        'params': {'gender:not': 'female'}\n",
    "    },\n",
    "    {\n",
    "        'desc': 'Get all female patients with name containing Hol',        \n",
    "        'endpoint': 'Patient',\n",
    "        'params': {'gender': 'female', 'name:contains': 'Hol'}\n",
    "    },\n",
    "]\n",
    "execute_queries(queries)"
   ]
  },
  {
   "cell_type": "markdown",
   "metadata": {},
   "source": [
    "## Comparison Operators\n",
    "\n",
    "These represent comparators like >, <, =, <=, >=, etc.\n",
    "\n",
    "https://www.hl7.org/fhir/search.html#prefix"
   ]
  },
  {
   "cell_type": "code",
   "execution_count": null,
   "metadata": {},
   "outputs": [],
   "source": [
    "queries = [\n",
    "    {\n",
    "        'desc': 'Get all glucose in blood observations with value > 5 mmol/l',\n",
    "        'endpoint': 'Observation',\n",
    "        'params': {'value-quantity': 'gt5', 'code': '15074-8'}\n",
    "    }\n",
    "]\n",
    "execute_queries(queries)"
   ]
  },
  {
   "cell_type": "markdown",
   "metadata": {},
   "source": [
    "## Searching Coded Things"
   ]
  },
  {
   "cell_type": "markdown",
   "metadata": {},
   "source": [
    "Tokens are basically coded things - its an attribute with a code, that comes from a system, and has associated\n",
    "text too. If a SearchParameter is of type `token` this means when used in a query, by default, the token's\n",
    "code is searched.\n",
    "\n",
    "For example Specimen.bodysite is a `token` type search parameter. That means\n",
    "you can search for specimens by bodysite codes like this: /Specimen?bodysite=49852007\n",
    "    \n",
    "Also by default (if server supports it) you can search for a token by its text like this:\n",
    "/Specimen?bodysite:text=<text version representation of 49852007>\n",
    "\n",
    "https://www.hl7.org/fhir/search.html#token"
   ]
  },
  {
   "cell_type": "code",
   "execution_count": null,
   "metadata": {},
   "outputs": [],
   "source": [
    "queries = [\n",
    "    {\n",
    "        'desc': 'Get all specimens with code text = Left median cubital vein',\n",
    "        'endpoint': 'Specimen',\n",
    "        'params': {'bodysite:text': 'Left median cubital vein'}\n",
    "    },\n",
    "    {\n",
    "        'desc': 'Get all specimens with bodysite code = 49852007 (Left median cubital vein)',            \n",
    "        'endpoint': 'Specimen',\n",
    "        'params': {'bodysite': '49852007'}\n",
    "    },\n",
    "    {\n",
    "        'desc': 'Get all anemia conditions by code',            \n",
    "        'endpoint': 'Condition',\n",
    "        'params': {'code': '271737000'}\n",
    "    }\n",
    "]\n",
    "execute_queries(queries)"
   ]
  },
  {
   "cell_type": "markdown",
   "metadata": {},
   "source": [
    "## Search Using References\n",
    "\n",
    "Chaining and reverse chaining\n",
    "\n",
    "https://www.hl7.org/fhir/search.html#chaining"
   ]
  },
  {
   "cell_type": "code",
   "execution_count": null,
   "metadata": {},
   "outputs": [],
   "source": [
    "# Get a sample patient name\n",
    "from pprint import pprint\n",
    "c = SERVER_CONFIG['azure']\n",
    "patient, sc = get(f\"{c['base_url']}/Patient/PT-00001\")\n",
    "patient_name = patient['name'][0]['given'][0]\n",
    "\n",
    "queries = [\n",
    "    {\n",
    "        'desc': 'Get all specimens for a patient by patient ID',\n",
    "        'endpoint': 'Specimen',\n",
    "        'params': {'subject:Patient': \"PT-00001\"}\n",
    "    },\n",
    "    {\n",
    "        'desc': 'Get all specimens for a patient using their name (chained search parameters)',\n",
    "        'endpoint': 'Specimen',\n",
    "        'params': {'subject:Patient.name': patient_name}\n",
    "    },\n",
    "    {\n",
    "        'desc': 'Get patients with a specimen that has body site denoted by <code> (reverse chained parameters)',\n",
    "        'endpoint': 'Patient',\n",
    "        'params': {'_has:Specimen:patient:bodysite': '49852007'}\n",
    "    },\n",
    "    {\n",
    "#        This should return all patients - since every observation is a (15074-8) glucose in blood\n",
    "        'desc': 'Get all the patients that have a Specimen where specimen has an observation.status=final.',\n",
    "        'endpoint': 'Patient',\n",
    "        'params': {'_has:Specimen:patient:_has:Observation:code': '15074-8'}\n",
    "    },\n",
    "]\n",
    "\n",
    "execute_queries(queries)"
   ]
  },
  {
   "cell_type": "markdown",
   "metadata": {},
   "source": [
    "## Include Referenced Resources\n",
    "\n",
    "`_include` = Get child with its parent \n",
    "\n",
    "`_revinclude` = Get parent with all of its children\n",
    "\n",
    "Both return nested resources in the payload\n",
    "\n",
    "https://www.hl7.org/fhir/search.html#revinclude"
   ]
  },
  {
   "cell_type": "code",
   "execution_count": null,
   "metadata": {},
   "outputs": [],
   "source": [
    "queries = [\n",
    "    {\n",
    "        'desc': 'Get a specimens with its patient',\n",
    "        'endpoint': 'Specimen',\n",
    "        'params': {'identifier': \"BS-00001-0\",\n",
    "         '_include': 'Specimen:patient'}\n",
    "    },\n",
    "    {\n",
    "        'desc': 'Get an observation and the specimen it is about',\n",
    "        'endpoint': 'Observation',\n",
    "        'params': {'identifier': \"OB-00001-0\",\n",
    "         '_include': 'Observation:specimen'}\n",
    "    },\n",
    "    {\n",
    "        'desc': 'Get a patient with all of its specimens',\n",
    "        'endpoint': 'Patient',\n",
    "        'params': {'identifier': \"PT-00001\", '_include': 'Patient:specimen'}\n",
    "    }\n",
    "]\n",
    "execute_queries(queries, display_content=True)\n"
   ]
  },
  {
   "cell_type": "markdown",
   "metadata": {},
   "source": [
    "## Full Text Search"
   ]
  },
  {
   "cell_type": "code",
   "execution_count": null,
   "metadata": {},
   "outputs": [],
   "source": [
    "queries = [\n",
    "    {\n",
    "        'desc': 'Full text search - get all specimens w/ code text = Left median cubital vein',\n",
    "        'endpoint': 'Specimen',\n",
    "        'params': {'_content': '\"Left median cubital vein\"'}\n",
    "    }\n",
    "]\n",
    "execute_queries(queries)"
   ]
  },
  {
   "cell_type": "markdown",
   "metadata": {},
   "source": [
    "## Custom Search Parameter\n",
    "\n",
    "When you add an extension to a resource, you must create a SearchParameter in order to search for resources\n",
    "by that extension. For example, you've created an `race` extension and use that on Patient resources. Now\n",
    "you want to do searches like this: /Patient?race=2028-9 or /Patient?race:text=Asian. In order to do that\n",
    "you will need to create a SearchParameter for the race extension.\n",
    "\n",
    "The example queries below demonstrate searches with a custom search parameter"
   ]
  },
  {
   "cell_type": "code",
   "execution_count": null,
   "metadata": {
    "scrolled": true
   },
   "outputs": [],
   "source": [
    "queries = [\n",
    "    {\n",
    "        'desc': 'Search on extension - get all patients with particular race',\n",
    "        'endpoint': 'Patient',\n",
    "        'params': {'race': '2028-9'}\n",
    "    }\n",
    "]\n",
    "execute_queries(queries)"
   ]
  },
  {
   "cell_type": "markdown",
   "metadata": {},
   "source": [
    "## Custom Search Query\n",
    "\n",
    "Sometimes the RESTful FHIR search API cannot satisfy your query needs. It would be nice if you could query the underlying database(s) of the FHIR server directly. \n",
    "\n",
    "Aidbox is the only server solution that seems to support this via their API"
   ]
  },
  {
   "cell_type": "code",
   "execution_count": null,
   "metadata": {},
   "outputs": [],
   "source": [
    "# Only Aidbox supports this\n",
    "from requests.auth import HTTPBasicAuth\n",
    "\n",
    "c = SERVER_CONFIG['aidbox']\n",
    "sql_str = (\n",
    "    \"\"\"\n",
    "    SELECT\n",
    "    p.id AS patient_id,\n",
    "    s.id AS specimen_id,\n",
    "    s.resource AS specimen    \n",
    "    FROM \n",
    "    patient AS p\n",
    "    JOIN specimen AS s\n",
    "    ON p.id = s.resource->'subject'->>'id';\n",
    "    \"\"\"\n",
    ")\n",
    "url = f\"{c['base_url'].rstrip('/fhir')}/$sql\"\n",
    "resp = requests.post(\n",
    "    url,\n",
    "    auth=HTTPBasicAuth(c['username'], c['password']),\n",
    "    data=sql_str,\n",
    "    headers={'Content-Type': 'text/yaml'}\n",
    ")\n",
    "pprint(resp.json())"
   ]
  },
  {
   "cell_type": "markdown",
   "metadata": {},
   "source": [
    "## Exact Path Match\n",
    "\n",
    "This is only supported by Aidbox. Sometimes you want to search by an attribute in your resource payload, \n",
    "but you don't have a SearchParameter for it defined and loaded into the server. \n",
    "\n",
    "With aidbox, you can simply search by the path to that attribute in the resource payload. For example, I want to search for Specimens by the analyte type extension but I don't have a SearchParameter defined for it. I can search for Specimens by analyte type like this:"
   ]
  },
  {
   "cell_type": "code",
   "execution_count": null,
   "metadata": {},
   "outputs": [],
   "source": [
    "# Only Aidbox supports this\n",
    "queries = [\n",
    "    {\n",
    "        'desc': 'Get all specimens with analyte type = DNA',\n",
    "        'endpoint': 'Specimen',\n",
    "        'params': {'.extension.0.valueString': 'DNA'}\n",
    "    }\n",
    "]\n",
    "execute_queries(queries)"
   ]
  }
 ],
 "metadata": {
  "kernelspec": {
   "display_name": "Python 3",
   "language": "python",
   "name": "python3"
  },
  "language_info": {
   "codemirror_mode": {
    "name": "ipython",
    "version": 3
   },
   "file_extension": ".py",
   "mimetype": "text/x-python",
   "name": "python",
   "nbconvert_exporter": "python",
   "pygments_lexer": "ipython3",
   "version": "3.7.5"
  }
 },
 "nbformat": 4,
 "nbformat_minor": 2
}
