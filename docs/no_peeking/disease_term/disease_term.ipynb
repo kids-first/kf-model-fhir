{
 "cells": [
  {
   "cell_type": "code",
   "execution_count": null,
   "metadata": {},
   "outputs": [],
   "source": [
    "import json\n",
    "from pprint import pprint\n",
    "import os\n",
    "\n",
    "import pandas as pd\n",
    "\n",
    "from kf_model_fhir.client import FhirApiClient"
   ]
  },
  {
   "cell_type": "code",
   "execution_count": null,
   "metadata": {},
   "outputs": [],
   "source": [
    "FHIR_USER = os.environ('FHIR_USER')\n",
    "FHIR_PASS = os.environ('FHIR_PASS')\n",
    "BASE_URL = 'http://10.10.1.191:8000'\n",
    "FHIR_VERSION = '4.0.0'\n",
    "\n",
    "client = FhirApiClient(\n",
    "    base_url=BASE_URL, \n",
    "    fhir_version=FHIR_VERSION, \n",
    "    auth=(FHIR_USER, FHIR_PASS)\n",
    ")"
   ]
  },
  {
   "cell_type": "code",
   "execution_count": null,
   "metadata": {},
   "outputs": [],
   "source": [
    "def validate(\n",
    "        payload,\n",
    "        expected_success=True, \n",
    "        print_result=False,\n",
    "    ):\n",
    "    rt = payload.get('resourceType')\n",
    "    endpoint = f'{client.base_url}/{rt}'\n",
    "    \n",
    "    success = client.delete_all(\n",
    "        endpoint, params={'url': payload['url']}\n",
    "    )\n",
    "    print(f'DELETE {payload[\"url\"]}')\n",
    "    assert success\n",
    "    \n",
    "    success, result = client.send_request(\n",
    "        'POST', endpoint, json=payload\n",
    "    )\n",
    "    \n",
    "    if print_result:\n",
    "        pprint(result)\n",
    "        \n",
    "    print(f'POST {endpoint}, {payload.get(\"name\")}')\n",
    "    print(success == expected_success)    "
   ]
  },
  {
   "cell_type": "markdown",
   "metadata": {},
   "source": [
    "# Mondo"
   ]
  },
  {
   "cell_type": "code",
   "execution_count": null,
   "metadata": {},
   "outputs": [],
   "source": [
    "mondo_cs = {\n",
    "    \"resourceType\": \"CodeSystem\",\n",
    "    \"id\": \"disease-term-mondo\",\n",
    "    \"url\": \"http://fhir.kids-first.io/CodeSystem/disease-term-mondo\",\n",
    "    \"version\": \"0.1.0\",\n",
    "    \"name\": \"DiseaseTerminologyMondo\",\n",
    "    \"title\": \"Disease Terminology Mondo\",\n",
    "    \"status\": \"active\",\n",
    "    \"experimental\": True,\n",
    "    \"publisher\": \"Kids First DRC\",\n",
    "    \"description\": \"Imported Mondo terminology from OBO PURLs.\",\n",
    "    \"caseSensitive\": True,\n",
    "    \"valueSet\": \"http://fhir.kids-first.io/ValueSet/disease-term\",\n",
    "    \"content\": \"complete\",\n",
    "}"
   ]
  },
  {
   "cell_type": "code",
   "execution_count": null,
   "metadata": {},
   "outputs": [],
   "source": [
    "# With Avi's ontolpogy scraper\n",
    "cs_mondo = json.load(open('./codesystem_mondo.json'))\n",
    "mondo_cs['count'] = cs_mondo['count']\n",
    "mondo_cs['concept'] = cs_mondo['concept']"
   ]
  },
  {
   "cell_type": "code",
   "execution_count": null,
   "metadata": {},
   "outputs": [],
   "source": [
    "# With custom terminology from data\n",
    "mondo_concepts = []\n",
    "df = pd.read_csv('./disease_terminology.tsv', sep='\\t')\n",
    "for i, group in df[df.mondo_id_diagnosis != 'No Match'][[\n",
    "        'source_text_diagnosis', \n",
    "        'mondo_id_diagnosis'\n",
    "    ]].drop_duplicates().groupby('mondo_id_diagnosis'):\n",
    "    for _, row in group.iterrows():\n",
    "        mondo_concepts.append({\n",
    "            'code': row.mondo_id_diagnosis,\n",
    "            'display': row.source_text_diagnosis\n",
    "        })\n",
    "        break\n",
    "\n",
    "mondo_cs['count'] = len(mondo_concepts)\n",
    "mondo_cs['concept'] = mondo_concepts"
   ]
  },
  {
   "cell_type": "code",
   "execution_count": null,
   "metadata": {},
   "outputs": [],
   "source": [
    "json.dump(\n",
    "    mondo_cs, \n",
    "    open('./results/CodeSystem-disease-term-mondo.json', 'w'), \n",
    "    separators=(',', ':')\n",
    ")"
   ]
  },
  {
   "cell_type": "code",
   "execution_count": null,
   "metadata": {},
   "outputs": [],
   "source": [
    "validate(mondo_cs)"
   ]
  },
  {
   "cell_type": "markdown",
   "metadata": {},
   "source": [
    "# NCIt"
   ]
  },
  {
   "cell_type": "code",
   "execution_count": null,
   "metadata": {},
   "outputs": [],
   "source": [
    "ncit_cs = {\n",
    "    \"resourceType\": \"CodeSystem\",\n",
    "    \"id\": \"disease-term-ncit\",\n",
    "    \"url\": \"http://fhir.kids-first.io/CodeSystem/disease-term-ncit\",\n",
    "    \"version\": \"0.1.0\",\n",
    "    \"name\": \"DiseaseTerminologyNCIt\",\n",
    "    \"title\": \"Disease Terminology NCIt\",\n",
    "    \"status\": \"active\",\n",
    "    \"experimental\": True,\n",
    "    \"publisher\": \"Kids First DRC\",\n",
    "    \"description\": \"Imported NCIt terminology from OBO PURLs.\",\n",
    "    \"caseSensitive\": True,\n",
    "    \"valueSet\": \"http://fhir.kids-first.io/ValueSet/disease-term\",\n",
    "    \"content\": \"complete\"\n",
    "}"
   ]
  },
  {
   "cell_type": "code",
   "execution_count": null,
   "metadata": {},
   "outputs": [],
   "source": [
    "# With Avi's ontolpogy scraper\n",
    "cs_ncit = json.load(open('./codesystem_ncit.json'))\n",
    "ncit_cs['count'] = cs_ncit['count']\n",
    "ncit_cs['concept'] = cs_ncit['concept']"
   ]
  },
  {
   "cell_type": "code",
   "execution_count": null,
   "metadata": {},
   "outputs": [],
   "source": [
    "# With custom terminology from data\n",
    "ncit_concepts = []\n",
    "df = pd.read_csv('./disease_terminology.tsv', sep='\\t')\n",
    "for i, group in df[df.ncit_id_diagnosis != 'No Match'][[\n",
    "        'source_text_diagnosis', \n",
    "        'ncit_id_diagnosis'\n",
    "    ]].drop_duplicates().groupby('ncit_id_diagnosis'):\n",
    "    for _, row in group.iterrows():\n",
    "        ncit_concepts.append({\n",
    "            'code': row.ncit_id_diagnosis,\n",
    "            'display': row.source_text_diagnosis\n",
    "        })\n",
    "        break\n",
    "            \n",
    "ncit_cs['count'] = len(ncit_concepts)\n",
    "ncit_cs['concept'] = ncit_concepts"
   ]
  },
  {
   "cell_type": "code",
   "execution_count": null,
   "metadata": {},
   "outputs": [],
   "source": [
    "json.dump(\n",
    "    ncit_cs, \n",
    "    open('./results/CodeSystem-disease-term-ncit.json', 'w'), \n",
    "    separators=(',', ':')\n",
    ")"
   ]
  },
  {
   "cell_type": "code",
   "execution_count": null,
   "metadata": {},
   "outputs": [],
   "source": [
    "validate(ncit_cs)"
   ]
  },
  {
   "cell_type": "markdown",
   "metadata": {},
   "source": [
    "# Value Set"
   ]
  },
  {
   "cell_type": "code",
   "execution_count": null,
   "metadata": {},
   "outputs": [],
   "source": [
    "disease_term_vs = {\n",
    "    \"resourceType\": \"ValueSet\",\n",
    "    \"id\": \"disease-term\",\n",
    "    \"url\": \"http://fhir.kids-first.io/ValueSet/disease-term\",\n",
    "    \"version\": \"0.1.0\",\n",
    "    \"name\": \"DiseaseTerminology\",\n",
    "    \"title\": \"Disease Terminology\",\n",
    "    \"status\": \"active\",\n",
    "    \"experimental\": True,\n",
    "    \"publisher\": \"Kids First DRC\",\n",
    "    \"description\": \"Represents the biomedical terminologies of a disease.\",\n",
    "    \"compose\": {\n",
    "        \"include\": [\n",
    "            {\n",
    "                \"system\": \"http://fhir.kids-first.io/CodeSystem/disease-term-mondo\"\n",
    "            },\n",
    "            {\n",
    "                \"system\": \"http://fhir.kids-first.io/CodeSystem/disease-term-ncit\"\n",
    "            }\n",
    "        ]\n",
    "    }\n",
    "}"
   ]
  },
  {
   "cell_type": "code",
   "execution_count": null,
   "metadata": {},
   "outputs": [],
   "source": [
    "json.dump(    \n",
    "    disease_term_vs, \n",
    "    open('./results/ValueSet-disease-term.json', 'w'), \n",
    "    separators=(',', ':')\n",
    ")"
   ]
  },
  {
   "cell_type": "code",
   "execution_count": null,
   "metadata": {},
   "outputs": [],
   "source": [
    "validate(disease_term_vs)"
   ]
  },
  {
   "cell_type": "markdown",
   "metadata": {},
   "source": [
    "# Structure Definition"
   ]
  },
  {
   "cell_type": "markdown",
   "metadata": {},
   "source": [
    "## Disease Termology Extension"
   ]
  },
  {
   "cell_type": "code",
   "execution_count": null,
   "metadata": {},
   "outputs": [],
   "source": [
    "# Here's what a simple key-value extension with a string data type looks like:\n",
    "disease_term_ext = {\n",
    "    \"resourceType\" : \"StructureDefinition\",\n",
    "    \"id\": \"disease-term\",\n",
    "    \"extension\" : [\n",
    "        {\n",
    "            \"url\" : \"http://hl7.org/fhir/StructureDefinition/structuredefinition-wg\",\n",
    "            \"valueCode\" : \"oo\"\n",
    "        },\n",
    "        {\n",
    "            \"url\" : \"http://hl7.org/fhir/StructureDefinition/structuredefinition-fmm\",\n",
    "            \"valueInteger\" : 1\n",
    "        }\n",
    "    ],\n",
    "    \"url\" : \"http://fhir.kids-first.io/StructureDefinition/disease-term\",\n",
    "    \"version\" : \"0.1.0\",\n",
    "    \"name\" : \"DiseaseTerminology\",\n",
    "    \"title\" : \"Disease Terminology\",\n",
    "    \"status\" : \"active\",\n",
    "    \"date\" : \"2020-03-05\",\n",
    "    \"publisher\" : \"Kids First DRC\",\n",
    "    \"description\" : \"Disease terminology.\",\n",
    "    \"fhirVersion\" : \"4.0.0\",\n",
    "    \"kind\" : \"complex-type\",\n",
    "    \"abstract\" : False,\n",
    "    \"context\" : [{\n",
    "        \"type\" : \"element\",\n",
    "        \"expression\" : \"Condition\"\n",
    "    }],\n",
    "    \"type\" : \"Extension\",\n",
    "    \"baseDefinition\" : \"http://hl7.org/fhir/StructureDefinition/Extension\",\n",
    "    \"derivation\" : \"constraint\",\n",
    "    \"differential\" : {\n",
    "        \"element\": [\n",
    "            {\n",
    "                \"id\" : \"Extension\",\n",
    "                \"path\" : \"Extension\",\n",
    "                \"short\" : \"Disease terminology\",\n",
    "                \"definition\" : \"Disease terminology\",\n",
    "                \"min\" : 0,\n",
    "                \"max\" : \"1\",\n",
    "            },\n",
    "            {\n",
    "                \"id\" : \"Extension.extension\",\n",
    "                \"path\" : \"Extension.extension\",\n",
    "                \"max\" : \"0\"\n",
    "            },\n",
    "            {\n",
    "                \"id\" : \"Extension.url\",\n",
    "                \"path\" : \"Extension.url\",\n",
    "                \"type\": [\n",
    "                    {\n",
    "                        \"code\": \"uri\"\n",
    "                    }\n",
    "                ],\n",
    "                \"fixedUri\" : \"http://fhir.kids-first.io/StructureDefinition/disease-term\"\n",
    "            },\n",
    "            {\n",
    "                \"id\": \"Extension.valueCodeableConcept\",\n",
    "                \"path\": \"Extension.valueCodeableConcept\",\n",
    "                \"type\": [\n",
    "                    {\n",
    "                        \"code\": \"CodeableConcept\"\n",
    "                    }\n",
    "                ],\n",
    "                \"binding\": {\n",
    "                    \"extension\": [\n",
    "                        {\n",
    "                            \"url\": \"http://hl7.org/fhir/StructureDefinition/elementdefinition-bindingName\",\n",
    "                            \"valueString\": \"Disease Terminology\"\n",
    "                        }\n",
    "                    ],\n",
    "                    \"strength\": \"required\",\n",
    "                    \"valueSet\": \"http://fhir.kids-first.io/ValueSet/disease-term\"\n",
    "                }\n",
    "            }\n",
    "        ]\n",
    "    }\n",
    "}"
   ]
  },
  {
   "cell_type": "code",
   "execution_count": null,
   "metadata": {},
   "outputs": [],
   "source": [
    "json.dump(\n",
    "    disease_term_ext, \n",
    "    open('./results/StructureDefinition-disease-term.json', 'w'), \n",
    "    separators=(',', ':')\n",
    ")"
   ]
  },
  {
   "cell_type": "code",
   "execution_count": null,
   "metadata": {},
   "outputs": [],
   "source": [
    "validate(disease_term_ext)"
   ]
  },
  {
   "cell_type": "markdown",
   "metadata": {},
   "source": [
    "## Disease"
   ]
  },
  {
   "cell_type": "code",
   "execution_count": null,
   "metadata": {},
   "outputs": [],
   "source": [
    "disease_sd = json.load(open('../../../site_root/source/resources/StructureDefinition-Disease.json'))"
   ]
  },
  {
   "cell_type": "code",
   "execution_count": null,
   "metadata": {},
   "outputs": [],
   "source": [
    "disease_sd['differential']['element'].insert(3,\n",
    "    {\n",
    "        'id': 'Condition.extension:term',\n",
    "        'path': 'Condition.extension',\n",
    "        'sliceName': 'term',\n",
    "        'short': 'Disease terminology',\n",
    "        'definition': 'Disease terminology.',\n",
    "        'type': [{\n",
    "            'code': 'Extension',\n",
    "            'profile': ['http://fhir.kids-first.io/StructureDefinition/disease-term']\n",
    "        }],\n",
    "        'mustSupport': True\n",
    "    }\n",
    ")"
   ]
  },
  {
   "cell_type": "code",
   "execution_count": null,
   "metadata": {},
   "outputs": [],
   "source": [
    "json.dump(\n",
    "    disease_sd, \n",
    "    open('./results/StructureDefinition-Disease.json', 'w'), \n",
    "    separators=(',', ':')\n",
    ")"
   ]
  },
  {
   "cell_type": "code",
   "execution_count": null,
   "metadata": {},
   "outputs": [],
   "source": [
    "validate(disease_sd)"
   ]
  },
  {
   "cell_type": "markdown",
   "metadata": {},
   "source": [
    "# Search Parameter"
   ]
  },
  {
   "cell_type": "code",
   "execution_count": null,
   "metadata": {},
   "outputs": [],
   "source": [
    "disease_term_sp = {\n",
    "    \"resourceType\": \"SearchParameter\",\n",
    "    \"id\": \"disease-term\",\n",
    "    \"url\": \"http://fhir.kids-first.io/SearchParameter/disease-term\",\n",
    "    \"name\": \"disease-term\",\n",
    "    \"status\": \"active\",\n",
    "    \"experimental\": True,\n",
    "    \"publisher\": \"Kids First DRC\",\n",
    "    \"description\": \"Search for Diseases by terminology\",\n",
    "    \"code\": \"term\",\n",
    "    \"base\": [\"Condition\"],\n",
    "    \"type\": \"token\",\n",
    "    \"expression\": \"Condition.extension.where(url = 'http://fhir.kids-first.io/StructureDefinition/disease-term').value\",\n",
    "    \"target\": [\"Condition\"]\n",
    "}"
   ]
  },
  {
   "cell_type": "code",
   "execution_count": null,
   "metadata": {},
   "outputs": [],
   "source": [
    "json.dump(\n",
    "    disease_term_sp, \n",
    "    open('./results/SearchParameter-disease-term.json', 'w'), \n",
    "    separators=(',', ':')\n",
    ")"
   ]
  },
  {
   "cell_type": "code",
   "execution_count": null,
   "metadata": {},
   "outputs": [],
   "source": [
    "validate(disease_term_sp)"
   ]
  },
  {
   "cell_type": "code",
   "execution_count": null,
   "metadata": {},
   "outputs": [],
   "source": []
  }
 ],
 "metadata": {
  "kernelspec": {
   "display_name": "Python 3",
   "language": "python",
   "name": "python3"
  },
  "language_info": {
   "codemirror_mode": {
    "name": "ipython",
    "version": 3
   },
   "file_extension": ".py",
   "mimetype": "text/x-python",
   "name": "python",
   "nbconvert_exporter": "python",
   "pygments_lexer": "ipython3",
   "version": "3.7.5"
  }
 },
 "nbformat": 4,
 "nbformat_minor": 4
}
